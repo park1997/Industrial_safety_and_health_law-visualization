{
 "cells": [
  {
   "cell_type": "code",
   "execution_count": 1,
   "metadata": {},
   "outputs": [
    {
     "name": "stderr",
     "output_type": "stream",
     "text": [
      "C:\\Anaconda3\\lib\\site-packages\\gensim\\similarities\\__init__.py:15: UserWarning: The gensim.similarities.levenshtein submodule is disabled, because the optional Levenshtein package <https://pypi.org/project/python-Levenshtein/> is unavailable. Install Levenhstein (e.g. `pip install python-Levenshtein`) to suppress this warning.\n",
      "  warnings.warn(msg)\n"
     ]
    }
   ],
   "source": [
    "import requests\n",
    "from urllib.request import urlopen\n",
    "from urllib.parse import urlencode,unquote,quote_plus\n",
    "import urllib\n",
    "import lxml\n",
    "import pandas as pd\n",
    "import numpy as np\n",
    "from bs4 import BeautifulSoup\n",
    "import re\n",
    "import matplotlib.pyplot as plt\n",
    "from gensim.models.word2vec import Word2Vec\n",
    "from konlpy.tag import Okt"
   ]
  },
  {
   "cell_type": "code",
   "execution_count": 2,
   "metadata": {},
   "outputs": [
    {
     "data": {
      "text/html": [
       "<div>\n",
       "<style scoped>\n",
       "    .dataframe tbody tr th:only-of-type {\n",
       "        vertical-align: middle;\n",
       "    }\n",
       "\n",
       "    .dataframe tbody tr th {\n",
       "        vertical-align: top;\n",
       "    }\n",
       "\n",
       "    .dataframe thead th {\n",
       "        text-align: right;\n",
       "    }\n",
       "</style>\n",
       "<table border=\"1\" class=\"dataframe\">\n",
       "  <thead>\n",
       "    <tr style=\"text-align: right;\">\n",
       "      <th></th>\n",
       "      <th>키</th>\n",
       "      <th>조내용</th>\n",
       "    </tr>\n",
       "  </thead>\n",
       "  <tbody>\n",
       "    <tr>\n",
       "      <th>0</th>\n",
       "      <td>10011</td>\n",
       "      <td>제1조(목적) 이 법은 산업 안전 및 보건에 관한 기준을 확립하고 그 책임의 소재를...</td>\n",
       "    </tr>\n",
       "    <tr>\n",
       "      <th>1</th>\n",
       "      <td>20011</td>\n",
       "      <td>제2조(정의) 이 법에서 사용하는 용어의 뜻은 다음과 같다. &lt;개정 2020.5.2...</td>\n",
       "    </tr>\n",
       "    <tr>\n",
       "      <th>2</th>\n",
       "      <td>30011</td>\n",
       "      <td>제3조(적용 범위) 이 법은 모든 사업에 적용한다. 다만, 유해ㆍ위험의 정도, 사업...</td>\n",
       "    </tr>\n",
       "    <tr>\n",
       "      <th>3</th>\n",
       "      <td>40011</td>\n",
       "      <td>제4조(정부의 책무) 정부는 이 법의 목적을 달성하기 위하여 다음 각 호의 사항을 ...</td>\n",
       "    </tr>\n",
       "    <tr>\n",
       "      <th>4</th>\n",
       "      <td>50011</td>\n",
       "      <td>제5조(사업주 등의 의무) 사업주(제77조에 따른 특수형태근로종사자로부터 노무를 제...</td>\n",
       "    </tr>\n",
       "    <tr>\n",
       "      <th>...</th>\n",
       "      <td>...</td>\n",
       "      <td>...</td>\n",
       "    </tr>\n",
       "    <tr>\n",
       "      <th>452</th>\n",
       "      <td>600015</td>\n",
       "      <td>제60조(벌칙) 제43조제2항에 따라 즉시 신고를 하지 아니한 자는 2년 이하의 징...</td>\n",
       "    </tr>\n",
       "    <tr>\n",
       "      <th>453</th>\n",
       "      <td>610015</td>\n",
       "      <td>제61조(벌칙) 다음 각 호의 어느 하나에 해당하는 자는 1년 이하의 징역 또는 3...</td>\n",
       "    </tr>\n",
       "    <tr>\n",
       "      <th>454</th>\n",
       "      <td>620015</td>\n",
       "      <td>제62조(벌칙) 다음 각 호의 어느 하나에 해당하는 자는 6개월 이하의 징역 또는 ...</td>\n",
       "    </tr>\n",
       "    <tr>\n",
       "      <th>455</th>\n",
       "      <td>630015</td>\n",
       "      <td>제63조(양벌규정) 법인의 대표자나 법인 또는 개인의 대리인, 사용인, 그 밖의 종...</td>\n",
       "    </tr>\n",
       "    <tr>\n",
       "      <th>456</th>\n",
       "      <td>640015</td>\n",
       "      <td>제64조(과태료) 다음 각 호의 어느 하나에 해당하는 자에게는 1천만원 이하의 과태...</td>\n",
       "    </tr>\n",
       "  </tbody>\n",
       "</table>\n",
       "<p>457 rows × 2 columns</p>\n",
       "</div>"
      ],
      "text/plain": [
       "          키                                                조내용\n",
       "0     10011  제1조(목적) 이 법은 산업 안전 및 보건에 관한 기준을 확립하고 그 책임의 소재를...\n",
       "1     20011  제2조(정의) 이 법에서 사용하는 용어의 뜻은 다음과 같다. <개정 2020.5.2...\n",
       "2     30011  제3조(적용 범위) 이 법은 모든 사업에 적용한다. 다만, 유해ㆍ위험의 정도, 사업...\n",
       "3     40011  제4조(정부의 책무) 정부는 이 법의 목적을 달성하기 위하여 다음 각 호의 사항을 ...\n",
       "4     50011  제5조(사업주 등의 의무) 사업주(제77조에 따른 특수형태근로종사자로부터 노무를 제...\n",
       "..      ...                                                ...\n",
       "452  600015  제60조(벌칙) 제43조제2항에 따라 즉시 신고를 하지 아니한 자는 2년 이하의 징...\n",
       "453  610015  제61조(벌칙) 다음 각 호의 어느 하나에 해당하는 자는 1년 이하의 징역 또는 3...\n",
       "454  620015  제62조(벌칙) 다음 각 호의 어느 하나에 해당하는 자는 6개월 이하의 징역 또는 ...\n",
       "455  630015  제63조(양벌규정) 법인의 대표자나 법인 또는 개인의 대리인, 사용인, 그 밖의 종...\n",
       "456  640015  제64조(과태료) 다음 각 호의 어느 하나에 해당하는 자에게는 1천만원 이하의 과태...\n",
       "\n",
       "[457 rows x 2 columns]"
      ]
     },
     "execution_count": 2,
     "metadata": {},
     "output_type": "execute_result"
    }
   ],
   "source": [
    "df_industrial = pd.read_excel(\"산업안전보건법.xlsx\")\n",
    "df_erection = pd.read_excel(\"건설기술진흥법.xlsx\")\n",
    "df_danger = pd.read_excel(\"위험물안전관리법.xlsx\")\n",
    "df_electric = pd.read_excel(\"전기안전관리법.xlsx\")\n",
    "df_chemistry = pd.read_excel(\"화학물질관리법.xlsx\")\n",
    "df_info = pd.DataFrame()\n",
    "df_info = df_info.append(df_industrial,ignore_index = True)\n",
    "df_info = df_info.append(df_erection,ignore_index = True)\n",
    "df_info = df_info.append(df_danger,ignore_index = True)\n",
    "df_info = df_info.append(df_electric,ignore_index = True)\n",
    "df_info = df_info.append(df_chemistry,ignore_index = True)\n",
    "df_info"
   ]
  },
  {
   "cell_type": "code",
   "execution_count": 3,
   "metadata": {},
   "outputs": [
    {
     "data": {
      "text/html": [
       "<div>\n",
       "<style scoped>\n",
       "    .dataframe tbody tr th:only-of-type {\n",
       "        vertical-align: middle;\n",
       "    }\n",
       "\n",
       "    .dataframe tbody tr th {\n",
       "        vertical-align: top;\n",
       "    }\n",
       "\n",
       "    .dataframe thead th {\n",
       "        text-align: right;\n",
       "    }\n",
       "</style>\n",
       "<table border=\"1\" class=\"dataframe\">\n",
       "  <thead>\n",
       "    <tr style=\"text-align: right;\">\n",
       "      <th></th>\n",
       "      <th>키</th>\n",
       "      <th>조내용</th>\n",
       "    </tr>\n",
       "  </thead>\n",
       "  <tbody>\n",
       "    <tr>\n",
       "      <th>0</th>\n",
       "      <td>10011</td>\n",
       "      <td>제1조(목적) 이 법은 산업 안전 및 보건에 관한 기준을 확립하고 그 책임의 소재를...</td>\n",
       "    </tr>\n",
       "    <tr>\n",
       "      <th>1</th>\n",
       "      <td>20011</td>\n",
       "      <td>제2조(정의) 이 법에서 사용하는 용어의 뜻은 다음과 같다. &lt;개정 2020.5.2...</td>\n",
       "    </tr>\n",
       "    <tr>\n",
       "      <th>2</th>\n",
       "      <td>30011</td>\n",
       "      <td>제3조(적용 범위) 이 법은 모든 사업에 적용한다. 다만, 유해ㆍ위험의 정도, 사업...</td>\n",
       "    </tr>\n",
       "    <tr>\n",
       "      <th>3</th>\n",
       "      <td>40011</td>\n",
       "      <td>제4조(정부의 책무) 정부는 이 법의 목적을 달성하기 위하여 다음 각 호의 사항을 ...</td>\n",
       "    </tr>\n",
       "    <tr>\n",
       "      <th>4</th>\n",
       "      <td>50011</td>\n",
       "      <td>제5조(사업주 등의 의무) 사업주(제77조에 따른 특수형태근로종사자로부터 노무를 제...</td>\n",
       "    </tr>\n",
       "    <tr>\n",
       "      <th>...</th>\n",
       "      <td>...</td>\n",
       "      <td>...</td>\n",
       "    </tr>\n",
       "    <tr>\n",
       "      <th>452</th>\n",
       "      <td>600015</td>\n",
       "      <td>제60조(벌칙) 제43조제2항에 따라 즉시 신고를 하지 아니한 자는 2년 이하의 징...</td>\n",
       "    </tr>\n",
       "    <tr>\n",
       "      <th>453</th>\n",
       "      <td>610015</td>\n",
       "      <td>제61조(벌칙) 다음 각 호의 어느 하나에 해당하는 자는 1년 이하의 징역 또는 3...</td>\n",
       "    </tr>\n",
       "    <tr>\n",
       "      <th>454</th>\n",
       "      <td>620015</td>\n",
       "      <td>제62조(벌칙) 다음 각 호의 어느 하나에 해당하는 자는 6개월 이하의 징역 또는 ...</td>\n",
       "    </tr>\n",
       "    <tr>\n",
       "      <th>455</th>\n",
       "      <td>630015</td>\n",
       "      <td>제63조(양벌규정) 법인의 대표자나 법인 또는 개인의 대리인, 사용인, 그 밖의 종...</td>\n",
       "    </tr>\n",
       "    <tr>\n",
       "      <th>456</th>\n",
       "      <td>640015</td>\n",
       "      <td>제64조(과태료) 다음 각 호의 어느 하나에 해당하는 자에게는 1천만원 이하의 과태...</td>\n",
       "    </tr>\n",
       "  </tbody>\n",
       "</table>\n",
       "<p>457 rows × 2 columns</p>\n",
       "</div>"
      ],
      "text/plain": [
       "          키                                                조내용\n",
       "0     10011  제1조(목적) 이 법은 산업 안전 및 보건에 관한 기준을 확립하고 그 책임의 소재를...\n",
       "1     20011  제2조(정의) 이 법에서 사용하는 용어의 뜻은 다음과 같다. <개정 2020.5.2...\n",
       "2     30011  제3조(적용 범위) 이 법은 모든 사업에 적용한다. 다만, 유해ㆍ위험의 정도, 사업...\n",
       "3     40011  제4조(정부의 책무) 정부는 이 법의 목적을 달성하기 위하여 다음 각 호의 사항을 ...\n",
       "4     50011  제5조(사업주 등의 의무) 사업주(제77조에 따른 특수형태근로종사자로부터 노무를 제...\n",
       "..      ...                                                ...\n",
       "452  600015  제60조(벌칙) 제43조제2항에 따라 즉시 신고를 하지 아니한 자는 2년 이하의 징...\n",
       "453  610015  제61조(벌칙) 다음 각 호의 어느 하나에 해당하는 자는 1년 이하의 징역 또는 3...\n",
       "454  620015  제62조(벌칙) 다음 각 호의 어느 하나에 해당하는 자는 6개월 이하의 징역 또는 ...\n",
       "455  630015  제63조(양벌규정) 법인의 대표자나 법인 또는 개인의 대리인, 사용인, 그 밖의 종...\n",
       "456  640015  제64조(과태료) 다음 각 호의 어느 하나에 해당하는 자에게는 1천만원 이하의 과태...\n",
       "\n",
       "[457 rows x 2 columns]"
      ]
     },
     "execution_count": 3,
     "metadata": {},
     "output_type": "execute_result"
    }
   ],
   "source": [
    "jo_key = [str(i) for i in df_info.get('키')]\n",
    "df_info['키'] = jo_key\n",
    "df_info"
   ]
  },
  {
   "cell_type": "code",
   "execution_count": 4,
   "metadata": {},
   "outputs": [
    {
     "data": {
      "text/html": [
       "<div>\n",
       "<style scoped>\n",
       "    .dataframe tbody tr th:only-of-type {\n",
       "        vertical-align: middle;\n",
       "    }\n",
       "\n",
       "    .dataframe tbody tr th {\n",
       "        vertical-align: top;\n",
       "    }\n",
       "\n",
       "    .dataframe thead th {\n",
       "        text-align: right;\n",
       "    }\n",
       "</style>\n",
       "<table border=\"1\" class=\"dataframe\">\n",
       "  <thead>\n",
       "    <tr style=\"text-align: right;\">\n",
       "      <th></th>\n",
       "      <th>불용어</th>\n",
       "    </tr>\n",
       "  </thead>\n",
       "  <tbody>\n",
       "    <tr>\n",
       "      <th>0</th>\n",
       "      <td>아</td>\n",
       "    </tr>\n",
       "    <tr>\n",
       "      <th>1</th>\n",
       "      <td>휴</td>\n",
       "    </tr>\n",
       "    <tr>\n",
       "      <th>2</th>\n",
       "      <td>아이구</td>\n",
       "    </tr>\n",
       "    <tr>\n",
       "      <th>3</th>\n",
       "      <td>아이쿠</td>\n",
       "    </tr>\n",
       "    <tr>\n",
       "      <th>4</th>\n",
       "      <td>아이고</td>\n",
       "    </tr>\n",
       "    <tr>\n",
       "      <th>...</th>\n",
       "      <td>...</td>\n",
       "    </tr>\n",
       "    <tr>\n",
       "      <th>687</th>\n",
       "      <td>해당</td>\n",
       "    </tr>\n",
       "    <tr>\n",
       "      <th>688</th>\n",
       "      <td>포함</td>\n",
       "    </tr>\n",
       "    <tr>\n",
       "      <th>689</th>\n",
       "      <td>거나</td>\n",
       "    </tr>\n",
       "    <tr>\n",
       "      <th>690</th>\n",
       "      <td>하다</td>\n",
       "    </tr>\n",
       "    <tr>\n",
       "      <th>691</th>\n",
       "      <td>조제</td>\n",
       "    </tr>\n",
       "  </tbody>\n",
       "</table>\n",
       "<p>692 rows × 1 columns</p>\n",
       "</div>"
      ],
      "text/plain": [
       "     불용어\n",
       "0      아\n",
       "1      휴\n",
       "2    아이구\n",
       "3    아이쿠\n",
       "4    아이고\n",
       "..   ...\n",
       "687   해당\n",
       "688   포함\n",
       "689   거나\n",
       "690   하다\n",
       "691   조제\n",
       "\n",
       "[692 rows x 1 columns]"
      ]
     },
     "execution_count": 4,
     "metadata": {},
     "output_type": "execute_result"
    }
   ],
   "source": [
    "stop_words = pd.read_excel(\"stopwords.xlsx\")\n",
    "stop_words"
   ]
  },
  {
   "cell_type": "code",
   "execution_count": 5,
   "metadata": {},
   "outputs": [],
   "source": [
    "okt = Okt()\n",
    "tokenized_data = []\n",
    "for sentence in df_info['조내용']:\n",
    "    temp_X = okt.morphs(sentence, stem=True) # 토큰화\n",
    "    temp_X = [word for word in temp_X if not word in stop_words and len(word) > 1] # 불용어 제거\n",
    "    tokenized_data.append(temp_X)"
   ]
  },
  {
   "cell_type": "code",
   "execution_count": 6,
   "metadata": {},
   "outputs": [
    {
     "name": "stdout",
     "output_type": "stream",
     "text": [
      "조문의 최대 길이 : 905\n",
      "조문의 평균 길이 : 121.0\n"
     ]
    },
    {
     "data": {
      "image/png": "[encoded data removed]",
      "text/plain": [
       "<Figure size 432x288 with 1 Axes>"
      ]
     },
     "metadata": {
      "needs_background": "light"
     },
     "output_type": "display_data"
    }
   ],
   "source": [
    "print('조문의 최대 길이 :',max(len(l) for l in tokenized_data))\n",
    "print('조문의 평균 길이 :',sum(map(len, tokenized_data))/len(tokenized_data))\n",
    "plt.hist([len(s) for s in tokenized_data], bins=50)\n",
    "plt.xlabel('length of samples')\n",
    "plt.ylabel('number of samples')\n",
    "plt.show()"
   ]
  },
  {
   "cell_type": "code",
   "execution_count": 7,
   "metadata": {},
   "outputs": [
    {
     "data": {
      "text/html": [
       "<div>\n",
       "<style scoped>\n",
       "    .dataframe tbody tr th:only-of-type {\n",
       "        vertical-align: middle;\n",
       "    }\n",
       "\n",
       "    .dataframe tbody tr th {\n",
       "        vertical-align: top;\n",
       "    }\n",
       "\n",
       "    .dataframe thead th {\n",
       "        text-align: right;\n",
       "    }\n",
       "</style>\n",
       "<table border=\"1\" class=\"dataframe\">\n",
       "  <thead>\n",
       "    <tr style=\"text-align: right;\">\n",
       "      <th></th>\n",
       "      <th>키</th>\n",
       "      <th>조내용</th>\n",
       "      <th>Token</th>\n",
       "    </tr>\n",
       "  </thead>\n",
       "  <tbody>\n",
       "    <tr>\n",
       "      <th>0</th>\n",
       "      <td>10011</td>\n",
       "      <td>제1조(목적) 이 법은 산업 안전 및 보건에 관한 기준을 확립하고 그 책임의 소재를...</td>\n",
       "      <td>[1조, 목적, 산업, 안전, 보건, 기준, 확립, 하고, 책임, 소재, 명확하다,...</td>\n",
       "    </tr>\n",
       "    <tr>\n",
       "      <th>1</th>\n",
       "      <td>20011</td>\n",
       "      <td>제2조(정의) 이 법에서 사용하는 용어의 뜻은 다음과 같다. &lt;개정 2020.5.2...</td>\n",
       "      <td>[2조, 정의, 에서, 사용, 하다, 용어, 다음, 같다, 개정, 2020.5, 2...</td>\n",
       "    </tr>\n",
       "    <tr>\n",
       "      <th>2</th>\n",
       "      <td>30011</td>\n",
       "      <td>제3조(적용 범위) 이 법은 모든 사업에 적용한다. 다만, 유해ㆍ위험의 정도, 사업...</td>\n",
       "      <td>[3조, 적용, 범위, 모든, 사업, 적용, 하다, 다만, 유해, 위험, 정도, 사...</td>\n",
       "    </tr>\n",
       "    <tr>\n",
       "      <th>3</th>\n",
       "      <td>40011</td>\n",
       "      <td>제4조(정부의 책무) 정부는 이 법의 목적을 달성하기 위하여 다음 각 호의 사항을 ...</td>\n",
       "      <td>[4조, 정부, 책무, 정부, 목적, 달성, 하다, 하다, 다음, 호의, 사항, 성...</td>\n",
       "    </tr>\n",
       "    <tr>\n",
       "      <th>4</th>\n",
       "      <td>50011</td>\n",
       "      <td>제5조(사업주 등의 의무) 사업주(제77조에 따른 특수형태근로종사자로부터 노무를 제...</td>\n",
       "      <td>[5조, 업주, 의무, 업주, 77조, 따르다, 특수, 형태, 근로, 종사, 자로,...</td>\n",
       "    </tr>\n",
       "    <tr>\n",
       "      <th>...</th>\n",
       "      <td>...</td>\n",
       "      <td>...</td>\n",
       "      <td>...</td>\n",
       "    </tr>\n",
       "    <tr>\n",
       "      <th>452</th>\n",
       "      <td>600015</td>\n",
       "      <td>제60조(벌칙) 제43조제2항에 따라 즉시 신고를 하지 아니한 자는 2년 이하의 징...</td>\n",
       "      <td>[60조, 벌칙, 43조, 따르다, 즉시, 신고, 하다, 아니다, 자다, 2년, 이...</td>\n",
       "    </tr>\n",
       "    <tr>\n",
       "      <th>453</th>\n",
       "      <td>610015</td>\n",
       "      <td>제61조(벌칙) 다음 각 호의 어느 하나에 해당하는 자는 1년 이하의 징역 또는 3...</td>\n",
       "      <td>[61조, 벌칙, 다음, 호의, 어느, 하나, 해당, 하다, 자다, 1년, 이하, ...</td>\n",
       "    </tr>\n",
       "    <tr>\n",
       "      <th>454</th>\n",
       "      <td>620015</td>\n",
       "      <td>제62조(벌칙) 다음 각 호의 어느 하나에 해당하는 자는 6개월 이하의 징역 또는 ...</td>\n",
       "      <td>[62조, 벌칙, 다음, 호의, 어느, 하나, 해당, 하다, 자다, 개월, 이하, ...</td>\n",
       "    </tr>\n",
       "    <tr>\n",
       "      <th>455</th>\n",
       "      <td>630015</td>\n",
       "      <td>제63조(양벌규정) 법인의 대표자나 법인 또는 개인의 대리인, 사용인, 그 밖의 종...</td>\n",
       "      <td>[63조, 규정, 법인, 대표자, 법인, 또는, 개인, 대리인, 사용, 종업원, 법...</td>\n",
       "    </tr>\n",
       "    <tr>\n",
       "      <th>456</th>\n",
       "      <td>640015</td>\n",
       "      <td>제64조(과태료) 다음 각 호의 어느 하나에 해당하는 자에게는 1천만원 이하의 과태...</td>\n",
       "      <td>[64조, 과태료, 다음, 호의, 어느, 하나, 해당, 하다, 에게는, 1천만원, ...</td>\n",
       "    </tr>\n",
       "  </tbody>\n",
       "</table>\n",
       "<p>457 rows × 3 columns</p>\n",
       "</div>"
      ],
      "text/plain": [
       "          키                                                조내용  \\\n",
       "0     10011  제1조(목적) 이 법은 산업 안전 및 보건에 관한 기준을 확립하고 그 책임의 소재를...   \n",
       "1     20011  제2조(정의) 이 법에서 사용하는 용어의 뜻은 다음과 같다. <개정 2020.5.2...   \n",
       "2     30011  제3조(적용 범위) 이 법은 모든 사업에 적용한다. 다만, 유해ㆍ위험의 정도, 사업...   \n",
       "3     40011  제4조(정부의 책무) 정부는 이 법의 목적을 달성하기 위하여 다음 각 호의 사항을 ...   \n",
       "4     50011  제5조(사업주 등의 의무) 사업주(제77조에 따른 특수형태근로종사자로부터 노무를 제...   \n",
       "..      ...                                                ...   \n",
       "452  600015  제60조(벌칙) 제43조제2항에 따라 즉시 신고를 하지 아니한 자는 2년 이하의 징...   \n",
       "453  610015  제61조(벌칙) 다음 각 호의 어느 하나에 해당하는 자는 1년 이하의 징역 또는 3...   \n",
       "454  620015  제62조(벌칙) 다음 각 호의 어느 하나에 해당하는 자는 6개월 이하의 징역 또는 ...   \n",
       "455  630015  제63조(양벌규정) 법인의 대표자나 법인 또는 개인의 대리인, 사용인, 그 밖의 종...   \n",
       "456  640015  제64조(과태료) 다음 각 호의 어느 하나에 해당하는 자에게는 1천만원 이하의 과태...   \n",
       "\n",
       "                                                 Token  \n",
       "0    [1조, 목적, 산업, 안전, 보건, 기준, 확립, 하고, 책임, 소재, 명확하다,...  \n",
       "1    [2조, 정의, 에서, 사용, 하다, 용어, 다음, 같다, 개정, 2020.5, 2...  \n",
       "2    [3조, 적용, 범위, 모든, 사업, 적용, 하다, 다만, 유해, 위험, 정도, 사...  \n",
       "3    [4조, 정부, 책무, 정부, 목적, 달성, 하다, 하다, 다음, 호의, 사항, 성...  \n",
       "4    [5조, 업주, 의무, 업주, 77조, 따르다, 특수, 형태, 근로, 종사, 자로,...  \n",
       "..                                                 ...  \n",
       "452  [60조, 벌칙, 43조, 따르다, 즉시, 신고, 하다, 아니다, 자다, 2년, 이...  \n",
       "453  [61조, 벌칙, 다음, 호의, 어느, 하나, 해당, 하다, 자다, 1년, 이하, ...  \n",
       "454  [62조, 벌칙, 다음, 호의, 어느, 하나, 해당, 하다, 자다, 개월, 이하, ...  \n",
       "455  [63조, 규정, 법인, 대표자, 법인, 또는, 개인, 대리인, 사용, 종업원, 법...  \n",
       "456  [64조, 과태료, 다음, 호의, 어느, 하나, 해당, 하다, 에게는, 1천만원, ...  \n",
       "\n",
       "[457 rows x 3 columns]"
      ]
     },
     "execution_count": 7,
     "metadata": {},
     "output_type": "execute_result"
    }
   ],
   "source": [
    "df_info['Token'] = tokenized_data\n",
    "df_info"
   ]
  },
  {
   "cell_type": "code",
   "execution_count": 8,
   "metadata": {},
   "outputs": [],
   "source": [
    "from gensim.models import Word2Vec\n",
    "model = Word2Vec(sentences = tokenized_data, window = 5, min_count = 5, workers = 4, sg = 0)"
   ]
  },
  {
   "cell_type": "code",
   "execution_count": 9,
   "metadata": {},
   "outputs": [
    {
     "data": {
      "text/plain": [
       "(993, 100)"
      ]
     },
     "execution_count": 9,
     "metadata": {},
     "output_type": "execute_result"
    }
   ],
   "source": [
    "model.wv.vectors.shape"
   ]
  },
  {
   "cell_type": "code",
   "execution_count": 10,
   "metadata": {},
   "outputs": [
    {
     "data": {
      "text/plain": [
       "[('서다', 0.9980024695396423),\n",
       " ('까지', 0.9979007244110107),\n",
       " ('에도', 0.9977693557739258),\n",
       " ('선고', 0.9977180361747742),\n",
       " ('적합하다', 0.9976956248283386),\n",
       " ('개인', 0.9976122975349426),\n",
       " ('내지', 0.9976112246513367),\n",
       " ('근로', 0.9975466728210449),\n",
       " ('집행', 0.9975199699401855),\n",
       " ('자의', 0.9974830150604248)]"
      ]
     },
     "execution_count": 10,
     "metadata": {},
     "output_type": "execute_result"
    }
   ],
   "source": [
    "model.wv.most_similar('5조')"
   ]
  },
  {
   "cell_type": "code",
   "execution_count": 11,
   "metadata": {},
   "outputs": [],
   "source": [
    "import pandas , nltk\n",
    "from gensim.models.doc2vec import Doc2Vec, TaggedDocument\n",
    "from nltk.tokenize import RegexpTokenizer"
   ]
  },
  {
   "cell_type": "code",
   "execution_count": 12,
   "metadata": {},
   "outputs": [],
   "source": [
    "# Great Input Data\n",
    "# doc2vec 입력 형식에 맞게 데이터를 수정한다.\n",
    "# tags = 문서 ID\n",
    "# words = 단어 list\n",
    "\n",
    "doc_df = df_info[['키','Token']].values.tolist()\n",
    "tagged_data = [TaggedDocument(words=_d, tags=[uid]) for uid, _d in doc_df]"
   ]
  },
  {
   "cell_type": "markdown",
   "metadata": {},
   "source": [
    "# Training\n",
    "파라메터 설명\n",
    "- window: 모델 학습할때 앞뒤로 보는 단어의 수\n",
    "- size: 벡터 차원의 크기\n",
    "- alpha: learning rate\n",
    "- min_count: 학습에 사용할 최소 단어 빈도 수\n",
    "- dm: 학습방법 1 = PV-DM, 0 = PV-DBOW\n",
    "- negative: Complexity Reduction 방법, negative sampling\n",
    "- max_epochs: 최대 학습 횟수"
   ]
  },
  {
   "cell_type": "code",
   "execution_count": 13,
   "metadata": {},
   "outputs": [
    {
     "name": "stdout",
     "output_type": "stream",
     "text": [
      "iteration 0\n",
      "iteration 1\n",
      "iteration 2\n",
      "iteration 3\n",
      "iteration 4\n",
      "iteration 5\n",
      "iteration 6\n",
      "iteration 7\n",
      "iteration 8\n",
      "iteration 9\n"
     ]
    }
   ],
   "source": [
    "max_epochs = 10\n",
    "vec_size = 100\n",
    "model = Doc2Vec(\n",
    "    window=10,\n",
    "    vector_size=vec_size,\n",
    "    alpha=0.025, \n",
    "    min_alpha=0.025,\n",
    "    min_count=2,\n",
    "    dm =1,\n",
    "    negative = 5,\n",
    "    seed = 9999)\n",
    "  \n",
    "model.build_vocab(tagged_data)\n",
    "\n",
    "for epoch in range(max_epochs):\n",
    "    print('iteration {0}'.format(epoch))\n",
    "    model.train(tagged_data,\n",
    "                total_examples=model.corpus_count,\n",
    "                epochs=model.epochs\n",
    "               )\n",
    "    # decrease the learning rate\n",
    "    model.alpha -= 0.002\n",
    "    # fix the learning rate, no decay\n",
    "    model.min_alpha = model.alpha"
   ]
  },
  {
   "cell_type": "markdown",
   "metadata": {},
   "source": [
    "# 결과 확인\n",
    "특정 문서와 유사한 문서를 찾기 위해서는 2단계를 거친다.\n",
    "1. 문서의 vector화\n",
    "2. 변환된 vector와 가장 가까운 vector 추출\n",
    "* infer_vector 사용시 seed값을 주지 않으면 random한값이 seed로 사용되어 값이 계속 변경된다.\n",
    "* 학습되지 않은 단어를 사용한 문서도 결과가 나온다.\n",
    "\n",
    "https://hanshuginn.blogspot.com/2019/03/python-doc2vec.html"
   ]
  },
  {
   "cell_type": "code",
   "execution_count": 14,
   "metadata": {},
   "outputs": [],
   "source": [
    "def get_key(k) :\n",
    "    if k[-1] == \"1\" :\n",
    "        s = \"산업안전보건법 제 \"+k[0:(len(k)-4)]+\"조\"\n",
    "    elif k[-1]==\"2\":\n",
    "        s = \"건설기술진흥법 제 \"+k[0:(len(k)-4)]+\"조\"\n",
    "    elif k[-1]==\"3\":\n",
    "        s = \"위험물안전관리법 제 \"+k[0:(len(k)-4)]+\"조\"\n",
    "    elif k[-1]==\"4\":\n",
    "        s = \"전기안전관리법 제 \"+k[0:(len(k)-4)]+\"조\"\n",
    "    elif k[-1]==\"5\":\n",
    "        s = \"화학물질관리법 제 \"+k[0:(len(k)-4)]+\"조\"     \n",
    "    if k[-3] != \"0\":\n",
    "        s += \"의 \"+k[-3]\n",
    "    return s"
   ]
  },
  {
   "cell_type": "code",
   "execution_count": 15,
   "metadata": {
    "scrolled": true
   },
   "outputs": [
    {
     "name": "stdout",
     "output_type": "stream",
     "text": [
      "고용노동\n",
      "전기안전관리법 제 12조 0.20732367038726807 \n",
      "\n",
      "제12조(일반용전기설비의 점검) 산업통상자원부장관은 일반용전기설비가 「전기사업법」 제67조에 따른 기술기준(이하 \"기술기준\"이라 한다)에 적합한지 여부에 대하여 산업통상자원부령으로 정하는 바에 따라 그 전기설비의 사용 전과 사용 중에 정기적으로 안전공사 또는 전기판매사업자로 하여금 점검(전기판매사업자는 사용전점검 중 대통령령으로 정하는 전기설비의 경우에 한정한다. 이하 이 조에서 같다)하도록 하여야 한다. 다만, 주거용 시설물에 설치된 일반용전기설비를 정기적으로 점검(이하 \"정기점검\"이라 한다)하는 경우 그 소유자 또는 점유자로부터 점검의 승낙을 받을 수 없는 경우에는 그러하지 아니하다. 안전공사 및 전기판매사업자는 제1항 본문에 따른 점검 결과 일반용전기설비가 기술기준에 적합하지 아니하다고 인정되는 경우에는 지체 없이 다음 각 호의 사항을 그 소유자 또는 점유자에게 통지하여야 한다. 안전공사는 정기점검 결과 기술기준에 부합하지 아니한 전기설비 중 경미한 수리(「전기공사업법」 제3조제1항 단서에 따른 경미한 전기공사에 한정한다)가 필요한 경우로서 해당 전기설비의 소유자 또는 점유자의 요청이 있는 경우에는 직접 이를 수리할 수 있다. 안전공사 및 전기판매사업자는 제1항 또는 제2항에 따른 점검 또는 통지에 관한 업무를 수행하는 경우 산업통상자원부령으로 정하는 사항을 기록·보존하여야 한다. 안전공사는 제2항에 따라 통지한 사항의 조치 이행 여부를 점검한 결과 그 소유자 또는 점유자가 통지를 받고도 같은 항 제1호의 조치를 하지 아니한 경우에는 특별자치도지사·특별자치시장·시장·군수·구청장(구청장은 자치구의 구청장을 말한다. 이하 \"시장·군수·구청장\"이라 한다)에게 그 조치 불이행 사실을 통보하여야 한다. 이 경우 시장·군수·구청장은 그 소유자 또는 점유자에게 그 전기설비의 수리·개조 또는 이전에 관한 명령(이하 \"개선명령\"이라 한다)을 하여야 하되, 전기설비가 기술기준에 적합하지 아니한 사항이 중대하여 시장·군수·구청장의 개선명령을 기다릴 여유가 없다고 인정되는 경우로서 산업통상자원부령으로 정하는 경우에는 안전공사가 직접 개선명령을 한 후 이를 시장·군수·구청장에게 통보하여야 한다. 시장·군수·구청장은 일반용전기설비의 소유자 또는 점유자가 개선명령(안전공사가 직접 개선명령을 한 경우를 포함한다)을 이행하지 아니하여 전기로 인한 재해가 발생할 우려가 크다고 인정되는 경우에는 산업통상자원부령으로 정하는 바에 따라 전기판매사업자에게 그 소유자 또는 점유자에 대한 전기의 공급을 정지하여 줄 것을 요청하고 그 개선명령을 이행하지 아니한 내용을 즉시 안전공사에 통보하여야 한다. 이 경우 전기공급의 정지요청을 받은 전기판매사업자는 특별한 사유가 없으면 이에 따라야 한다. 안전공사는 제1항에 따른 점검에 필요한 자료를 산업통상자원부령으로 정하는 바에 따라 전기판매사업자에게 요청할 수 있다. 이 경우 자료요청을 받은 전기판매사업자는 특별한 사유가 없으면 이에 따라야 한다. 제1항에 따라 점검을 하는 자는 그 권한을 표시하는 증표를 지니고 이를 관계인에게 내보여야 한다. 제1항에 따른 점검의 기준·방법과 그 밖에 필요한 사항은 산업통상자원부령으로 정한다. 구역전기사업자에 관하여는 제1항, 제2항, 제4항 및 제6항부터 제9항까지의 규정을 준용한다. 이 경우 \"전기판매사업자\"는 \"구역전기사업자\"로 본다. 기술기준에 적합하도록 하기 위하여 필요한 조치의 내용 제1호에 따른 조치를 하지 아니하는 경우에 발생할 수 있는 결과 \n",
      "\n",
      "화학물질관리법 제 24조 0.19275112450122833 \n",
      "\n",
      "제24조(취급시설의 배치ㆍ설치 및 관리 기준 등) 유해화학물질 취급시설은 환경부령으로 정하는 배치ㆍ설치 및 관리 기준 등에 따라 설치ㆍ운영되어야 한다. 유해화학물질 취급시설의 설치를 마친 자는 환경부령으로 정하는 검사기관에서 검사를 받고 그 결과를 환경부장관에게 제출하여야 한다. 유해화학물질 취급시설을 설치ㆍ운영하는 자는 취급시설별로 환경부령으로 정하는 기간마다 제2항에 따른 검사기관에서 정기검사 또는 수시검사를 받고 그 결과를 환경부장관에게 제출하여야 한다. 다만, 제5항에 따라 안전진단을 실시하고 안전진단결과보고서를 제출한 자에 대하여는 환경부령으로 정하는 기간 동안 정기검사를 면제할 수 있다. <개정 2020.3.31> 제3항 본문에도 불구하고 다음 각 호의 어느 하나에 해당하는 유해화학물질 취급시설을 설치ㆍ운영하는 자에 대해서는 정기검사 및 수시검사를 면제한다. <신설 2020.3.31> 유해화학물질 취급시설의 설치를 마친 자 또는 유해화학물질 취급시설을 설치ㆍ운영하는 자는 다음 각 호의 어느 하나에 해당하는 경우에는 제2항에 따른 검사기관에 의한 안전진단을 실시하고 취급시설의 안전 상태를 입증하기 위한 안전진단결과보고서를 환경부장관에게 제출하여야 한다. <개정 2020.3.31, 2020.5.26> 제2항 및 제3항에 따른 검사 또는 제5항에 따른 안전진단 결과 적합 판정을 받지 아니한 유해화학물질 취급시설은 사용할 수 없다. 다만, 검사 또는 안전진단을 위하여 그 시설을 사용하는 경우에는 그러하지 아니하다. <개정 2020.3.31> 제2항 및 제3항에 따른 검사의 절차ㆍ기준 및 검사기관의 관리기준, 제5항에 따른 안전진단의 세부적인 방법 등에 관하여 필요한 사항은 환경부령으로 정한다. <개정 2020.3.31> 「연구실 안전환경 조성에 관한 법률」 제2조제2호의 연구실(환경부령으로 정하는 시험생산용 설비를 운영하는 연구실은 제외한다) 「학교안전사고 예방 및 보상에 관한 법률」 제2조제1호의 학교 제2항 또는 제3항에 따른 검사 결과 유해화학물질 취급시설의 구조물이나 설비가 침하(沈下)ㆍ균열ㆍ부식(腐蝕) 등으로 안전상의 위해가 우려된다고 인정되는 경우 유해화학물질 취급시설을 설치한 후 취급시설별로 환경부령으로 정하는 기간이 지난 경우 \n",
      "\n",
      "위험물안전관리법 제 5조 0.15292774140834808 \n",
      "\n",
      "제5조(위험물의 저장 및 취급의 제한) 지정수량 이상의 위험물을 저장소가 아닌 장소에서 저장하거나 제조소등이 아닌 장소에서 취급하여서는 아니된다. 제1항의 규정에 불구하고 다음 각 호의 어느 하나에 해당하는 경우에는 제조소등이 아닌 장소에서 지정수량 이상의 위험물을 취급할 수 있다. 이 경우 임시로 저장 또는 취급하는 장소에서의 저장 또는 취급의 기준과 임시로 저장 또는 취급하는 장소의 위치ㆍ구조 및 설비의 기준은 시ㆍ도의 조례로 정한다. <개정 2016.1.27> 제조소등에서의 위험물의 저장 또는 취급에 관하여는 다음 각 호의 중요기준 및 세부기준에 따라야 한다. <개정 2008.2.29, 2013.3.23, 2014.11.19, 2016.1.27, 2017.7.26> 제1항의 규정에 따른 제조소등의 위치ㆍ구조 및 설비의 기술기준은 행정안전부령으로 정한다. <개정 2008.2.29, 2013.3.23, 2014.11.19, 2017.7.26> 둘 이상의 위험물을 같은 장소에서 저장 또는 취급하는 경우에 있어서 당해 장소에서 저장 또는 취급하는 각 위험물의 수량을 그 위험물의 지정수량으로 각각 나누어 얻은 수의 합계가 1 이상인 경우 당해 위험물은 지정수량 이상의 위험물로 본다. 시ㆍ도의 조례가 정하는 바에 따라 관할소방서장의 승인을 받아 지정수량 이상의 위험물을 90일 이내의 기간동안 임시로 저장 또는 취급하는 경우 군부대가 지정수량 이상의 위험물을 군사목적으로 임시로 저장 또는 취급하는 경우 중요기준 : 화재 등 위해의 예방과 응급조치에 있어서 큰 영향을 미치거나 그 기준을 위반하는 경우 직접적으로 화재를 일으킬 가능성이 큰 기준으로서 행정안전부령이 정하는 기준 세부기준 : 화재 등 위해의 예방과 응급조치에 있어서 중요기준보다 상대적으로 적은 영향을 미치거나 그 기준을 위반하는 경우 간접적으로 화재를 일으킬 수 있는 기준 및 위험물의 안전관리에 필요한 표시와 서류ㆍ기구 등의 비치에 관한 기준으로서 행정안전부령이 정하는 기준 \n",
      "\n",
      "위험물안전관리법 제 21조 0.14628738164901733 \n",
      "\n",
      "제21조(위험물의 운송) 이동탱크저장소에 의하여 위험물을 운송하는 자(운송책임자 및 이동탱크저장소운전자를 말하며, 이하 \"위험물운송자\"라 한다)는 제20조제2항 각 호의 어느 하나에 해당하는 요건을 갖추어야 한다. <개정 2020.6.9> 대통령령이 정하는 위험물의 운송에 있어서는 운송책임자(위험물 운송의 감독 또는 지원을 하는 자를 말한다. 이하 같다)의 감독 또는 지원을 받아 이를 운송하여야 한다. 운송책임자의 범위, 감독 또는 지원의 방법 등에 관한 구체적인 기준은 행정안전부령으로 정한다. <개정 2008.2.29, 2013.3.23, 2014.11.19, 2017.7.26> 위험물운송자는 이동탱크저장소에 의하여 위험물을 운송하는 때에는 행정안전부령으로 정하는 기준을 준수하는 등 당해 위험물의 안전확보를 위하여 세심한 주의를 기울여야 한다. <개정 2008.2.29, 2013.3.23, 2014.11.19, 2014.12.30, 2017.7.26> \n",
      "\n",
      "산업안전보건법 제 72조 0.1292259693145752 \n",
      "\n",
      "제72조(건설공사 등의 산업안전보건관리비 계상 등) 건설공사발주자가 도급계약을 체결하거나 건설공사의 시공을 주도하여 총괄ㆍ관리하는 자(건설공사발주자로부터 건설공사를 최초로 도급받은 수급인은 제외한다)가 건설공사 사업 계획을 수립할 때에는 고용노동부장관이 정하여 고시하는 바에 따라 산업재해 예방을 위하여 사용하는 비용(이하 \"산업안전보건관리비\"라 한다)을 도급금액 또는 사업비에 계상(計上)하여야 한다. <개정 2020.6.9> 고용노동부장관은 산업안전보건관리비의 효율적인 사용을 위하여 다음 각 호의 사항을 정할 수 있다. 건설공사도급인은 산업안전보건관리비를 제2항에서 정하는 바에 따라 사용하고 고용노동부령으로 정하는 바에 따라 그 사용명세서를 작성하여 보존하여야 한다. <개정 2020.6.9> 선박의 건조 또는 수리를 최초로 도급받은 수급인은 사업 계획을 수립할 때에는 고용노동부장관이 정하여 고시하는 바에 따라 산업안전보건관리비를 사업비에 계상하여야 한다. 건설공사도급인 또는 제4항에 따른 선박의 건조 또는 수리를 최초로 도급받은 수급인은 산업안전보건관리비를 산업재해 예방 외의 목적으로 사용해서는 아니 된다. <개정 2020.6.9> 사업의 규모별ㆍ종류별 계상 기준 건설공사의 진척 정도에 따른 사용비율 등 기준 그 밖에 산업안전보건관리비의 사용에 필요한 사항 \n",
      "\n",
      "산업안전보건법 제 38조 0.1273690015077591 \n",
      "\n",
      "제38조(안전조치) 사업주는 다음 각 호의 어느 하나에 해당하는 위험으로 인한 산업재해를 예방하기 위하여 필요한 조치를 하여야 한다. 사업주는 굴착, 채석, 하역, 벌목, 운송, 조작, 운반, 해체, 중량물 취급, 그 밖의 작업을 할 때 불량한 작업방법 등에 의한 위험으로 인한 산업재해를 예방하기 위하여 필요한 조치를 하여야 한다. 사업주는 근로자가 다음 각 호의 어느 하나에 해당하는 장소에서 작업을 할 때 발생할 수 있는 산업재해를 예방하기 위하여 필요한 조치를 하여야 한다. 사업주가 제1항부터 제3항까지의 규정에 따라 하여야 하는 조치(이하 \"안전조치\"라 한다)에 관한 구체적인 사항은 고용노동부령으로 정한다. 기계ㆍ기구, 그 밖의 설비에 의한 위험 폭발성, 발화성 및 인화성 물질 등에 의한 위험 전기, 열, 그 밖의 에너지에 의한 위험 근로자가 추락할 위험이 있는 장소 토사ㆍ구축물 등이 붕괴할 우려가 있는 장소 물체가 떨어지거나 날아올 위험이 있는 장소 천재지변으로 인한 위험이 발생할 우려가 있는 장소 \n",
      "\n",
      "산업안전보건법 제 43조 0.1270013153553009 \n",
      "\n",
      "제43조(유해위험방지계획서 이행의 확인 등) 제42조제4항에 따라 유해위험방지계획서에 대한 심사를 받은 사업주는 고용노동부령으로 정하는 바에 따라 유해위험방지계획서의 이행에 관하여 고용노동부장관의 확인을 받아야 한다. 제42조제1항 각 호 외의 부분 단서에 따른 사업주는 고용노동부령으로 정하는 바에 따라 유해위험방지계획서의 이행에 관하여 스스로 확인하여야 한다. 다만, 해당 건설공사 중에 근로자가 사망(교통사고 등 고용노동부령으로 정하는 경우는 제외한다)한 경우에는 고용노동부령으로 정하는 바에 따라 유해위험방지계획서의 이행에 관하여 고용노동부장관의 확인을 받아야 한다. 고용노동부장관은 제1항 및 제2항 단서에 따른 확인 결과 유해위험방지계획서대로 유해ㆍ위험방지를 위한 조치가 되지 아니하는 경우에는 고용노동부령으로 정하는 바에 따라 시설 등의 개선, 사용중지 또는 작업중지 등 필요한 조치를 명할 수 있다. 제3항에 따른 시설 등의 개선, 사용중지 또는 작업중지 등의 절차 및 방법, 그 밖에 필요한 사항은 고용노동부령으로 정한다. \n",
      "\n",
      "건설기술진흥법 제 51조 0.11279524117708206 \n",
      "\n",
      "제51조(우수건설엔지니어링사업자 등의 선정) 국토교통부장관은 종합평가 결과 등 대통령령으로 정하는 바에 따라 우수건설엔지니어링사업자, 우수건설사업자 또는 우수건설기술인을 선정할 수 있다. <개정 2018.8.14, 2018.12.31, 2019.4.30, 2021.3.16> 발주청은 건설엔지니어링사업 또는 건설공사를 발주할 때 제1항에 따른 우수건설엔지니어링사업자, 우수건설사업자 또는 우수건설기술인을 우대할 수 있다. <개정 2018.8.14, 2019.4.30, 2021.3.16> 국토교통부장관은 제1항에 따른 우수건설엔지니어링사업자, 우수건설사업자 또는 우수건설기술인이 다음 각 호의 어느 하나에 해당하면 대통령령으로 정하는 바에 따라 그 선정을 취소하여야 한다. <개정 2018.8.14, 2018.12.31, 2019.4.30, 2021.3.16> 제1항부터 제3항까지에서 규정한 사항 외에 우수건설엔지니어링사업자, 우수건설사업자 또는 우수건설기술인의 선정에 필요한 세부사항은 대통령령으로 정한다. <신설 2018.12.31, 2019.4.30, 2021.3.16> 거짓이나 그 밖의 부정한 방법으로 선정된 경우 부실공사 등으로 인하여 「건설산업기본법」 제82조에 따른 영업정지 처분 또는 과징금 부과처분을 받은 경우 제1항에 따른 우수건설엔지니어링사업자(법인의 경우 그 대표자를 말한다), 우수건설사업자(법인의 경우 그 대표자를 말한다) 또는 우수건설기술인이 각각의 업무와 관련하여 금고 이상의 형(집행유예를 포함한다)을 선고받은 경우 위법ㆍ부당한 행위로 등록취소ㆍ영업정지ㆍ과징금 등 대통령령으로 정하는 행정처분을 받은 경우 \n",
      "\n",
      "산업안전보건법 제 174조 0.10811056196689606 \n",
      "\n",
      "제174조(형벌과 수강명령 등의 병과) 법원은 제38조제1항부터 제3항까지(제166조의2에서 준용하는 경우를 포함한다), 제39조제1항(제166조의2에서 준용하는 경우를 포함한다) 또는 제63조(제166조의2에서 준용하는 경우를 포함한다)를 위반하여 근로자를 사망에 이르게 한 사람에게 유죄의 판결(선고유예는 제외한다)을 선고하거나 약식명령을 고지하는 경우에는 200시간의 범위에서 산업재해 예방에 필요한 수강명령 또는 산업안전보건프로그램의 이수명령(이하 \"이수명령\"이라 한다)을 병과(倂科)할 수 있다. <개정 2020.3.31> 제1항에 따른 수강명령은 형의 집행을 유예할 경우에 그 집행유예기간 내에서 병과하고, 이수명령은 벌금 이상의 형을 선고하거나 약식명령을 고지할 경우에 병과한다. <신설 2020.3.31> 제1항에 따른 수강명령 또는 이수명령은 형의 집행을 유예할 경우에는 그 집행유예기간 내에, 벌금형을 선고하거나 약식명령을 고지할 경우에는 형 확정일부터 6개월 이내에, 징역형 이상의 실형(實刑)을 선고할 경우에는 형기 내에 각각 집행한다. <개정 2020.3.31> 제1항에 따른 수강명령 또는 이수명령이 벌금형 또는 형의 집행유예와 병과된 경우에는 보호관찰소의 장이 집행하고, 징역형 이상의 실형과 병과된 경우에는 교정시설의 장이 집행한다. 다만, 징역형 이상의 실형과 병과된 이수명령을 모두 이행하기 전에 석방 또는 가석방되거나 미결구금일수 산입 등의 사유로 형을 집행할 수 없게 된 경우에는 보호관찰소의 장이 남은 이수명령을 집행한다. <개정 2020.3.31> 제1항에 따른 수강명령 또는 이수명령은 다음 각 호의 내용으로 한다. <개정 2020.3.31> 수강명령 및 이수명령에 관하여 이 법에서 규정한 사항 외의 사항에 대해서는 「보호관찰 등에 관한 법률」을 준용한다. <개정 2020.3.31> 안전 및 보건에 관한 교육 그 밖에 산업재해 예방을 위하여 필요한 사항 \n",
      "\n",
      "산업안전보건법 제 3조 0.10431350767612457 \n",
      "\n",
      "제3조(적용 범위) 이 법은 모든 사업에 적용한다. 다만, 유해ㆍ위험의 정도, 사업의 종류, 사업장의 상시근로자 수(건설공사의 경우에는 건설공사 금액을 말한다. 이하 같다) 등을 고려하여 대통령령으로 정하는 종류의 사업 또는 사업장에는 이 법의 전부 또는 일부를 적용하지 아니할 수 있다. \n",
      "\n"
     ]
    },
    {
     "name": "stderr",
     "output_type": "stream",
     "text": [
      "<ipython-input-15-02310684d203>:8: DeprecationWarning: Call to deprecated `docvecs` (The `docvecs` property has been renamed `dv`.).\n",
      "  return_docs = model.docvecs.most_similar(positive=[inferred_vector],topn=10)\n"
     ]
    }
   ],
   "source": [
    "model.random.seed(9999)\n",
    "\n",
    "doc_list = input().split(' ')\n",
    "\n",
    "# 특정 document를 입력받았을 때 그 document 단어와 유사도가 높은 조 순서대로 출력\n",
    "\n",
    "inferred_vector = model.infer_vector(doc_list)\n",
    "return_docs = model.docvecs.most_similar(positive=[inferred_vector],topn=10)\n",
    "for rd in return_docs:\n",
    "    for des in df_info[df_info['키'] == rd[0]]['조내용']:\n",
    "        print(get_key(rd[0]), rd[1], '\\n')\n",
    "        print(des)\n",
    "        print()"
   ]
  },
  {
   "cell_type": "code",
   "execution_count": 16,
   "metadata": {},
   "outputs": [
    {
     "name": "stdout",
     "output_type": "stream",
     "text": [
      "조문키를 입력하세요: 240011\n",
      "\n",
      "산업안전보건법 제 25조 0.6013049483299255 \n",
      "\n",
      "산업안전보건법 제 75조 0.5699998736381531 \n",
      "\n",
      "산업안전보건법 제 23조 0.5109585523605347 \n",
      "\n",
      "산업안전보건법 제 94조 0.5091511607170105 \n",
      "\n",
      "산업안전보건법 제 62조 0.5076019167900085 \n",
      "\n",
      "산업안전보건법 제 51조 0.5025501847267151 \n",
      "\n",
      "화학물질관리법 제 41조의 2 0.5011604428291321 \n",
      "\n",
      "산업안전보건법 제 95조 0.5008601546287537 \n",
      "\n",
      "산업안전보건법 제 22조 0.49356579780578613 \n",
      "\n",
      "전기안전관리법 제 34조 0.49299222230911255 \n",
      "\n"
     ]
    },
    {
     "name": "stderr",
     "output_type": "stream",
     "text": [
      "<ipython-input-16-e7875dfe2da4>:4: DeprecationWarning: Call to deprecated `docvecs` (The `docvecs` property has been renamed `dv`.).\n",
      "  return_docs = model.docvecs.most_similar(docs,topn=10)\n"
     ]
    }
   ],
   "source": [
    "docs = input('조문키를 입력하세요: ')\n",
    "print()\n",
    "\n",
    "return_docs = model.docvecs.most_similar(docs,topn=10)\n",
    "for rd in return_docs:\n",
    "    for des in df_info[df_info['키'] == rd[0]]['조내용']:\n",
    "        print(get_key(rd[0]), rd[1], '\\n')"
   ]
  },
  {
   "cell_type": "markdown",
   "metadata": {},
   "source": [
    "## cos_similarity 함수를 직접 생성하여 유사도 측정하기\n",
    "\n",
    "https://sosoeasy.tistory.com/325"
   ]
  },
  {
   "cell_type": "code",
   "execution_count": 17,
   "metadata": {},
   "outputs": [],
   "source": [
    "from gensim.models import Doc2Vec\n",
    "from numpy import dot\n",
    "from numpy.linalg import norm\n",
    "import numpy as np"
   ]
  },
  {
   "cell_type": "code",
   "execution_count": 18,
   "metadata": {},
   "outputs": [
    {
     "name": "stdout",
     "output_type": "stream",
     "text": [
      "0.0017471809\n"
     ]
    }
   ],
   "source": [
    "def cos_sim(A, B):\n",
    "    return dot(A, B)/(norm(A)*norm(B))\n",
    "\n",
    "script=\"안녕하세요 첫번째 문장입니다 그럼이만\".split()\n",
    "scriptV=model.infer_vector(script)\n",
    "\n",
    "ppt=\"이것은 두번째 문장입니다 첫번째 문장과 유사도를 비교할껍니다\".split()\n",
    "pptV=model.infer_vector(ppt)\n",
    "\n",
    "print(cos_sim(scriptV,pptV))"
   ]
  },
  {
   "cell_type": "code",
   "execution_count": 19,
   "metadata": {},
   "outputs": [
    {
     "data": {
      "text/plain": [
       "<gensim.models.doc2vec.Doc2Vec at 0x20c69821730>"
      ]
     },
     "execution_count": 19,
     "metadata": {},
     "output_type": "execute_result"
    }
   ],
   "source": [
    "model"
   ]
  },
  {
   "cell_type": "code",
   "execution_count": 20,
   "metadata": {},
   "outputs": [
    {
     "data": {
      "text/html": [
       "<div>\n",
       "<style scoped>\n",
       "    .dataframe tbody tr th:only-of-type {\n",
       "        vertical-align: middle;\n",
       "    }\n",
       "\n",
       "    .dataframe tbody tr th {\n",
       "        vertical-align: top;\n",
       "    }\n",
       "\n",
       "    .dataframe thead th {\n",
       "        text-align: right;\n",
       "    }\n",
       "</style>\n",
       "<table border=\"1\" class=\"dataframe\">\n",
       "  <thead>\n",
       "    <tr style=\"text-align: right;\">\n",
       "      <th></th>\n",
       "      <th>키</th>\n",
       "      <th>조내용</th>\n",
       "      <th>Token</th>\n",
       "    </tr>\n",
       "  </thead>\n",
       "  <tbody>\n",
       "    <tr>\n",
       "      <th>0</th>\n",
       "      <td>10011</td>\n",
       "      <td>제1조(목적) 이 법은 산업 안전 및 보건에 관한 기준을 확립하고 그 책임의 소재를...</td>\n",
       "      <td>[1조, 목적, 산업, 안전, 보건, 기준, 확립, 하고, 책임, 소재, 명확하다,...</td>\n",
       "    </tr>\n",
       "    <tr>\n",
       "      <th>1</th>\n",
       "      <td>20011</td>\n",
       "      <td>제2조(정의) 이 법에서 사용하는 용어의 뜻은 다음과 같다. &lt;개정 2020.5.2...</td>\n",
       "      <td>[2조, 정의, 에서, 사용, 하다, 용어, 다음, 같다, 개정, 2020.5, 2...</td>\n",
       "    </tr>\n",
       "    <tr>\n",
       "      <th>2</th>\n",
       "      <td>30011</td>\n",
       "      <td>제3조(적용 범위) 이 법은 모든 사업에 적용한다. 다만, 유해ㆍ위험의 정도, 사업...</td>\n",
       "      <td>[3조, 적용, 범위, 모든, 사업, 적용, 하다, 다만, 유해, 위험, 정도, 사...</td>\n",
       "    </tr>\n",
       "    <tr>\n",
       "      <th>3</th>\n",
       "      <td>40011</td>\n",
       "      <td>제4조(정부의 책무) 정부는 이 법의 목적을 달성하기 위하여 다음 각 호의 사항을 ...</td>\n",
       "      <td>[4조, 정부, 책무, 정부, 목적, 달성, 하다, 하다, 다음, 호의, 사항, 성...</td>\n",
       "    </tr>\n",
       "    <tr>\n",
       "      <th>4</th>\n",
       "      <td>50011</td>\n",
       "      <td>제5조(사업주 등의 의무) 사업주(제77조에 따른 특수형태근로종사자로부터 노무를 제...</td>\n",
       "      <td>[5조, 업주, 의무, 업주, 77조, 따르다, 특수, 형태, 근로, 종사, 자로,...</td>\n",
       "    </tr>\n",
       "    <tr>\n",
       "      <th>...</th>\n",
       "      <td>...</td>\n",
       "      <td>...</td>\n",
       "      <td>...</td>\n",
       "    </tr>\n",
       "    <tr>\n",
       "      <th>452</th>\n",
       "      <td>600015</td>\n",
       "      <td>제60조(벌칙) 제43조제2항에 따라 즉시 신고를 하지 아니한 자는 2년 이하의 징...</td>\n",
       "      <td>[60조, 벌칙, 43조, 따르다, 즉시, 신고, 하다, 아니다, 자다, 2년, 이...</td>\n",
       "    </tr>\n",
       "    <tr>\n",
       "      <th>453</th>\n",
       "      <td>610015</td>\n",
       "      <td>제61조(벌칙) 다음 각 호의 어느 하나에 해당하는 자는 1년 이하의 징역 또는 3...</td>\n",
       "      <td>[61조, 벌칙, 다음, 호의, 어느, 하나, 해당, 하다, 자다, 1년, 이하, ...</td>\n",
       "    </tr>\n",
       "    <tr>\n",
       "      <th>454</th>\n",
       "      <td>620015</td>\n",
       "      <td>제62조(벌칙) 다음 각 호의 어느 하나에 해당하는 자는 6개월 이하의 징역 또는 ...</td>\n",
       "      <td>[62조, 벌칙, 다음, 호의, 어느, 하나, 해당, 하다, 자다, 개월, 이하, ...</td>\n",
       "    </tr>\n",
       "    <tr>\n",
       "      <th>455</th>\n",
       "      <td>630015</td>\n",
       "      <td>제63조(양벌규정) 법인의 대표자나 법인 또는 개인의 대리인, 사용인, 그 밖의 종...</td>\n",
       "      <td>[63조, 규정, 법인, 대표자, 법인, 또는, 개인, 대리인, 사용, 종업원, 법...</td>\n",
       "    </tr>\n",
       "    <tr>\n",
       "      <th>456</th>\n",
       "      <td>640015</td>\n",
       "      <td>제64조(과태료) 다음 각 호의 어느 하나에 해당하는 자에게는 1천만원 이하의 과태...</td>\n",
       "      <td>[64조, 과태료, 다음, 호의, 어느, 하나, 해당, 하다, 에게는, 1천만원, ...</td>\n",
       "    </tr>\n",
       "  </tbody>\n",
       "</table>\n",
       "<p>457 rows × 3 columns</p>\n",
       "</div>"
      ],
      "text/plain": [
       "          키                                                조내용  \\\n",
       "0     10011  제1조(목적) 이 법은 산업 안전 및 보건에 관한 기준을 확립하고 그 책임의 소재를...   \n",
       "1     20011  제2조(정의) 이 법에서 사용하는 용어의 뜻은 다음과 같다. <개정 2020.5.2...   \n",
       "2     30011  제3조(적용 범위) 이 법은 모든 사업에 적용한다. 다만, 유해ㆍ위험의 정도, 사업...   \n",
       "3     40011  제4조(정부의 책무) 정부는 이 법의 목적을 달성하기 위하여 다음 각 호의 사항을 ...   \n",
       "4     50011  제5조(사업주 등의 의무) 사업주(제77조에 따른 특수형태근로종사자로부터 노무를 제...   \n",
       "..      ...                                                ...   \n",
       "452  600015  제60조(벌칙) 제43조제2항에 따라 즉시 신고를 하지 아니한 자는 2년 이하의 징...   \n",
       "453  610015  제61조(벌칙) 다음 각 호의 어느 하나에 해당하는 자는 1년 이하의 징역 또는 3...   \n",
       "454  620015  제62조(벌칙) 다음 각 호의 어느 하나에 해당하는 자는 6개월 이하의 징역 또는 ...   \n",
       "455  630015  제63조(양벌규정) 법인의 대표자나 법인 또는 개인의 대리인, 사용인, 그 밖의 종...   \n",
       "456  640015  제64조(과태료) 다음 각 호의 어느 하나에 해당하는 자에게는 1천만원 이하의 과태...   \n",
       "\n",
       "                                                 Token  \n",
       "0    [1조, 목적, 산업, 안전, 보건, 기준, 확립, 하고, 책임, 소재, 명확하다,...  \n",
       "1    [2조, 정의, 에서, 사용, 하다, 용어, 다음, 같다, 개정, 2020.5, 2...  \n",
       "2    [3조, 적용, 범위, 모든, 사업, 적용, 하다, 다만, 유해, 위험, 정도, 사...  \n",
       "3    [4조, 정부, 책무, 정부, 목적, 달성, 하다, 하다, 다음, 호의, 사항, 성...  \n",
       "4    [5조, 업주, 의무, 업주, 77조, 따르다, 특수, 형태, 근로, 종사, 자로,...  \n",
       "..                                                 ...  \n",
       "452  [60조, 벌칙, 43조, 따르다, 즉시, 신고, 하다, 아니다, 자다, 2년, 이...  \n",
       "453  [61조, 벌칙, 다음, 호의, 어느, 하나, 해당, 하다, 자다, 1년, 이하, ...  \n",
       "454  [62조, 벌칙, 다음, 호의, 어느, 하나, 해당, 하다, 자다, 개월, 이하, ...  \n",
       "455  [63조, 규정, 법인, 대표자, 법인, 또는, 개인, 대리인, 사용, 종업원, 법...  \n",
       "456  [64조, 과태료, 다음, 호의, 어느, 하나, 해당, 하다, 에게는, 1천만원, ...  \n",
       "\n",
       "[457 rows x 3 columns]"
      ]
     },
     "execution_count": 20,
     "metadata": {},
     "output_type": "execute_result"
    }
   ],
   "source": [
    "df_info"
   ]
  },
  {
   "cell_type": "code",
   "execution_count": 21,
   "metadata": {},
   "outputs": [
    {
     "data": {
      "text/plain": [
       "'10011'"
      ]
     },
     "execution_count": 21,
     "metadata": {},
     "output_type": "execute_result"
    }
   ],
   "source": [
    "df_info.iloc[0][0]"
   ]
  },
  {
   "cell_type": "code",
   "execution_count": 22,
   "metadata": {},
   "outputs": [
    {
     "name": "stdout",
     "output_type": "stream",
     "text": [
      "조문키를 입력하세요: 240011\n",
      "\n"
     ]
    }
   ],
   "source": [
    "num = input('조문키를 입력하세요: ')\n",
    "print()"
   ]
  },
  {
   "cell_type": "code",
   "execution_count": 23,
   "metadata": {},
   "outputs": [
    {
     "data": {
      "text/html": [
       "<div>\n",
       "<style scoped>\n",
       "    .dataframe tbody tr th:only-of-type {\n",
       "        vertical-align: middle;\n",
       "    }\n",
       "\n",
       "    .dataframe tbody tr th {\n",
       "        vertical-align: top;\n",
       "    }\n",
       "\n",
       "    .dataframe thead th {\n",
       "        text-align: right;\n",
       "    }\n",
       "</style>\n",
       "<table border=\"1\" class=\"dataframe\">\n",
       "  <thead>\n",
       "    <tr style=\"text-align: right;\">\n",
       "      <th></th>\n",
       "      <th>cos_similarity</th>\n",
       "    </tr>\n",
       "  </thead>\n",
       "  <tbody>\n",
       "    <tr>\n",
       "      <th>산업안전보건법 제 24조</th>\n",
       "      <td>0.901883</td>\n",
       "    </tr>\n",
       "    <tr>\n",
       "      <th>건설기술진흥법 제 52조의 2</th>\n",
       "      <td>0.622745</td>\n",
       "    </tr>\n",
       "    <tr>\n",
       "      <th>산업안전보건법 제 25조</th>\n",
       "      <td>0.621237</td>\n",
       "    </tr>\n",
       "    <tr>\n",
       "      <th>산업안전보건법 제 17조</th>\n",
       "      <td>0.616497</td>\n",
       "    </tr>\n",
       "    <tr>\n",
       "      <th>산업안전보건법 제 52조</th>\n",
       "      <td>0.590683</td>\n",
       "    </tr>\n",
       "    <tr>\n",
       "      <th>건설기술진흥법 제 3조</th>\n",
       "      <td>0.581439</td>\n",
       "    </tr>\n",
       "    <tr>\n",
       "      <th>건설기술진흥법 제 66조</th>\n",
       "      <td>0.576336</td>\n",
       "    </tr>\n",
       "    <tr>\n",
       "      <th>산업안전보건법 제 47조</th>\n",
       "      <td>0.568186</td>\n",
       "    </tr>\n",
       "    <tr>\n",
       "      <th>산업안전보건법 제 73조</th>\n",
       "      <td>0.567406</td>\n",
       "    </tr>\n",
       "    <tr>\n",
       "      <th>산업안전보건법 제 19조</th>\n",
       "      <td>0.562032</td>\n",
       "    </tr>\n",
       "  </tbody>\n",
       "</table>\n",
       "</div>"
      ],
      "text/plain": [
       "                  cos_similarity\n",
       "산업안전보건법 제 24조           0.901883\n",
       "건설기술진흥법 제 52조의 2        0.622745\n",
       "산업안전보건법 제 25조           0.621237\n",
       "산업안전보건법 제 17조           0.616497\n",
       "산업안전보건법 제 52조           0.590683\n",
       "건설기술진흥법 제 3조            0.581439\n",
       "건설기술진흥법 제 66조           0.576336\n",
       "산업안전보건법 제 47조           0.568186\n",
       "산업안전보건법 제 73조           0.567406\n",
       "산업안전보건법 제 19조           0.562032"
      ]
     },
     "execution_count": 23,
     "metadata": {},
     "output_type": "execute_result"
    }
   ],
   "source": [
    "for i in range(len(df_info['조내용'])):\n",
    "    if df_info.iloc[i][0] == num:\n",
    "        script = df_info.iloc[i][1].split()\n",
    "        scriptV = model.infer_vector(script)\n",
    "\n",
    "jo_ = []\n",
    "cos_ = []\n",
    "for j in df_info['조내용']:\n",
    "    ppt = j.split()\n",
    "    pptV = model.infer_vector(ppt)\n",
    "    \n",
    "    cos = cos_sim(scriptV,pptV)\n",
    "    cos_.append(cos)\n",
    "\n",
    "for jo in jo_key :\n",
    "    jo_.append(get_key(jo))\n",
    "\n",
    "df_cos = pd.DataFrame({'cos_similarity':cos_}, index = jo_)\n",
    "df_cos_sort = df_cos.sort_values(by=['cos_similarity'], axis=0, ascending=False)\n",
    "df_cos_sort.head(10)"
   ]
  },
  {
   "cell_type": "code",
   "execution_count": 24,
   "metadata": {},
   "outputs": [
    {
     "data": {
      "text/plain": [
       "False"
      ]
     },
     "execution_count": 24,
     "metadata": {},
     "output_type": "execute_result"
    }
   ],
   "source": [
    "df_info['조내용'][7].split() == script"
   ]
  },
  {
   "cell_type": "code",
   "execution_count": 25,
   "metadata": {},
   "outputs": [],
   "source": [
    "# 실행할 때마다 cos_similarity 값이 왜 바뀔까 ????????????????????????????"
   ]
  }
 ],
 "metadata": {
  "kernelspec": {
   "display_name": "Python 3",
   "language": "python",
   "name": "python3"
  },
  "language_info": {
   "codemirror_mode": {
    "name": "ipython",
    "version": 3
   },
   "file_extension": ".py",
   "mimetype": "text/x-python",
   "name": "python",
   "nbconvert_exporter": "python",
   "pygments_lexer": "ipython3",
   "version": "3.8.3"
  }
 },
 "nbformat": 4,
 "nbformat_minor": 4
}
