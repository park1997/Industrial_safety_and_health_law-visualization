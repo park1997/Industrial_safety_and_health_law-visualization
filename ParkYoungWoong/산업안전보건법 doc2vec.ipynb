{
 "cells": [
  {
   "cell_type": "code",
   "execution_count": 17,
   "metadata": {},
   "outputs": [
    {
     "name": "stderr",
     "output_type": "stream",
     "text": [
      "C:\\Users\\assay\\anaconda3\\lib\\site-packages\\gensim\\similarities\\__init__.py:15: UserWarning: The gensim.similarities.levenshtein submodule is disabled, because the optional Levenshtein package <https://pypi.org/project/python-Levenshtein/> is unavailable. Install Levenhstein (e.g. `pip install python-Levenshtein`) to suppress this warning.\n",
      "  warnings.warn(msg)\n"
     ]
    }
   ],
   "source": [
    "import requests\n",
    "from urllib.request import urlopen\n",
    "from urllib.parse import urlencode,unquote,quote_plus\n",
    "import urllib\n",
    "import lxml\n",
    "import pandas as pd\n",
    "import numpy as np\n",
    "from bs4 import BeautifulSoup\n",
    "import re\n",
    "import matplotlib.pyplot as plt\n",
    "from gensim.models.word2vec import Word2Vec\n",
    "from konlpy.tag import Okt"
   ]
  },
  {
   "cell_type": "code",
   "execution_count": 2,
   "metadata": {},
   "outputs": [
    {
     "name": "stdout",
     "output_type": "stream",
     "text": [
      " http://www.law.go.kr/DRF/lawService.do?OC=bmsong&target=eflaw&MST=218289&type=XML\n"
     ]
    }
   ],
   "source": [
    "# 법령 XML 상세조회 (시행기준. target=eflaw)\n",
    "\n",
    "#기본 url\n",
    "url_base = \" http://www.law.go.kr/DRF/lawService.do\"\n",
    "\n",
    "#조회 url 세부 설정\n",
    "user_id = 'bmsong' #open API ID (bmsong@kau.ac.kr의 아이디 부분)\n",
    "target = \"eflaw\" #법령 조회시\n",
    "MST = \"218289\" #ID 또는 MST #산업안전보건법 MST 218289\n",
    "#ID = \"001766\" \n",
    "            #ID 산업안전보건법 법령ID 001766 (설명에는 ID로 조회하면 현행법령이 조회된다는데, \n",
    "            #target을 eflaw로 하면 ID로 요청해도, MST로 요청해도 같은 것 같다.\n",
    "Type = \"XML\" #출력 형태 : HTML 또는 XML\n",
    "\n",
    "url_sub = \"?\" +\\\n",
    "        \"OC=\" + user_id +\\\n",
    "        \"&target=\" + target +\\\n",
    "        \"&MST=\" + MST +\\\n",
    "        \"&type=\" + Type\n",
    "\n",
    "#최종 url\n",
    "url = url_base + url_sub\n",
    "\n",
    "print(url)\n",
    "\n",
    "response = requests.get(url)\n",
    "\n",
    "#(1) response.text 사용하는 방법\n",
    "#soup = BeautifulSoup(response.text.encode('utf-8'), 'lxml-xml') #lxml-xml -> lxml 추가 설치 필요(Beautifulsoup과 별도로 설치)\n",
    "\n",
    "#(2) response.content 사용하는 방법\n",
    "soup = BeautifulSoup(response.content, 'lxml-xml') #lxml-xml -> lxml 추가 설치 필요(Beautifulsoup과 별도로 설치)\n",
    "\n",
    "\n",
    "# soup"
   ]
  },
  {
   "cell_type": "code",
   "execution_count": 12,
   "metadata": {},
   "outputs": [
    {
     "data": {
      "text/html": [
       "<div>\n",
       "<style scoped>\n",
       "    .dataframe tbody tr th:only-of-type {\n",
       "        vertical-align: middle;\n",
       "    }\n",
       "\n",
       "    .dataframe tbody tr th {\n",
       "        vertical-align: top;\n",
       "    }\n",
       "\n",
       "    .dataframe thead th {\n",
       "        text-align: right;\n",
       "    }\n",
       "</style>\n",
       "<table border=\"1\" class=\"dataframe\">\n",
       "  <thead>\n",
       "    <tr style=\"text-align: right;\">\n",
       "      <th></th>\n",
       "      <th>id</th>\n",
       "      <th>조내용</th>\n",
       "    </tr>\n",
       "  </thead>\n",
       "  <tbody>\n",
       "    <tr>\n",
       "      <th>0</th>\n",
       "      <td>0001001</td>\n",
       "      <td>제1조(목적) 이 법은 산업 안전 및 보건에 관한 기준을 확립하고 그 책임의 소재를...</td>\n",
       "    </tr>\n",
       "    <tr>\n",
       "      <th>1</th>\n",
       "      <td>0002001</td>\n",
       "      <td>제2조(정의) 이 법에서 사용하는 용어의 뜻은 다음과 같다. &lt;개정 2020.5.2...</td>\n",
       "    </tr>\n",
       "    <tr>\n",
       "      <th>2</th>\n",
       "      <td>0003001</td>\n",
       "      <td>제3조(적용 범위) 이 법은 모든 사업에 적용한다. 다만, 유해ㆍ위험의 정도, 사업...</td>\n",
       "    </tr>\n",
       "    <tr>\n",
       "      <th>3</th>\n",
       "      <td>0004001</td>\n",
       "      <td>제4조(정부의 책무)산업 안전 및 보건 정책의 수립 및 집행산업재해 예방 지원 및 ...</td>\n",
       "    </tr>\n",
       "    <tr>\n",
       "      <th>4</th>\n",
       "      <td>0005001</td>\n",
       "      <td>제5조(사업주 등의 의무)이 법과 이 법에 따른 명령으로 정하는 산업재해 예방을 위...</td>\n",
       "    </tr>\n",
       "    <tr>\n",
       "      <th>...</th>\n",
       "      <td>...</td>\n",
       "      <td>...</td>\n",
       "    </tr>\n",
       "    <tr>\n",
       "      <th>172</th>\n",
       "      <td>0171001</td>\n",
       "      <td>제171조(벌칙) 다음 각 호의 어느 하나에 해당하는 자는 1천만원 이하의 벌금에 ...</td>\n",
       "    </tr>\n",
       "    <tr>\n",
       "      <th>173</th>\n",
       "      <td>0172001</td>\n",
       "      <td>제172조(벌칙) 제64조제1항 또는 제2항을 위반한 자는 500만원 이하의 벌금에...</td>\n",
       "    </tr>\n",
       "    <tr>\n",
       "      <th>174</th>\n",
       "      <td>0173001</td>\n",
       "      <td>제173조(양벌규정) 법인의 대표자나 법인 또는 개인의 대리인, 사용인, 그 밖의 ...</td>\n",
       "    </tr>\n",
       "    <tr>\n",
       "      <th>175</th>\n",
       "      <td>0174001</td>\n",
       "      <td>제174조(형벌과 수강명령 등의 병과)안전 및 보건에 관한 교육그 밖에 산업재해 예...</td>\n",
       "    </tr>\n",
       "    <tr>\n",
       "      <th>176</th>\n",
       "      <td>0175001</td>\n",
       "      <td>제175조(과태료)제119조제2항에 따라 기관석면조사를 하지 아니하고 건축물 또는 ...</td>\n",
       "    </tr>\n",
       "  </tbody>\n",
       "</table>\n",
       "<p>177 rows × 2 columns</p>\n",
       "</div>"
      ],
      "text/plain": [
       "          id                                                조내용\n",
       "0    0001001  제1조(목적) 이 법은 산업 안전 및 보건에 관한 기준을 확립하고 그 책임의 소재를...\n",
       "1    0002001  제2조(정의) 이 법에서 사용하는 용어의 뜻은 다음과 같다. <개정 2020.5.2...\n",
       "2    0003001  제3조(적용 범위) 이 법은 모든 사업에 적용한다. 다만, 유해ㆍ위험의 정도, 사업...\n",
       "3    0004001  제4조(정부의 책무)산업 안전 및 보건 정책의 수립 및 집행산업재해 예방 지원 및 ...\n",
       "4    0005001  제5조(사업주 등의 의무)이 법과 이 법에 따른 명령으로 정하는 산업재해 예방을 위...\n",
       "..       ...                                                ...\n",
       "172  0171001  제171조(벌칙) 다음 각 호의 어느 하나에 해당하는 자는 1천만원 이하의 벌금에 ...\n",
       "173  0172001  제172조(벌칙) 제64조제1항 또는 제2항을 위반한 자는 500만원 이하의 벌금에...\n",
       "174  0173001  제173조(양벌규정) 법인의 대표자나 법인 또는 개인의 대리인, 사용인, 그 밖의 ...\n",
       "175  0174001  제174조(형벌과 수강명령 등의 병과)안전 및 보건에 관한 교육그 밖에 산업재해 예...\n",
       "176  0175001  제175조(과태료)제119조제2항에 따라 기관석면조사를 하지 아니하고 건축물 또는 ...\n",
       "\n",
       "[177 rows x 2 columns]"
      ]
     },
     "execution_count": 12,
     "metadata": {},
     "output_type": "execute_result"
    }
   ],
   "source": [
    "data = soup.find_all('조문단위')\n",
    "df_info = pd.DataFrame()\n",
    "info = []\n",
    "jo_key = []\n",
    "for i in data:\n",
    "    info_str = \"\"\n",
    "    if i.find(\"조문여부\").get_text() == \"조문\":\n",
    "        info_str += i.조문내용.get_text().strip()\n",
    "        \n",
    "        key = i['조문키']\n",
    "        jo_key.append(key)\n",
    "        \n",
    "        \n",
    "        if i.항:\n",
    "            hang_nums = i.find_all(\"항번호\")\n",
    "            ho_nums = i.find_all(\"호번호\")\n",
    "            for idx, p in enumerate(i.find_all(\"호내용\")):\n",
    "                info_str += p.get_text().split(ho_nums[idx].get_text())[1].strip()\n",
    "            for hang_idx, k in enumerate(i.find_all(\"항내용\")):\n",
    "                info_str += k.get_text().strip().split(hang_nums[hang_idx].get_text())[1].strip()\n",
    "                for ho_idx ,j in enumerate(i.find_all(\"호내용\")):\n",
    "                    info_str += j.get_text().strip().split(ho_nums[ho_idx].get_text())[1].strip()\n",
    "        info.append(info_str)\n",
    "df_info['id'] = jo_key\n",
    "df_info[\"조내용\"] = info\n",
    "df_info"
   ]
  },
  {
   "cell_type": "code",
   "execution_count": 15,
   "metadata": {},
   "outputs": [
    {
     "data": {
      "text/html": [
       "<div>\n",
       "<style scoped>\n",
       "    .dataframe tbody tr th:only-of-type {\n",
       "        vertical-align: middle;\n",
       "    }\n",
       "\n",
       "    .dataframe tbody tr th {\n",
       "        vertical-align: top;\n",
       "    }\n",
       "\n",
       "    .dataframe thead th {\n",
       "        text-align: right;\n",
       "    }\n",
       "</style>\n",
       "<table border=\"1\" class=\"dataframe\">\n",
       "  <thead>\n",
       "    <tr style=\"text-align: right;\">\n",
       "      <th></th>\n",
       "      <th>불용어</th>\n",
       "    </tr>\n",
       "  </thead>\n",
       "  <tbody>\n",
       "    <tr>\n",
       "      <th>0</th>\n",
       "      <td>아</td>\n",
       "    </tr>\n",
       "    <tr>\n",
       "      <th>1</th>\n",
       "      <td>휴</td>\n",
       "    </tr>\n",
       "    <tr>\n",
       "      <th>2</th>\n",
       "      <td>아이구</td>\n",
       "    </tr>\n",
       "    <tr>\n",
       "      <th>3</th>\n",
       "      <td>아이쿠</td>\n",
       "    </tr>\n",
       "    <tr>\n",
       "      <th>4</th>\n",
       "      <td>아이고</td>\n",
       "    </tr>\n",
       "    <tr>\n",
       "      <th>...</th>\n",
       "      <td>...</td>\n",
       "    </tr>\n",
       "    <tr>\n",
       "      <th>670</th>\n",
       "      <td>일곱</td>\n",
       "    </tr>\n",
       "    <tr>\n",
       "      <th>671</th>\n",
       "      <td>여덟</td>\n",
       "    </tr>\n",
       "    <tr>\n",
       "      <th>672</th>\n",
       "      <td>아홉</td>\n",
       "    </tr>\n",
       "    <tr>\n",
       "      <th>673</th>\n",
       "      <td>령</td>\n",
       "    </tr>\n",
       "    <tr>\n",
       "      <th>674</th>\n",
       "      <td>영</td>\n",
       "    </tr>\n",
       "  </tbody>\n",
       "</table>\n",
       "<p>675 rows × 1 columns</p>\n",
       "</div>"
      ],
      "text/plain": [
       "     불용어\n",
       "0      아\n",
       "1      휴\n",
       "2    아이구\n",
       "3    아이쿠\n",
       "4    아이고\n",
       "..   ...\n",
       "670   일곱\n",
       "671   여덟\n",
       "672   아홉\n",
       "673    령\n",
       "674    영\n",
       "\n",
       "[675 rows x 1 columns]"
      ]
     },
     "execution_count": 15,
     "metadata": {},
     "output_type": "execute_result"
    }
   ],
   "source": [
    "stop_words = pd.read_excel(\"stopwords.xlsx\")\n",
    "stop_words"
   ]
  },
  {
   "cell_type": "code",
   "execution_count": 22,
   "metadata": {},
   "outputs": [],
   "source": [
    "okt = Okt()\n",
    "tokenized_data = []\n",
    "for sentence in df_info['조내용']:\n",
    "    temp_X = okt.morphs(sentence, stem=True) # 토큰화\n",
    "    temp_X = [word for word in temp_X if not word in stop_words and len(word) > 1] # 불용어 제거\n",
    "    tokenized_data.append(temp_X)"
   ]
  },
  {
   "cell_type": "code",
   "execution_count": 26,
   "metadata": {},
   "outputs": [
    {
     "name": "stdout",
     "output_type": "stream",
     "text": [
      "조문의 최대 길이 : 6890\n",
      "조문의 평균 길이 : 215.8135593220339\n"
     ]
    },
    {
     "data": {
      "image/png": "[encoded data removed]",
      "text/plain": [
       "<Figure size 432x288 with 1 Axes>"
      ]
     },
     "metadata": {
      "needs_background": "light"
     },
     "output_type": "display_data"
    }
   ],
   "source": [
    "print('조문의 최대 길이 :',max(len(l) for l in tokenized_data))\n",
    "print('조문의 평균 길이 :',sum(map(len, tokenized_data))/len(tokenized_data))\n",
    "plt.hist([len(s) for s in tokenized_data], bins=50)\n",
    "plt.xlabel('length of samples')\n",
    "plt.ylabel('number of samples')\n",
    "plt.show()"
   ]
  },
  {
   "cell_type": "code",
   "execution_count": 33,
   "metadata": {},
   "outputs": [
    {
     "data": {
      "text/html": [
       "<div>\n",
       "<style scoped>\n",
       "    .dataframe tbody tr th:only-of-type {\n",
       "        vertical-align: middle;\n",
       "    }\n",
       "\n",
       "    .dataframe tbody tr th {\n",
       "        vertical-align: top;\n",
       "    }\n",
       "\n",
       "    .dataframe thead th {\n",
       "        text-align: right;\n",
       "    }\n",
       "</style>\n",
       "<table border=\"1\" class=\"dataframe\">\n",
       "  <thead>\n",
       "    <tr style=\"text-align: right;\">\n",
       "      <th></th>\n",
       "      <th>id</th>\n",
       "      <th>조내용</th>\n",
       "      <th>Token</th>\n",
       "    </tr>\n",
       "  </thead>\n",
       "  <tbody>\n",
       "    <tr>\n",
       "      <th>0</th>\n",
       "      <td>0001001</td>\n",
       "      <td>제1조(목적) 이 법은 산업 안전 및 보건에 관한 기준을 확립하고 그 책임의 소재를...</td>\n",
       "      <td>[1조, 목적, 산업, 안전, 보건, 기준, 확립, 하고, 책임, 소재, 명확하다,...</td>\n",
       "    </tr>\n",
       "    <tr>\n",
       "      <th>1</th>\n",
       "      <td>0002001</td>\n",
       "      <td>제2조(정의) 이 법에서 사용하는 용어의 뜻은 다음과 같다. &lt;개정 2020.5.2...</td>\n",
       "      <td>[2조, 정의, 에서, 사용, 하다, 용어, 다음, 같다, 개정, 2020.5, 2...</td>\n",
       "    </tr>\n",
       "    <tr>\n",
       "      <th>2</th>\n",
       "      <td>0003001</td>\n",
       "      <td>제3조(적용 범위) 이 법은 모든 사업에 적용한다. 다만, 유해ㆍ위험의 정도, 사업...</td>\n",
       "      <td>[3조, 적용, 범위, 모든, 사업, 적용, 하다, 다만, 유해, 위험, 정도, 사...</td>\n",
       "    </tr>\n",
       "    <tr>\n",
       "      <th>3</th>\n",
       "      <td>0004001</td>\n",
       "      <td>제4조(정부의 책무)산업 안전 및 보건 정책의 수립 및 집행산업재해 예방 지원 및 ...</td>\n",
       "      <td>[4조, 정부, 책무, 산업, 안전, 보건, 정책, 수립, 집행, 산업, 재해, 예...</td>\n",
       "    </tr>\n",
       "    <tr>\n",
       "      <th>4</th>\n",
       "      <td>0005001</td>\n",
       "      <td>제5조(사업주 등의 의무)이 법과 이 법에 따른 명령으로 정하는 산업재해 예방을 위...</td>\n",
       "      <td>[5조, 업주, 의무, 따르다, 명령, 으로, 하다, 산업, 재해, 예방, 기준, ...</td>\n",
       "    </tr>\n",
       "    <tr>\n",
       "      <th>...</th>\n",
       "      <td>...</td>\n",
       "      <td>...</td>\n",
       "      <td>...</td>\n",
       "    </tr>\n",
       "    <tr>\n",
       "      <th>172</th>\n",
       "      <td>0171001</td>\n",
       "      <td>제171조(벌칙) 다음 각 호의 어느 하나에 해당하는 자는 1천만원 이하의 벌금에 ...</td>\n",
       "      <td>[171조, 벌칙, 다음, 호의, 어느, 하나, 해당, 하다, 자다, 1천만원, 이...</td>\n",
       "    </tr>\n",
       "    <tr>\n",
       "      <th>173</th>\n",
       "      <td>0172001</td>\n",
       "      <td>제172조(벌칙) 제64조제1항 또는 제2항을 위반한 자는 500만원 이하의 벌금에...</td>\n",
       "      <td>[172조, 벌칙, 64조, 또는, 위반, 자다, 500만원, 이하, 벌금, 하다]</td>\n",
       "    </tr>\n",
       "    <tr>\n",
       "      <th>174</th>\n",
       "      <td>0173001</td>\n",
       "      <td>제173조(양벌규정) 법인의 대표자나 법인 또는 개인의 대리인, 사용인, 그 밖의 ...</td>\n",
       "      <td>[173조, 규정, 법인, 대표자, 법인, 또는, 개인, 대리인, 사용, 종업원, ...</td>\n",
       "    </tr>\n",
       "    <tr>\n",
       "      <th>175</th>\n",
       "      <td>0174001</td>\n",
       "      <td>제174조(형벌과 수강명령 등의 병과)안전 및 보건에 관한 교육그 밖에 산업재해 예...</td>\n",
       "      <td>[174조, 형벌, 수강, 명령, 병과, 안전, 보건, 교육, 밖에, 산업, 재해,...</td>\n",
       "    </tr>\n",
       "    <tr>\n",
       "      <th>176</th>\n",
       "      <td>0175001</td>\n",
       "      <td>제175조(과태료)제119조제2항에 따라 기관석면조사를 하지 아니하고 건축물 또는 ...</td>\n",
       "      <td>[175조, 과태료, 119조, 따르다, 관석, 조사, 하다, 아니다, 건축물, 또...</td>\n",
       "    </tr>\n",
       "  </tbody>\n",
       "</table>\n",
       "<p>177 rows × 3 columns</p>\n",
       "</div>"
      ],
      "text/plain": [
       "          id                                                조내용  \\\n",
       "0    0001001  제1조(목적) 이 법은 산업 안전 및 보건에 관한 기준을 확립하고 그 책임의 소재를...   \n",
       "1    0002001  제2조(정의) 이 법에서 사용하는 용어의 뜻은 다음과 같다. <개정 2020.5.2...   \n",
       "2    0003001  제3조(적용 범위) 이 법은 모든 사업에 적용한다. 다만, 유해ㆍ위험의 정도, 사업...   \n",
       "3    0004001  제4조(정부의 책무)산업 안전 및 보건 정책의 수립 및 집행산업재해 예방 지원 및 ...   \n",
       "4    0005001  제5조(사업주 등의 의무)이 법과 이 법에 따른 명령으로 정하는 산업재해 예방을 위...   \n",
       "..       ...                                                ...   \n",
       "172  0171001  제171조(벌칙) 다음 각 호의 어느 하나에 해당하는 자는 1천만원 이하의 벌금에 ...   \n",
       "173  0172001  제172조(벌칙) 제64조제1항 또는 제2항을 위반한 자는 500만원 이하의 벌금에...   \n",
       "174  0173001  제173조(양벌규정) 법인의 대표자나 법인 또는 개인의 대리인, 사용인, 그 밖의 ...   \n",
       "175  0174001  제174조(형벌과 수강명령 등의 병과)안전 및 보건에 관한 교육그 밖에 산업재해 예...   \n",
       "176  0175001  제175조(과태료)제119조제2항에 따라 기관석면조사를 하지 아니하고 건축물 또는 ...   \n",
       "\n",
       "                                                 Token  \n",
       "0    [1조, 목적, 산업, 안전, 보건, 기준, 확립, 하고, 책임, 소재, 명확하다,...  \n",
       "1    [2조, 정의, 에서, 사용, 하다, 용어, 다음, 같다, 개정, 2020.5, 2...  \n",
       "2    [3조, 적용, 범위, 모든, 사업, 적용, 하다, 다만, 유해, 위험, 정도, 사...  \n",
       "3    [4조, 정부, 책무, 산업, 안전, 보건, 정책, 수립, 집행, 산업, 재해, 예...  \n",
       "4    [5조, 업주, 의무, 따르다, 명령, 으로, 하다, 산업, 재해, 예방, 기준, ...  \n",
       "..                                                 ...  \n",
       "172  [171조, 벌칙, 다음, 호의, 어느, 하나, 해당, 하다, 자다, 1천만원, 이...  \n",
       "173     [172조, 벌칙, 64조, 또는, 위반, 자다, 500만원, 이하, 벌금, 하다]  \n",
       "174  [173조, 규정, 법인, 대표자, 법인, 또는, 개인, 대리인, 사용, 종업원, ...  \n",
       "175  [174조, 형벌, 수강, 명령, 병과, 안전, 보건, 교육, 밖에, 산업, 재해,...  \n",
       "176  [175조, 과태료, 119조, 따르다, 관석, 조사, 하다, 아니다, 건축물, 또...  \n",
       "\n",
       "[177 rows x 3 columns]"
      ]
     },
     "execution_count": 33,
     "metadata": {},
     "output_type": "execute_result"
    }
   ],
   "source": [
    "df_info['Token'] = tokenized_data\n",
    "df_info"
   ]
  },
  {
   "cell_type": "code",
   "execution_count": 28,
   "metadata": {},
   "outputs": [],
   "source": [
    "from gensim.models import Word2Vec\n",
    "model = Word2Vec(sentences = tokenized_data, window = 5, min_count = 5, workers = 4, sg = 0)"
   ]
  },
  {
   "cell_type": "code",
   "execution_count": 29,
   "metadata": {},
   "outputs": [
    {
     "data": {
      "text/plain": [
       "(744, 100)"
      ]
     },
     "execution_count": 29,
     "metadata": {},
     "output_type": "execute_result"
    }
   ],
   "source": [
    "model.wv.vectors.shape"
   ]
  },
  {
   "cell_type": "code",
   "execution_count": 32,
   "metadata": {},
   "outputs": [
    {
     "data": {
      "text/plain": [
       "[('해당', 0.9873459339141846),\n",
       " ('다만', 0.9872841835021973),\n",
       " ('에는', 0.9866011738777161),\n",
       " ('업주', 0.986397922039032),\n",
       " ('사람', 0.986335277557373),\n",
       " ('소속', 0.9863104224205017),\n",
       " ('에게는', 0.9863086342811584),\n",
       " ('하고', 0.9862719774246216),\n",
       " ('2020.3', 0.9862105846405029),\n",
       " ('행위', 0.9861814379692078)]"
      ]
     },
     "execution_count": 32,
     "metadata": {},
     "output_type": "execute_result"
    }
   ],
   "source": [
    "model.wv.most_similar('5조')"
   ]
  },
  {
   "cell_type": "code",
   "execution_count": 35,
   "metadata": {},
   "outputs": [],
   "source": [
    "import pandas , nltk\n",
    "from gensim.models.doc2vec import Doc2Vec, TaggedDocument\n",
    "from nltk.tokenize import RegexpTokenizer"
   ]
  },
  {
   "cell_type": "code",
   "execution_count": 36,
   "metadata": {},
   "outputs": [],
   "source": [
    "# Great Input Data\n",
    "# doc2vec 입력 형식에 맞게 데이터를 수정한다.\n",
    "# tags = 문서 ID\n",
    "# words = 단어 list\n",
    "\n",
    "doc_df = df_info[['id','Token']].values.tolist()\n",
    "tagged_data = [TaggedDocument(words=_d, tags=[uid]) for uid, _d in doc_df]"
   ]
  },
  {
   "cell_type": "markdown",
   "metadata": {},
   "source": [
    "# Training\n",
    "파라메터 설명\n",
    "- window: 모델 학습할때 앞뒤로 보는 단어의 수\n",
    "- size: 벡터 차원의 크기\n",
    "- alpha: learning rate\n",
    "- min_count: 학습에 사용할 최소 단어 빈도 수\n",
    "- dm: 학습방법 1 = PV-DM, 0 = PV-DBOW\n",
    "- negative: Complexity Reduction 방법, negative sampling\n",
    "- max_epochs: 최대 학습 횟수"
   ]
  },
  {
   "cell_type": "code",
   "execution_count": 46,
   "metadata": {},
   "outputs": [
    {
     "name": "stdout",
     "output_type": "stream",
     "text": [
      "iteration 0\n",
      "iteration 1\n",
      "iteration 2\n",
      "iteration 3\n",
      "iteration 4\n",
      "iteration 5\n",
      "iteration 6\n",
      "iteration 7\n",
      "iteration 8\n",
      "iteration 9\n"
     ]
    }
   ],
   "source": [
    "max_epochs = 10\n",
    "vec_size = 100\n",
    "model = Doc2Vec(\n",
    "    window=10,\n",
    "    vector_size=vec_size,\n",
    "    alpha=0.025, \n",
    "    min_alpha=0.025,\n",
    "    min_count=2,\n",
    "    dm =1,\n",
    "    negative = 5,\n",
    "    seed = 9999)\n",
    "  \n",
    "model.build_vocab(tagged_data)\n",
    "\n",
    "for epoch in range(max_epochs):\n",
    "    print('iteration {0}'.format(epoch))\n",
    "    model.train(tagged_data,\n",
    "                total_examples=model.corpus_count,\n",
    "                epochs=model.epochs\n",
    "               )\n",
    "    # decrease the learning rate\n",
    "    model.alpha -= 0.002\n",
    "    # fix the learning rate, no decay\n",
    "    model.min_alpha = model.alpha"
   ]
  },
  {
   "cell_type": "markdown",
   "metadata": {},
   "source": [
    "# 결과 확인\n",
    "특정 문서와 유사한 문서를 찾기 위해서는 2단계를 거친다.\n",
    "1. 문서의 vector화\n",
    "2. 변환된 vector와 가장 가까운 vector 추출\n",
    "* infer_vector 사용시 seed값을 주지 않으면 random한값이 seed로 사용되어 값이 계속 변경된다.\n",
    "* 학습되지 않은 단어를 사용한 문서도 결과가 나온다.\n",
    "\n",
    "https://hanshuginn.blogspot.com/2019/03/python-doc2vec.html"
   ]
  },
  {
   "cell_type": "code",
   "execution_count": 55,
   "metadata": {
    "scrolled": true
   },
   "outputs": [
    {
     "name": "stdout",
     "output_type": "stream",
     "text": [
      "산업안전 보건\n",
      "045 조\n",
      "\n",
      "0.7438862919807434 \n",
      "\n",
      "제45조(공정안전보고서의 심사 등)고용노동부장관은 공정안전보고서를 고용노동부령으로 정하는 바에 따라 심사하여 그 결과를 사업주에게 서면으로 알려 주어야 한다. 이 경우 근로자의 안전 및 보건의 유지ㆍ증진을 위하여 필요하다고 인정하는 경우에는 그 공정안전보고서의 변경을 명할 수 있다.사업주는 제1항에 따라 심사를 받은 공정안전보고서를 사업장에 갖추어 두어야 한다.\n",
      "\n",
      "106 조\n",
      "\n",
      "0.6838427186012268 \n",
      "\n",
      "제106조(유해인자의 노출기준 설정) 고용노동부장관은 제105조제1항에 따른 유해성ㆍ위험성 평가 결과 등 고용노동부령으로 정하는 사항을 고려하여 유해인자의 노출기준을 정하여 고시하여야 한다.\n",
      "\n",
      "048 조\n",
      "\n",
      "0.6818501353263855 \n",
      "\n",
      "제48조(안전보건진단기관)안전보건진단기관이 되려는 자는 대통령령으로 정하는 인력ㆍ시설 및 장비 등의 요건을 갖추어 고용노동부장관의 지정을 받아야 한다.고용노동부장관은 안전보건진단기관에 대하여 평가하고 그 결과를 공개할 수 있다. 이 경우 평가의 기준ㆍ방법 및 결과의 공개에 필요한 사항은 고용노동부령으로 정한다.안전보건진단기관의 지정 절차, 그 밖에 필요한 사항은 고용노동부령으로 정한다.안전보건진단기관에 관하여는 제21조제4항 및 제5항을 준용한다. 이 경우 \"안전관리전문기관 또는 보건관리전문기관\"은 \"안전보건진단기관\"으로 본다.\n",
      "\n",
      "001 조\n",
      "\n",
      "0.6776264905929565 \n",
      "\n",
      "제1조(목적) 이 법은 산업 안전 및 보건에 관한 기준을 확립하고 그 책임의 소재를 명확하게 하여 산업재해를 예방하고 쾌적한 작업환경을 조성함으로써 노무를 제공하는 사람의 안전 및 보건을 유지ㆍ증진함을 목적으로 한다. <개정 2020.5.26>\n",
      "\n",
      "031 조\n",
      "\n",
      "0.6728578209877014 \n",
      "\n",
      "제31조(건설업 기초안전보건교육)건설업의 사업주는 건설 일용근로자를 채용할 때에는 그 근로자로 하여금 제33조에 따른 안전보건교육기관이 실시하는 안전보건교육을 이수하도록 하여야 한다. 다만, 건설 일용근로자가 그 사업주에게 채용되기 전에 안전보건교육을 이수한 경우에는 그러하지 아니하다.제1항 본문에 따른 안전보건교육의 시간ㆍ내용 및 방법, 그 밖에 필요한 사항은 고용노동부령으로 정한다.\n",
      "\n"
     ]
    },
    {
     "name": "stderr",
     "output_type": "stream",
     "text": [
      "<ipython-input-55-f25d4b2fff46>:6: DeprecationWarning: Call to deprecated `docvecs` (The `docvecs` property has been renamed `dv`.).\n",
      "  return_docs = model.docvecs.most_similar(positive=[inferred_vector],topn=5)\n"
     ]
    }
   ],
   "source": [
    "model.random.seed(9999)\n",
    "\n",
    "doc_list = input().split(' ')\n",
    "\n",
    "# 특정 document를 입력받았을 때 그 document 단어와 유사도가 높은 조 순서대로 출력\n",
    "\n",
    "inferred_vector = model.infer_vector(doc_list)\n",
    "return_docs = model.docvecs.most_similar(positive=[inferred_vector],topn=5)\n",
    "for rd in return_docs:\n",
    "  for des in df_info[df_info['id'] == rd[0]]['조내용']:\n",
    "    print (rd[0][1:4],'조')\n",
    "    print()\n",
    "    print(rd[1],'\\n')\n",
    "    print(des)\n",
    "    print()"
   ]
  },
  {
   "cell_type": "code",
   "execution_count": 80,
   "metadata": {},
   "outputs": [],
   "source": [
    "# return_docs = model.docvecs.most_similar('0003001',topn=5)\n",
    "# for rd in return_docs:\n",
    "#   for des in df_info[df_info['id'] == rd[0]]['조내용']:\n",
    "#     print (rd[0][1:4],'조')\n",
    "#     #print()\n",
    "#     print(rd[1],'\\n')\n",
    "#     #print(des)\n",
    "#     #print()"
   ]
  },
  {
   "cell_type": "code",
   "execution_count": 79,
   "metadata": {},
   "outputs": [
    {
     "name": "stdout",
     "output_type": "stream",
     "text": [
      "조를 입력하세요: 173\n",
      "\n",
      "154조\n",
      "0.59065181016922 \n",
      "\n",
      "003조\n",
      "0.588117241859436 \n",
      "\n",
      "167조\n",
      "0.567893385887146 \n",
      "\n",
      "034조\n",
      "0.5595724582672119 \n",
      "\n",
      "150조\n",
      "0.5493375658988953 \n",
      "\n"
     ]
    },
    {
     "name": "stderr",
     "output_type": "stream",
     "text": [
      "<ipython-input-79-ea8ec48485d8>:15: DeprecationWarning: Call to deprecated `docvecs` (The `docvecs` property has been renamed `dv`.).\n",
      "  return_docs = model.docvecs.most_similar(num, topn=5)\n"
     ]
    }
   ],
   "source": [
    "docs = input('조를 입력하세요: ')\n",
    "print()\n",
    "\n",
    "# 조문단위별 조문키는 xx조의 경우 00xx001의 형태로 이루어져 있으므로, 입력받은 조를 조문키의 형태로 변환한다.\n",
    "if len(str(docs)) == 1:\n",
    "    num = '000'+str(docs)+'001'\n",
    "elif len(str(docs)) == 2:\n",
    "    num = '00'+str(docs)+'001'\n",
    "elif len(str(docs)) == 3:\n",
    "    num = '0'+str(docs)+'001'\n",
    "elif len(str(docs)) == 4:\n",
    "    num = str(docs)+'001'\n",
    "else:\n",
    "    pass\n",
    "\n",
    "# 특정 조의 document들과 유사도가 높은 순서대로 조 출력\n",
    "\n",
    "return_docs = model.docvecs.most_similar(num, topn=5)\n",
    "for rd in return_docs:\n",
    "  for des in df_info[df_info['id'] == rd[0]]['조내용']:\n",
    "    print(rd[0][1:4]+'조')\n",
    "    #print()\n",
    "    print(rd[1],'\\n')\n",
    "    #print(des)\n",
    "    #print()"
   ]
  },
  {
   "cell_type": "code",
   "execution_count": null,
   "metadata": {},
   "outputs": [],
   "source": []
  }
 ],
 "metadata": {
  "kernelspec": {
   "display_name": "Python 3",
   "language": "python",
   "name": "python3"
  },
  "language_info": {
   "codemirror_mode": {
    "name": "ipython",
    "version": 3
   },
   "file_extension": ".py",
   "mimetype": "text/x-python",
   "name": "python",
   "nbconvert_exporter": "python",
   "pygments_lexer": "ipython3",
   "version": "3.8.3"
  }
 },
 "nbformat": 4,
 "nbformat_minor": 4
}
