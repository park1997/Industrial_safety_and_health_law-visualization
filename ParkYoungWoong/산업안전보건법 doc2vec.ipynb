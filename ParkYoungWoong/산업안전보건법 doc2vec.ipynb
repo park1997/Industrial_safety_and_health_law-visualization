{
 "cells": [
  {
   "cell_type": "code",
   "execution_count": 1,
   "metadata": {},
   "outputs": [
    {
     "name": "stderr",
     "output_type": "stream",
     "text": [
      "C:\\Users\\assay\\anaconda3\\lib\\site-packages\\gensim\\similarities\\__init__.py:15: UserWarning: The gensim.similarities.levenshtein submodule is disabled, because the optional Levenshtein package <https://pypi.org/project/python-Levenshtein/> is unavailable. Install Levenhstein (e.g. `pip install python-Levenshtein`) to suppress this warning.\n",
      "  warnings.warn(msg)\n"
     ]
    }
   ],
   "source": [
    "import requests\n",
    "from urllib.request import urlopen\n",
    "from urllib.parse import urlencode,unquote,quote_plus\n",
    "import urllib\n",
    "import lxml\n",
    "import pandas as pd\n",
    "import numpy as np\n",
    "from bs4 import BeautifulSoup\n",
    "import re\n",
    "import matplotlib.pyplot as plt\n",
    "from gensim.models.word2vec import Word2Vec\n",
    "from konlpy.tag import Okt"
   ]
  },
  {
   "cell_type": "code",
   "execution_count": 2,
   "metadata": {},
   "outputs": [
    {
     "name": "stdout",
     "output_type": "stream",
     "text": [
      " http://www.law.go.kr/DRF/lawService.do?OC=bmsong&target=eflaw&MST=218289&type=XML\n"
     ]
    }
   ],
   "source": [
    "# 법령 XML 상세조회 (시행기준. target=eflaw)\n",
    "\n",
    "#기본 url\n",
    "url_base = \" http://www.law.go.kr/DRF/lawService.do\"\n",
    "\n",
    "#조회 url 세부 설정\n",
    "user_id = 'bmsong' #open API ID (bmsong@kau.ac.kr의 아이디 부분)\n",
    "target = \"eflaw\" #법령 조회시\n",
    "MST = \"218289\" #ID 또는 MST #산업안전보건법 MST 218289\n",
    "#ID = \"001766\" \n",
    "            #ID 산업안전보건법 법령ID 001766 (설명에는 ID로 조회하면 현행법령이 조회된다는데, \n",
    "            #target을 eflaw로 하면 ID로 요청해도, MST로 요청해도 같은 것 같다.\n",
    "Type = \"XML\" #출력 형태 : HTML 또는 XML\n",
    "\n",
    "url_sub = \"?\" +\\\n",
    "        \"OC=\" + user_id +\\\n",
    "        \"&target=\" + target +\\\n",
    "        \"&MST=\" + MST +\\\n",
    "        \"&type=\" + Type\n",
    "\n",
    "#최종 url\n",
    "url = url_base + url_sub\n",
    "\n",
    "print(url)\n",
    "\n",
    "response = requests.get(url)\n",
    "\n",
    "#(1) response.text 사용하는 방법\n",
    "#soup = BeautifulSoup(response.text.encode('utf-8'), 'lxml-xml') #lxml-xml -> lxml 추가 설치 필요(Beautifulsoup과 별도로 설치)\n",
    "\n",
    "#(2) response.content 사용하는 방법\n",
    "soup = BeautifulSoup(response.content, 'lxml-xml') #lxml-xml -> lxml 추가 설치 필요(Beautifulsoup과 별도로 설치)\n",
    "\n",
    "\n",
    "# soup"
   ]
  },
  {
   "cell_type": "code",
   "execution_count": 3,
   "metadata": {},
   "outputs": [
    {
     "data": {
      "text/html": [
       "<div>\n",
       "<style scoped>\n",
       "    .dataframe tbody tr th:only-of-type {\n",
       "        vertical-align: middle;\n",
       "    }\n",
       "\n",
       "    .dataframe tbody tr th {\n",
       "        vertical-align: top;\n",
       "    }\n",
       "\n",
       "    .dataframe thead th {\n",
       "        text-align: right;\n",
       "    }\n",
       "</style>\n",
       "<table border=\"1\" class=\"dataframe\">\n",
       "  <thead>\n",
       "    <tr style=\"text-align: right;\">\n",
       "      <th></th>\n",
       "      <th>id</th>\n",
       "      <th>조내용</th>\n",
       "    </tr>\n",
       "  </thead>\n",
       "  <tbody>\n",
       "    <tr>\n",
       "      <th>0</th>\n",
       "      <td>0001001</td>\n",
       "      <td>제1조(목적) 이 법은 산업 안전 및 보건에 관한 기준을 확립하고 그 책임의 소재를...</td>\n",
       "    </tr>\n",
       "    <tr>\n",
       "      <th>1</th>\n",
       "      <td>0002001</td>\n",
       "      <td>제2조(정의) 이 법에서 사용하는 용어의 뜻은 다음과 같다. &lt;개정 2020.5.2...</td>\n",
       "    </tr>\n",
       "    <tr>\n",
       "      <th>2</th>\n",
       "      <td>0003001</td>\n",
       "      <td>제3조(적용 범위) 이 법은 모든 사업에 적용한다. 다만, 유해ㆍ위험의 정도, 사업...</td>\n",
       "    </tr>\n",
       "    <tr>\n",
       "      <th>3</th>\n",
       "      <td>0004001</td>\n",
       "      <td>제4조(정부의 책무)산업 안전 및 보건 정책의 수립 및 집행산업재해 예방 지원 및 ...</td>\n",
       "    </tr>\n",
       "    <tr>\n",
       "      <th>4</th>\n",
       "      <td>0005001</td>\n",
       "      <td>제5조(사업주 등의 의무)이 법과 이 법에 따른 명령으로 정하는 산업재해 예방을 위...</td>\n",
       "    </tr>\n",
       "    <tr>\n",
       "      <th>...</th>\n",
       "      <td>...</td>\n",
       "      <td>...</td>\n",
       "    </tr>\n",
       "    <tr>\n",
       "      <th>172</th>\n",
       "      <td>0171001</td>\n",
       "      <td>제171조(벌칙) 다음 각 호의 어느 하나에 해당하는 자는 1천만원 이하의 벌금에 ...</td>\n",
       "    </tr>\n",
       "    <tr>\n",
       "      <th>173</th>\n",
       "      <td>0172001</td>\n",
       "      <td>제172조(벌칙) 제64조제1항 또는 제2항을 위반한 자는 500만원 이하의 벌금에...</td>\n",
       "    </tr>\n",
       "    <tr>\n",
       "      <th>174</th>\n",
       "      <td>0173001</td>\n",
       "      <td>제173조(양벌규정) 법인의 대표자나 법인 또는 개인의 대리인, 사용인, 그 밖의 ...</td>\n",
       "    </tr>\n",
       "    <tr>\n",
       "      <th>175</th>\n",
       "      <td>0174001</td>\n",
       "      <td>제174조(형벌과 수강명령 등의 병과)안전 및 보건에 관한 교육그 밖에 산업재해 예...</td>\n",
       "    </tr>\n",
       "    <tr>\n",
       "      <th>176</th>\n",
       "      <td>0175001</td>\n",
       "      <td>제175조(과태료)제119조제2항에 따라 기관석면조사를 하지 아니하고 건축물 또는 ...</td>\n",
       "    </tr>\n",
       "  </tbody>\n",
       "</table>\n",
       "<p>177 rows × 2 columns</p>\n",
       "</div>"
      ],
      "text/plain": [
       "          id                                                조내용\n",
       "0    0001001  제1조(목적) 이 법은 산업 안전 및 보건에 관한 기준을 확립하고 그 책임의 소재를...\n",
       "1    0002001  제2조(정의) 이 법에서 사용하는 용어의 뜻은 다음과 같다. <개정 2020.5.2...\n",
       "2    0003001  제3조(적용 범위) 이 법은 모든 사업에 적용한다. 다만, 유해ㆍ위험의 정도, 사업...\n",
       "3    0004001  제4조(정부의 책무)산업 안전 및 보건 정책의 수립 및 집행산업재해 예방 지원 및 ...\n",
       "4    0005001  제5조(사업주 등의 의무)이 법과 이 법에 따른 명령으로 정하는 산업재해 예방을 위...\n",
       "..       ...                                                ...\n",
       "172  0171001  제171조(벌칙) 다음 각 호의 어느 하나에 해당하는 자는 1천만원 이하의 벌금에 ...\n",
       "173  0172001  제172조(벌칙) 제64조제1항 또는 제2항을 위반한 자는 500만원 이하의 벌금에...\n",
       "174  0173001  제173조(양벌규정) 법인의 대표자나 법인 또는 개인의 대리인, 사용인, 그 밖의 ...\n",
       "175  0174001  제174조(형벌과 수강명령 등의 병과)안전 및 보건에 관한 교육그 밖에 산업재해 예...\n",
       "176  0175001  제175조(과태료)제119조제2항에 따라 기관석면조사를 하지 아니하고 건축물 또는 ...\n",
       "\n",
       "[177 rows x 2 columns]"
      ]
     },
     "execution_count": 3,
     "metadata": {},
     "output_type": "execute_result"
    }
   ],
   "source": [
    "data = soup.find_all('조문단위')\n",
    "df_info = pd.DataFrame()\n",
    "info = []\n",
    "jo_key = []\n",
    "for i in data:\n",
    "    info_str = \"\"\n",
    "    if i.find(\"조문여부\").get_text() == \"조문\":\n",
    "        info_str += i.조문내용.get_text().strip()\n",
    "        \n",
    "        key = i['조문키']\n",
    "        jo_key.append(key)\n",
    "        \n",
    "        \n",
    "        if i.항:\n",
    "            hang_nums = i.find_all(\"항번호\")\n",
    "            ho_nums = i.find_all(\"호번호\")\n",
    "            for idx, p in enumerate(i.find_all(\"호내용\")):\n",
    "                info_str += p.get_text().split(ho_nums[idx].get_text())[1].strip()\n",
    "            for hang_idx, k in enumerate(i.find_all(\"항내용\")):\n",
    "                info_str += k.get_text().strip().split(hang_nums[hang_idx].get_text())[1].strip()\n",
    "                for ho_idx ,j in enumerate(i.find_all(\"호내용\")):\n",
    "                    info_str += j.get_text().strip().split(ho_nums[ho_idx].get_text())[1].strip()\n",
    "        info.append(info_str)\n",
    "df_info['id'] = jo_key\n",
    "df_info[\"조내용\"] = info\n",
    "df_info"
   ]
  },
  {
   "cell_type": "code",
   "execution_count": 4,
   "metadata": {},
   "outputs": [
    {
     "data": {
      "text/html": [
       "<div>\n",
       "<style scoped>\n",
       "    .dataframe tbody tr th:only-of-type {\n",
       "        vertical-align: middle;\n",
       "    }\n",
       "\n",
       "    .dataframe tbody tr th {\n",
       "        vertical-align: top;\n",
       "    }\n",
       "\n",
       "    .dataframe thead th {\n",
       "        text-align: right;\n",
       "    }\n",
       "</style>\n",
       "<table border=\"1\" class=\"dataframe\">\n",
       "  <thead>\n",
       "    <tr style=\"text-align: right;\">\n",
       "      <th></th>\n",
       "      <th>불용어</th>\n",
       "    </tr>\n",
       "  </thead>\n",
       "  <tbody>\n",
       "    <tr>\n",
       "      <th>0</th>\n",
       "      <td>아</td>\n",
       "    </tr>\n",
       "    <tr>\n",
       "      <th>1</th>\n",
       "      <td>휴</td>\n",
       "    </tr>\n",
       "    <tr>\n",
       "      <th>2</th>\n",
       "      <td>아이구</td>\n",
       "    </tr>\n",
       "    <tr>\n",
       "      <th>3</th>\n",
       "      <td>아이쿠</td>\n",
       "    </tr>\n",
       "    <tr>\n",
       "      <th>4</th>\n",
       "      <td>아이고</td>\n",
       "    </tr>\n",
       "    <tr>\n",
       "      <th>...</th>\n",
       "      <td>...</td>\n",
       "    </tr>\n",
       "    <tr>\n",
       "      <th>670</th>\n",
       "      <td>일곱</td>\n",
       "    </tr>\n",
       "    <tr>\n",
       "      <th>671</th>\n",
       "      <td>여덟</td>\n",
       "    </tr>\n",
       "    <tr>\n",
       "      <th>672</th>\n",
       "      <td>아홉</td>\n",
       "    </tr>\n",
       "    <tr>\n",
       "      <th>673</th>\n",
       "      <td>령</td>\n",
       "    </tr>\n",
       "    <tr>\n",
       "      <th>674</th>\n",
       "      <td>영</td>\n",
       "    </tr>\n",
       "  </tbody>\n",
       "</table>\n",
       "<p>675 rows × 1 columns</p>\n",
       "</div>"
      ],
      "text/plain": [
       "     불용어\n",
       "0      아\n",
       "1      휴\n",
       "2    아이구\n",
       "3    아이쿠\n",
       "4    아이고\n",
       "..   ...\n",
       "670   일곱\n",
       "671   여덟\n",
       "672   아홉\n",
       "673    령\n",
       "674    영\n",
       "\n",
       "[675 rows x 1 columns]"
      ]
     },
     "execution_count": 4,
     "metadata": {},
     "output_type": "execute_result"
    }
   ],
   "source": [
    "stop_words = pd.read_excel(\"stopwords.xlsx\")\n",
    "stop_words"
   ]
  },
  {
   "cell_type": "code",
   "execution_count": 5,
   "metadata": {},
   "outputs": [],
   "source": [
    "okt = Okt()\n",
    "tokenized_data = []\n",
    "for sentence in df_info['조내용']:\n",
    "    temp_X = okt.morphs(sentence, stem=True) # 토큰화\n",
    "    temp_X = [word for word in temp_X if not word in stop_words and len(word) > 1] # 불용어 제거\n",
    "    tokenized_data.append(temp_X)"
   ]
  },
  {
   "cell_type": "code",
   "execution_count": 6,
   "metadata": {},
   "outputs": [
    {
     "name": "stdout",
     "output_type": "stream",
     "text": [
      "조문의 최대 길이 : 6890\n",
      "조문의 평균 길이 : 215.8135593220339\n"
     ]
    },
    {
     "data": {
      "image/png": "[encoded data removed]",
      "text/plain": [
       "<Figure size 432x288 with 1 Axes>"
      ]
     },
     "metadata": {
      "needs_background": "light"
     },
     "output_type": "display_data"
    }
   ],
   "source": [
    "print('조문의 최대 길이 :',max(len(l) for l in tokenized_data))\n",
    "print('조문의 평균 길이 :',sum(map(len, tokenized_data))/len(tokenized_data))\n",
    "plt.hist([len(s) for s in tokenized_data], bins=50)\n",
    "plt.xlabel('length of samples')\n",
    "plt.ylabel('number of samples')\n",
    "plt.show()"
   ]
  },
  {
   "cell_type": "code",
   "execution_count": 7,
   "metadata": {},
   "outputs": [
    {
     "data": {
      "text/html": [
       "<div>\n",
       "<style scoped>\n",
       "    .dataframe tbody tr th:only-of-type {\n",
       "        vertical-align: middle;\n",
       "    }\n",
       "\n",
       "    .dataframe tbody tr th {\n",
       "        vertical-align: top;\n",
       "    }\n",
       "\n",
       "    .dataframe thead th {\n",
       "        text-align: right;\n",
       "    }\n",
       "</style>\n",
       "<table border=\"1\" class=\"dataframe\">\n",
       "  <thead>\n",
       "    <tr style=\"text-align: right;\">\n",
       "      <th></th>\n",
       "      <th>id</th>\n",
       "      <th>조내용</th>\n",
       "      <th>Token</th>\n",
       "    </tr>\n",
       "  </thead>\n",
       "  <tbody>\n",
       "    <tr>\n",
       "      <th>0</th>\n",
       "      <td>0001001</td>\n",
       "      <td>제1조(목적) 이 법은 산업 안전 및 보건에 관한 기준을 확립하고 그 책임의 소재를...</td>\n",
       "      <td>[1조, 목적, 산업, 안전, 보건, 기준, 확립, 하고, 책임, 소재, 명확하다,...</td>\n",
       "    </tr>\n",
       "    <tr>\n",
       "      <th>1</th>\n",
       "      <td>0002001</td>\n",
       "      <td>제2조(정의) 이 법에서 사용하는 용어의 뜻은 다음과 같다. &lt;개정 2020.5.2...</td>\n",
       "      <td>[2조, 정의, 에서, 사용, 하다, 용어, 다음, 같다, 개정, 2020.5, 2...</td>\n",
       "    </tr>\n",
       "    <tr>\n",
       "      <th>2</th>\n",
       "      <td>0003001</td>\n",
       "      <td>제3조(적용 범위) 이 법은 모든 사업에 적용한다. 다만, 유해ㆍ위험의 정도, 사업...</td>\n",
       "      <td>[3조, 적용, 범위, 모든, 사업, 적용, 하다, 다만, 유해, 위험, 정도, 사...</td>\n",
       "    </tr>\n",
       "    <tr>\n",
       "      <th>3</th>\n",
       "      <td>0004001</td>\n",
       "      <td>제4조(정부의 책무)산업 안전 및 보건 정책의 수립 및 집행산업재해 예방 지원 및 ...</td>\n",
       "      <td>[4조, 정부, 책무, 산업, 안전, 보건, 정책, 수립, 집행, 산업, 재해, 예...</td>\n",
       "    </tr>\n",
       "    <tr>\n",
       "      <th>4</th>\n",
       "      <td>0005001</td>\n",
       "      <td>제5조(사업주 등의 의무)이 법과 이 법에 따른 명령으로 정하는 산업재해 예방을 위...</td>\n",
       "      <td>[5조, 업주, 의무, 따르다, 명령, 으로, 하다, 산업, 재해, 예방, 기준, ...</td>\n",
       "    </tr>\n",
       "    <tr>\n",
       "      <th>...</th>\n",
       "      <td>...</td>\n",
       "      <td>...</td>\n",
       "      <td>...</td>\n",
       "    </tr>\n",
       "    <tr>\n",
       "      <th>172</th>\n",
       "      <td>0171001</td>\n",
       "      <td>제171조(벌칙) 다음 각 호의 어느 하나에 해당하는 자는 1천만원 이하의 벌금에 ...</td>\n",
       "      <td>[171조, 벌칙, 다음, 호의, 어느, 하나, 해당, 하다, 자다, 1천만원, 이...</td>\n",
       "    </tr>\n",
       "    <tr>\n",
       "      <th>173</th>\n",
       "      <td>0172001</td>\n",
       "      <td>제172조(벌칙) 제64조제1항 또는 제2항을 위반한 자는 500만원 이하의 벌금에...</td>\n",
       "      <td>[172조, 벌칙, 64조, 또는, 위반, 자다, 500만원, 이하, 벌금, 하다]</td>\n",
       "    </tr>\n",
       "    <tr>\n",
       "      <th>174</th>\n",
       "      <td>0173001</td>\n",
       "      <td>제173조(양벌규정) 법인의 대표자나 법인 또는 개인의 대리인, 사용인, 그 밖의 ...</td>\n",
       "      <td>[173조, 규정, 법인, 대표자, 법인, 또는, 개인, 대리인, 사용, 종업원, ...</td>\n",
       "    </tr>\n",
       "    <tr>\n",
       "      <th>175</th>\n",
       "      <td>0174001</td>\n",
       "      <td>제174조(형벌과 수강명령 등의 병과)안전 및 보건에 관한 교육그 밖에 산업재해 예...</td>\n",
       "      <td>[174조, 형벌, 수강, 명령, 병과, 안전, 보건, 교육, 밖에, 산업, 재해,...</td>\n",
       "    </tr>\n",
       "    <tr>\n",
       "      <th>176</th>\n",
       "      <td>0175001</td>\n",
       "      <td>제175조(과태료)제119조제2항에 따라 기관석면조사를 하지 아니하고 건축물 또는 ...</td>\n",
       "      <td>[175조, 과태료, 119조, 따르다, 관석, 조사, 하다, 아니다, 건축물, 또...</td>\n",
       "    </tr>\n",
       "  </tbody>\n",
       "</table>\n",
       "<p>177 rows × 3 columns</p>\n",
       "</div>"
      ],
      "text/plain": [
       "          id                                                조내용  \\\n",
       "0    0001001  제1조(목적) 이 법은 산업 안전 및 보건에 관한 기준을 확립하고 그 책임의 소재를...   \n",
       "1    0002001  제2조(정의) 이 법에서 사용하는 용어의 뜻은 다음과 같다. <개정 2020.5.2...   \n",
       "2    0003001  제3조(적용 범위) 이 법은 모든 사업에 적용한다. 다만, 유해ㆍ위험의 정도, 사업...   \n",
       "3    0004001  제4조(정부의 책무)산업 안전 및 보건 정책의 수립 및 집행산업재해 예방 지원 및 ...   \n",
       "4    0005001  제5조(사업주 등의 의무)이 법과 이 법에 따른 명령으로 정하는 산업재해 예방을 위...   \n",
       "..       ...                                                ...   \n",
       "172  0171001  제171조(벌칙) 다음 각 호의 어느 하나에 해당하는 자는 1천만원 이하의 벌금에 ...   \n",
       "173  0172001  제172조(벌칙) 제64조제1항 또는 제2항을 위반한 자는 500만원 이하의 벌금에...   \n",
       "174  0173001  제173조(양벌규정) 법인의 대표자나 법인 또는 개인의 대리인, 사용인, 그 밖의 ...   \n",
       "175  0174001  제174조(형벌과 수강명령 등의 병과)안전 및 보건에 관한 교육그 밖에 산업재해 예...   \n",
       "176  0175001  제175조(과태료)제119조제2항에 따라 기관석면조사를 하지 아니하고 건축물 또는 ...   \n",
       "\n",
       "                                                 Token  \n",
       "0    [1조, 목적, 산업, 안전, 보건, 기준, 확립, 하고, 책임, 소재, 명확하다,...  \n",
       "1    [2조, 정의, 에서, 사용, 하다, 용어, 다음, 같다, 개정, 2020.5, 2...  \n",
       "2    [3조, 적용, 범위, 모든, 사업, 적용, 하다, 다만, 유해, 위험, 정도, 사...  \n",
       "3    [4조, 정부, 책무, 산업, 안전, 보건, 정책, 수립, 집행, 산업, 재해, 예...  \n",
       "4    [5조, 업주, 의무, 따르다, 명령, 으로, 하다, 산업, 재해, 예방, 기준, ...  \n",
       "..                                                 ...  \n",
       "172  [171조, 벌칙, 다음, 호의, 어느, 하나, 해당, 하다, 자다, 1천만원, 이...  \n",
       "173     [172조, 벌칙, 64조, 또는, 위반, 자다, 500만원, 이하, 벌금, 하다]  \n",
       "174  [173조, 규정, 법인, 대표자, 법인, 또는, 개인, 대리인, 사용, 종업원, ...  \n",
       "175  [174조, 형벌, 수강, 명령, 병과, 안전, 보건, 교육, 밖에, 산업, 재해,...  \n",
       "176  [175조, 과태료, 119조, 따르다, 관석, 조사, 하다, 아니다, 건축물, 또...  \n",
       "\n",
       "[177 rows x 3 columns]"
      ]
     },
     "execution_count": 7,
     "metadata": {},
     "output_type": "execute_result"
    }
   ],
   "source": [
    "df_info['Token'] = tokenized_data\n",
    "df_info"
   ]
  },
  {
   "cell_type": "code",
   "execution_count": 8,
   "metadata": {},
   "outputs": [],
   "source": [
    "from gensim.models import Word2Vec\n",
    "model = Word2Vec(sentences = tokenized_data, window = 5, min_count = 5, workers = 4, sg = 0)"
   ]
  },
  {
   "cell_type": "code",
   "execution_count": 9,
   "metadata": {},
   "outputs": [
    {
     "data": {
      "text/plain": [
       "(744, 100)"
      ]
     },
     "execution_count": 9,
     "metadata": {},
     "output_type": "execute_result"
    }
   ],
   "source": [
    "model.wv.vectors.shape"
   ]
  },
  {
   "cell_type": "code",
   "execution_count": 10,
   "metadata": {},
   "outputs": [
    {
     "data": {
      "text/plain": [
       "[('해당', 0.9879863858222961),\n",
       " ('다만', 0.9879730343818665),\n",
       " ('에는', 0.987061083316803),\n",
       " ('업주', 0.9869641065597534),\n",
       " ('하고', 0.9867539405822754),\n",
       " ('소속', 0.9867481589317322),\n",
       " ('에게는', 0.986701250076294),\n",
       " ('호의', 0.9865683913230896),\n",
       " ('사람', 0.9864216446876526),\n",
       " ('행위', 0.9863981008529663)]"
      ]
     },
     "execution_count": 10,
     "metadata": {},
     "output_type": "execute_result"
    }
   ],
   "source": [
    "model.wv.most_similar('5조')"
   ]
  },
  {
   "cell_type": "code",
   "execution_count": 11,
   "metadata": {},
   "outputs": [],
   "source": [
    "import pandas , nltk\n",
    "from gensim.models.doc2vec import Doc2Vec, TaggedDocument\n",
    "from nltk.tokenize import RegexpTokenizer"
   ]
  },
  {
   "cell_type": "code",
   "execution_count": 12,
   "metadata": {},
   "outputs": [],
   "source": [
    "# Great Input Data\n",
    "# doc2vec 입력 형식에 맞게 데이터를 수정한다.\n",
    "# tags = 문서 ID\n",
    "# words = 단어 list\n",
    "\n",
    "doc_df = df_info[['id','Token']].values.tolist()\n",
    "tagged_data = [TaggedDocument(words=_d, tags=[uid]) for uid, _d in doc_df]"
   ]
  },
  {
   "cell_type": "markdown",
   "metadata": {},
   "source": [
    "# Training\n",
    "파라메터 설명\n",
    "- window: 모델 학습할때 앞뒤로 보는 단어의 수\n",
    "- size: 벡터 차원의 크기\n",
    "- alpha: learning rate\n",
    "- min_count: 학습에 사용할 최소 단어 빈도 수\n",
    "- dm: 학습방법 1 = PV-DM, 0 = PV-DBOW\n",
    "- negative: Complexity Reduction 방법, negative sampling\n",
    "- max_epochs: 최대 학습 횟수"
   ]
  },
  {
   "cell_type": "code",
   "execution_count": 13,
   "metadata": {},
   "outputs": [
    {
     "name": "stdout",
     "output_type": "stream",
     "text": [
      "iteration 0\n",
      "iteration 1\n",
      "iteration 2\n",
      "iteration 3\n",
      "iteration 4\n",
      "iteration 5\n",
      "iteration 6\n",
      "iteration 7\n",
      "iteration 8\n",
      "iteration 9\n"
     ]
    }
   ],
   "source": [
    "max_epochs = 10\n",
    "vec_size = 100\n",
    "model = Doc2Vec(\n",
    "    window=10,\n",
    "    vector_size=vec_size,\n",
    "    alpha=0.025, \n",
    "    min_alpha=0.025,\n",
    "    min_count=2,\n",
    "    dm =1,\n",
    "    negative = 5,\n",
    "    seed = 9999)\n",
    "  \n",
    "model.build_vocab(tagged_data)\n",
    "\n",
    "for epoch in range(max_epochs):\n",
    "    print('iteration {0}'.format(epoch))\n",
    "    model.train(tagged_data,\n",
    "                total_examples=model.corpus_count,\n",
    "                epochs=model.epochs\n",
    "               )\n",
    "    # decrease the learning rate\n",
    "    model.alpha -= 0.002\n",
    "    # fix the learning rate, no decay\n",
    "    model.min_alpha = model.alpha"
   ]
  },
  {
   "cell_type": "markdown",
   "metadata": {},
   "source": [
    "# 결과 확인\n",
    "특정 문서와 유사한 문서를 찾기 위해서는 2단계를 거친다.\n",
    "1. 문서의 vector화\n",
    "2. 변환된 vector와 가장 가까운 vector 추출\n",
    "* infer_vector 사용시 seed값을 주지 않으면 random한값이 seed로 사용되어 값이 계속 변경된다.\n",
    "* 학습되지 않은 단어를 사용한 문서도 결과가 나온다.\n",
    "\n",
    "https://hanshuginn.blogspot.com/2019/03/python-doc2vec.html"
   ]
  },
  {
   "cell_type": "code",
   "execution_count": 37,
   "metadata": {
    "scrolled": true
   },
   "outputs": [
    {
     "name": "stdout",
     "output_type": "stream",
     "text": [
      "3\n",
      "132 조\n",
      "\n",
      "0.0935044065117836 \n",
      "\n",
      "제132조(건강진단에 관한 사업주의 의무)사업주는 제129조부터 제131조까지의 규정에 따른 건강진단을 실시하는 경우 근로자대표가 요구하면 근로자대표를 참석시켜야 한다.사업주는 산업안전보건위원회 또는 근로자대표가 요구할 때에는 직접 또는 제129조부터 제131조까지의 규정에 따른 건강진단을 한 건강진단기관에 건강진단 결과에 대하여 설명하도록 하여야 한다. 다만, 개별 근로자의 건강진단 결과는 본인의 동의 없이 공개해서는 아니 된다.사업주는 제129조부터 제131조까지의 규정에 따른 건강진단의 결과를 근로자의 건강 보호 및 유지 외의 목적으로 사용해서는 아니 된다.사업주는 제129조부터 제131조까지의 규정 또는 다른 법령에 따른 건강진단의 결과 근로자의 건강을 유지하기 위하여 필요하다고 인정할 때에는 작업장소 변경, 작업 전환, 근로시간 단축, 야간근로(오후 10시부터 다음 날 오전 6시까지 사이의 근로를 말한다)의 제한, 작업환경측정 또는 시설ㆍ설비의 설치ㆍ개선 등 고용노동부령으로 정하는 바에 따라 적절한 조치를 하여야 한다.제4항에 따라 적절한 조치를 하여야 하는 사업주로서 고용노동부령으로 정하는 사업주는 그 조치 결과를 고용노동부령으로 정하는 바에 따라 고용노동부장관에게 제출하여야 한다.\n",
      "\n",
      "166 조\n",
      "\n",
      "0.07900818437337875 \n",
      "\n",
      "제166조의2(현장실습생에 대한 특례) 제2조제3호에도 불구하고 「직업교육훈련 촉진법」 제2조제7호에 따른 현장실습을 받기 위하여 현장실습산업체의 장과 현장실습계약을 체결한 직업교육훈련생(이하 \"현장실습생\"이라 한다)에게는 제5조, 제29조, 제38조부터 제41조까지, 제51조부터 제57조까지, 제63조, 제114조제3항, 제131조, 제138조제1항, 제140조, 제155조부터 제157조까지를 준용한다. 이 경우 \"사업주\"는 \"현장실습산업체의 장\"으로, \"근로\"는 \"현장실습\"으로, \"근로자\"는 \"현장실습생\"으로 본다.\n",
      "\n",
      "006 조\n",
      "\n",
      "0.06774353235960007 \n",
      "\n",
      "제6조(근로자의 의무) 근로자는 이 법과 이 법에 따른 명령으로 정하는 산업재해 예방을 위한 기준을 지켜야 하며, 사업주 또는 「근로기준법」 제101조에 따른 근로감독관, 공단 등 관계인이 실시하는 산업재해 예방에 관한 조치에 따라야 한다.\n",
      "\n",
      "129 조\n",
      "\n",
      "0.04878802224993706 \n",
      "\n",
      "제129조(일반건강진단)사업주는 상시 사용하는 근로자의 건강관리를 위하여 건강진단(이하 \"일반건강진단\"이라 한다)을 실시하여야 한다. 다만, 사업주가 고용노동부령으로 정하는 건강진단을 실시한 경우에는 그 건강진단을 받은 근로자에 대하여 일반건강진단을 실시한 것으로 본다.사업주는 제135조제1항에 따른 특수건강진단기관 또는 「건강검진기본법」 제3조제2호에 따른 건강검진기관(이하 \"건강진단기관\"이라 한다)에서 일반건강진단을 실시하여야 한다.일반건강진단의 주기ㆍ항목ㆍ방법 및 비용, 그 밖에 필요한 사항은 고용노동부령으로 정한다.\n",
      "\n",
      "035 조\n",
      "\n",
      "0.043753959238529205 \n",
      "\n",
      "제35조(근로자대표의 통지 요청) 근로자대표는 사업주에게 다음 각 호의 사항을 통지하여 줄 것을 요청할 수 있고, 사업주는 이에 성실히 따라야 한다.산업안전보건위원회(제75조에 따라 노사협의체를 구성ㆍ운영하는 경우에는 노사협의체를 말한다)가 의결한 사항제47조에 따른 안전보건진단 결과에 관한 사항제49조에 따른 안전보건개선계획의 수립ㆍ시행에 관한 사항제64조제1항 각 호에 따른 도급인의 이행 사항제110조제1항에 따른 물질안전보건자료에 관한 사항제125조제1항에 따른 작업환경측정에 관한 사항그 밖에 고용노동부령으로 정하는 안전 및 보건에 관한 사항\n",
      "\n"
     ]
    },
    {
     "name": "stderr",
     "output_type": "stream",
     "text": [
      "<ipython-input-37-305324df88c1>:8: DeprecationWarning: Call to deprecated `docvecs` (The `docvecs` property has been renamed `dv`.).\n",
      "  return_docs = model.docvecs.most_similar(positive=[inferred_vector],topn=5)\n"
     ]
    }
   ],
   "source": [
    "model.random.seed(9999)\n",
    "\n",
    "doc_list = input().split(' ')\n",
    "\n",
    "# 특정 document를 입력받았을 때 그 document 단어와 유사도가 높은 조 순서대로 출력\n",
    "\n",
    "inferred_vector = model.infer_vector(doc_list)\n",
    "return_docs = model.docvecs.most_similar(positive=[inferred_vector],topn=5)\n",
    "for rd in return_docs:\n",
    "  for des in df_info[df_info['id'] == rd[0]]['조내용']:\n",
    "    print (rd[0][1:4],'조')\n",
    "    print()\n",
    "    print(rd[1],'\\n')\n",
    "    print(des)\n",
    "    print()"
   ]
  },
  {
   "cell_type": "code",
   "execution_count": 38,
   "metadata": {},
   "outputs": [],
   "source": [
    "# return_docs = model.docvecs.most_similar('0003001',topn=5)\n",
    "# for rd in return_docs:\n",
    "#   for des in df_info[df_info['id'] == rd[0]]['조내용']:\n",
    "#     print (rd[0][1:4],'조')\n",
    "#     #print()\n",
    "#     print(rd[1],'\\n')\n",
    "#     #print(des)\n",
    "#     #print()"
   ]
  },
  {
   "cell_type": "code",
   "execution_count": 39,
   "metadata": {},
   "outputs": [
    {
     "name": "stdout",
     "output_type": "stream",
     "text": [
      "조를 입력하세요: 3\n",
      "\n",
      "045조\n",
      "0.6918946504592896 \n",
      "\n",
      "106조\n",
      "0.6800723671913147 \n",
      "\n",
      "104조\n",
      "0.658248245716095 \n",
      "\n",
      "136조\n",
      "0.6566189527511597 \n",
      "\n",
      "034조\n",
      "0.6484200954437256 \n",
      "\n"
     ]
    },
    {
     "name": "stderr",
     "output_type": "stream",
     "text": [
      "<ipython-input-39-9ab42fcaa08f>:18: DeprecationWarning: Call to deprecated `docvecs` (The `docvecs` property has been renamed `dv`.).\n",
      "  return_docs = model.docvecs.most_similar(num, topn=5)\n"
     ]
    }
   ],
   "source": [
    "docs = input('조를 입력하세요: ')\n",
    "print()\n",
    "\n",
    "# 조문단위별 조문키는 xx조의 경우 00xx001의 형태로 이루어져 있으므로, 입력받은 조를 조문키의 형태로 변환한다.\n",
    "if len(str(docs)) == 1:\n",
    "    num = '000'+str(docs)+'001'\n",
    "elif len(str(docs)) == 2:\n",
    "    num = '00'+str(docs)+'001'\n",
    "elif len(str(docs)) == 3:\n",
    "    num = '0'+str(docs)+'001'\n",
    "elif len(str(docs)) == 4:\n",
    "    num = str(docs)+'001'\n",
    "else:\n",
    "    pass\n",
    "\n",
    "# 특정 조의 document들과 유사도가 높은 순서대로 조 출력\n",
    "\n",
    "return_docs = model.docvecs.most_similar(num, topn=5)\n",
    "for rd in return_docs:\n",
    "  for des in df_info[df_info['id'] == rd[0]]['조내용']:\n",
    "    print(rd[0][1:4]+'조')\n",
    "    #print()\n",
    "    print(rd[1],'\\n')\n",
    "    #print(des)\n",
    "    #print()"
   ]
  },
  {
   "cell_type": "markdown",
   "metadata": {},
   "source": [
    "https://sosoeasy.tistory.com/325"
   ]
  },
  {
   "cell_type": "code",
   "execution_count": 40,
   "metadata": {},
   "outputs": [],
   "source": [
    "from gensim.models import Doc2Vec\n",
    "from numpy import dot\n",
    "from numpy.linalg import norm\n",
    "import numpy as np"
   ]
  },
  {
   "cell_type": "code",
   "execution_count": 41,
   "metadata": {},
   "outputs": [
    {
     "name": "stdout",
     "output_type": "stream",
     "text": [
      "-0.10489067\n"
     ]
    }
   ],
   "source": [
    "def cos_sim(A, B):\n",
    "    return dot(A, B)/(norm(A)*norm(B))\n",
    "\n",
    "script=\"안녕하세요 첫번째 문장입니다 그럼이만\".split()\n",
    "scriptV=model.infer_vector(script)\n",
    "\n",
    "ppt=\"이것은 두번째 문장입니다 첫번째 문장과 유사도를 비교할껍니다\".split()\n",
    "pptV=model.infer_vector(ppt)\n",
    "\n",
    "print(cos_sim(scriptV,pptV))"
   ]
  },
  {
   "cell_type": "code",
   "execution_count": 42,
   "metadata": {},
   "outputs": [
    {
     "data": {
      "text/plain": [
       "<gensim.models.doc2vec.Doc2Vec at 0x2b5c6232a60>"
      ]
     },
     "execution_count": 42,
     "metadata": {},
     "output_type": "execute_result"
    }
   ],
   "source": [
    "model"
   ]
  },
  {
   "cell_type": "code",
   "execution_count": 43,
   "metadata": {},
   "outputs": [
    {
     "data": {
      "text/html": [
       "<div>\n",
       "<style scoped>\n",
       "    .dataframe tbody tr th:only-of-type {\n",
       "        vertical-align: middle;\n",
       "    }\n",
       "\n",
       "    .dataframe tbody tr th {\n",
       "        vertical-align: top;\n",
       "    }\n",
       "\n",
       "    .dataframe thead th {\n",
       "        text-align: right;\n",
       "    }\n",
       "</style>\n",
       "<table border=\"1\" class=\"dataframe\">\n",
       "  <thead>\n",
       "    <tr style=\"text-align: right;\">\n",
       "      <th></th>\n",
       "      <th>id</th>\n",
       "      <th>조내용</th>\n",
       "      <th>Token</th>\n",
       "    </tr>\n",
       "  </thead>\n",
       "  <tbody>\n",
       "    <tr>\n",
       "      <th>0</th>\n",
       "      <td>0001001</td>\n",
       "      <td>제1조(목적) 이 법은 산업 안전 및 보건에 관한 기준을 확립하고 그 책임의 소재를...</td>\n",
       "      <td>[1조, 목적, 산업, 안전, 보건, 기준, 확립, 하고, 책임, 소재, 명확하다,...</td>\n",
       "    </tr>\n",
       "    <tr>\n",
       "      <th>1</th>\n",
       "      <td>0002001</td>\n",
       "      <td>제2조(정의) 이 법에서 사용하는 용어의 뜻은 다음과 같다. &lt;개정 2020.5.2...</td>\n",
       "      <td>[2조, 정의, 에서, 사용, 하다, 용어, 다음, 같다, 개정, 2020.5, 2...</td>\n",
       "    </tr>\n",
       "    <tr>\n",
       "      <th>2</th>\n",
       "      <td>0003001</td>\n",
       "      <td>제3조(적용 범위) 이 법은 모든 사업에 적용한다. 다만, 유해ㆍ위험의 정도, 사업...</td>\n",
       "      <td>[3조, 적용, 범위, 모든, 사업, 적용, 하다, 다만, 유해, 위험, 정도, 사...</td>\n",
       "    </tr>\n",
       "    <tr>\n",
       "      <th>3</th>\n",
       "      <td>0004001</td>\n",
       "      <td>제4조(정부의 책무)산업 안전 및 보건 정책의 수립 및 집행산업재해 예방 지원 및 ...</td>\n",
       "      <td>[4조, 정부, 책무, 산업, 안전, 보건, 정책, 수립, 집행, 산업, 재해, 예...</td>\n",
       "    </tr>\n",
       "    <tr>\n",
       "      <th>4</th>\n",
       "      <td>0005001</td>\n",
       "      <td>제5조(사업주 등의 의무)이 법과 이 법에 따른 명령으로 정하는 산업재해 예방을 위...</td>\n",
       "      <td>[5조, 업주, 의무, 따르다, 명령, 으로, 하다, 산업, 재해, 예방, 기준, ...</td>\n",
       "    </tr>\n",
       "    <tr>\n",
       "      <th>...</th>\n",
       "      <td>...</td>\n",
       "      <td>...</td>\n",
       "      <td>...</td>\n",
       "    </tr>\n",
       "    <tr>\n",
       "      <th>172</th>\n",
       "      <td>0171001</td>\n",
       "      <td>제171조(벌칙) 다음 각 호의 어느 하나에 해당하는 자는 1천만원 이하의 벌금에 ...</td>\n",
       "      <td>[171조, 벌칙, 다음, 호의, 어느, 하나, 해당, 하다, 자다, 1천만원, 이...</td>\n",
       "    </tr>\n",
       "    <tr>\n",
       "      <th>173</th>\n",
       "      <td>0172001</td>\n",
       "      <td>제172조(벌칙) 제64조제1항 또는 제2항을 위반한 자는 500만원 이하의 벌금에...</td>\n",
       "      <td>[172조, 벌칙, 64조, 또는, 위반, 자다, 500만원, 이하, 벌금, 하다]</td>\n",
       "    </tr>\n",
       "    <tr>\n",
       "      <th>174</th>\n",
       "      <td>0173001</td>\n",
       "      <td>제173조(양벌규정) 법인의 대표자나 법인 또는 개인의 대리인, 사용인, 그 밖의 ...</td>\n",
       "      <td>[173조, 규정, 법인, 대표자, 법인, 또는, 개인, 대리인, 사용, 종업원, ...</td>\n",
       "    </tr>\n",
       "    <tr>\n",
       "      <th>175</th>\n",
       "      <td>0174001</td>\n",
       "      <td>제174조(형벌과 수강명령 등의 병과)안전 및 보건에 관한 교육그 밖에 산업재해 예...</td>\n",
       "      <td>[174조, 형벌, 수강, 명령, 병과, 안전, 보건, 교육, 밖에, 산업, 재해,...</td>\n",
       "    </tr>\n",
       "    <tr>\n",
       "      <th>176</th>\n",
       "      <td>0175001</td>\n",
       "      <td>제175조(과태료)제119조제2항에 따라 기관석면조사를 하지 아니하고 건축물 또는 ...</td>\n",
       "      <td>[175조, 과태료, 119조, 따르다, 관석, 조사, 하다, 아니다, 건축물, 또...</td>\n",
       "    </tr>\n",
       "  </tbody>\n",
       "</table>\n",
       "<p>177 rows × 3 columns</p>\n",
       "</div>"
      ],
      "text/plain": [
       "          id                                                조내용  \\\n",
       "0    0001001  제1조(목적) 이 법은 산업 안전 및 보건에 관한 기준을 확립하고 그 책임의 소재를...   \n",
       "1    0002001  제2조(정의) 이 법에서 사용하는 용어의 뜻은 다음과 같다. <개정 2020.5.2...   \n",
       "2    0003001  제3조(적용 범위) 이 법은 모든 사업에 적용한다. 다만, 유해ㆍ위험의 정도, 사업...   \n",
       "3    0004001  제4조(정부의 책무)산업 안전 및 보건 정책의 수립 및 집행산업재해 예방 지원 및 ...   \n",
       "4    0005001  제5조(사업주 등의 의무)이 법과 이 법에 따른 명령으로 정하는 산업재해 예방을 위...   \n",
       "..       ...                                                ...   \n",
       "172  0171001  제171조(벌칙) 다음 각 호의 어느 하나에 해당하는 자는 1천만원 이하의 벌금에 ...   \n",
       "173  0172001  제172조(벌칙) 제64조제1항 또는 제2항을 위반한 자는 500만원 이하의 벌금에...   \n",
       "174  0173001  제173조(양벌규정) 법인의 대표자나 법인 또는 개인의 대리인, 사용인, 그 밖의 ...   \n",
       "175  0174001  제174조(형벌과 수강명령 등의 병과)안전 및 보건에 관한 교육그 밖에 산업재해 예...   \n",
       "176  0175001  제175조(과태료)제119조제2항에 따라 기관석면조사를 하지 아니하고 건축물 또는 ...   \n",
       "\n",
       "                                                 Token  \n",
       "0    [1조, 목적, 산업, 안전, 보건, 기준, 확립, 하고, 책임, 소재, 명확하다,...  \n",
       "1    [2조, 정의, 에서, 사용, 하다, 용어, 다음, 같다, 개정, 2020.5, 2...  \n",
       "2    [3조, 적용, 범위, 모든, 사업, 적용, 하다, 다만, 유해, 위험, 정도, 사...  \n",
       "3    [4조, 정부, 책무, 산업, 안전, 보건, 정책, 수립, 집행, 산업, 재해, 예...  \n",
       "4    [5조, 업주, 의무, 따르다, 명령, 으로, 하다, 산업, 재해, 예방, 기준, ...  \n",
       "..                                                 ...  \n",
       "172  [171조, 벌칙, 다음, 호의, 어느, 하나, 해당, 하다, 자다, 1천만원, 이...  \n",
       "173     [172조, 벌칙, 64조, 또는, 위반, 자다, 500만원, 이하, 벌금, 하다]  \n",
       "174  [173조, 규정, 법인, 대표자, 법인, 또는, 개인, 대리인, 사용, 종업원, ...  \n",
       "175  [174조, 형벌, 수강, 명령, 병과, 안전, 보건, 교육, 밖에, 산업, 재해,...  \n",
       "176  [175조, 과태료, 119조, 따르다, 관석, 조사, 하다, 아니다, 건축물, 또...  \n",
       "\n",
       "[177 rows x 3 columns]"
      ]
     },
     "execution_count": 43,
     "metadata": {},
     "output_type": "execute_result"
    }
   ],
   "source": [
    "df_info"
   ]
  },
  {
   "cell_type": "code",
   "execution_count": 58,
   "metadata": {},
   "outputs": [
    {
     "data": {
      "text/plain": [
       "'0001001'"
      ]
     },
     "execution_count": 58,
     "metadata": {},
     "output_type": "execute_result"
    }
   ],
   "source": [
    "df_info.iloc[0][0]"
   ]
  },
  {
   "cell_type": "code",
   "execution_count": 106,
   "metadata": {
    "scrolled": true
   },
   "outputs": [
    {
     "name": "stdout",
     "output_type": "stream",
     "text": [
      "조를 입력하세요: 3\n",
      "\n"
     ]
    }
   ],
   "source": [
    "docs = input('조를 입력하세요: ')\n",
    "print()\n",
    "\n",
    "# 조문단위별 조문키는 xx조의 경우 00xx001의 형태로 이루어져 있으므로, 입력받은 조를 조문키의 형태로 변환한다.\n",
    "if len(str(docs)) == 1:\n",
    "    num = '000'+str(docs)+'001'\n",
    "elif len(str(docs)) == 2:\n",
    "    num = '00'+str(docs)+'001'\n",
    "elif len(str(docs)) == 3:\n",
    "    num = '0'+str(docs)+'001'\n",
    "elif len(str(docs)) == 4:\n",
    "    num = str(docs)+'001'\n",
    "else:\n",
    "    pass"
   ]
  },
  {
   "cell_type": "code",
   "execution_count": 150,
   "metadata": {},
   "outputs": [
    {
     "data": {
      "text/html": [
       "<div>\n",
       "<style scoped>\n",
       "    .dataframe tbody tr th:only-of-type {\n",
       "        vertical-align: middle;\n",
       "    }\n",
       "\n",
       "    .dataframe tbody tr th {\n",
       "        vertical-align: top;\n",
       "    }\n",
       "\n",
       "    .dataframe thead th {\n",
       "        text-align: right;\n",
       "    }\n",
       "</style>\n",
       "<table border=\"1\" class=\"dataframe\">\n",
       "  <thead>\n",
       "    <tr style=\"text-align: right;\">\n",
       "      <th></th>\n",
       "      <th>cos_similarity</th>\n",
       "    </tr>\n",
       "  </thead>\n",
       "  <tbody>\n",
       "    <tr>\n",
       "      <th>제3조</th>\n",
       "      <td>0.944789</td>\n",
       "    </tr>\n",
       "    <tr>\n",
       "      <th>제93조</th>\n",
       "      <td>0.861345</td>\n",
       "    </tr>\n",
       "    <tr>\n",
       "      <th>제10조</th>\n",
       "      <td>0.820498</td>\n",
       "    </tr>\n",
       "    <tr>\n",
       "      <th>제69조</th>\n",
       "      <td>0.808207</td>\n",
       "    </tr>\n",
       "    <tr>\n",
       "      <th>제163조</th>\n",
       "      <td>0.768522</td>\n",
       "    </tr>\n",
       "    <tr>\n",
       "      <th>제92조</th>\n",
       "      <td>0.710968</td>\n",
       "    </tr>\n",
       "    <tr>\n",
       "      <th>제144조</th>\n",
       "      <td>0.705188</td>\n",
       "    </tr>\n",
       "    <tr>\n",
       "      <th>제95조</th>\n",
       "      <td>0.704706</td>\n",
       "    </tr>\n",
       "    <tr>\n",
       "      <th>제125조</th>\n",
       "      <td>0.701856</td>\n",
       "    </tr>\n",
       "    <tr>\n",
       "      <th>제157조</th>\n",
       "      <td>0.701030</td>\n",
       "    </tr>\n",
       "  </tbody>\n",
       "</table>\n",
       "</div>"
      ],
      "text/plain": [
       "       cos_similarity\n",
       "제3조          0.944789\n",
       "제93조         0.861345\n",
       "제10조         0.820498\n",
       "제69조         0.808207\n",
       "제163조        0.768522\n",
       "제92조         0.710968\n",
       "제144조        0.705188\n",
       "제95조         0.704706\n",
       "제125조        0.701856\n",
       "제157조        0.701030"
      ]
     },
     "execution_count": 150,
     "metadata": {},
     "output_type": "execute_result"
    }
   ],
   "source": [
    "for i in range(len(df_info['조내용'])):\n",
    "    if df_info.iloc[i][0] == num:\n",
    "        script = df_info.iloc[i][1].split()\n",
    "        scriptV = model.infer_vector(script)\n",
    "\n",
    "jo_ = []\n",
    "cos_ = []\n",
    "for j in df_info['조내용']:\n",
    "    ppt = j.split()\n",
    "    pptV = model.infer_vector(ppt)\n",
    "    \n",
    "    cos = cos_sim(scriptV,pptV)\n",
    "    cos_.append(cos)\n",
    "    \n",
    "    jo = j.split('(')[0]\n",
    "    jo_.append(jo)\n",
    "\n",
    "df_cos = pd.DataFrame({'cos_similarity':cos_}, index = jo_)\n",
    "df_cos_sort = df_cos.sort_values(by=['cos_similarity'], axis=0, ascending=False)\n",
    "df_cos_sort.head(10)"
   ]
  },
  {
   "cell_type": "code",
   "execution_count": 129,
   "metadata": {},
   "outputs": [
    {
     "data": {
      "text/plain": [
       "True"
      ]
     },
     "execution_count": 129,
     "metadata": {},
     "output_type": "execute_result"
    }
   ],
   "source": [
    "df_info['조내용'][2].split() == script"
   ]
  },
  {
   "cell_type": "code",
   "execution_count": null,
   "metadata": {},
   "outputs": [],
   "source": [
    "# 실행할 때마다 cos_similarity 값이 왜 바뀔까 ????????????????????????????"
   ]
  }
 ],
 "metadata": {
  "kernelspec": {
   "display_name": "Python 3",
   "language": "python",
   "name": "python3"
  },
  "language_info": {
   "codemirror_mode": {
    "name": "ipython",
    "version": 3
   },
   "file_extension": ".py",
   "mimetype": "text/x-python",
   "name": "python",
   "nbconvert_exporter": "python",
   "pygments_lexer": "ipython3",
   "version": "3.8.3"
  }
 },
 "nbformat": 4,
 "nbformat_minor": 4
}
