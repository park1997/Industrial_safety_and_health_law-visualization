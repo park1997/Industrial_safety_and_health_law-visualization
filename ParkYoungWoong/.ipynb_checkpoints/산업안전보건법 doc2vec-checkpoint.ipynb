{
 "cells": [
  {
   "cell_type": "code",
   "execution_count": 1,
   "metadata": {},
   "outputs": [
    {
     "name": "stderr",
     "output_type": "stream",
     "text": [
      "C:\\Users\\assay\\anaconda3\\lib\\site-packages\\gensim\\similarities\\__init__.py:15: UserWarning: The gensim.similarities.levenshtein submodule is disabled, because the optional Levenshtein package <https://pypi.org/project/python-Levenshtein/> is unavailable. Install Levenhstein (e.g. `pip install python-Levenshtein`) to suppress this warning.\n",
      "  warnings.warn(msg)\n"
     ]
    }
   ],
   "source": [
    "import requests\n",
    "from urllib.request import urlopen\n",
    "from urllib.parse import urlencode,unquote,quote_plus\n",
    "import urllib\n",
    "import lxml\n",
    "import pandas as pd\n",
    "import numpy as np\n",
    "from bs4 import BeautifulSoup\n",
    "import re\n",
    "import matplotlib.pyplot as plt\n",
    "from gensim.models.word2vec import Word2Vec\n",
    "from konlpy.tag import Okt"
   ]
  },
  {
   "cell_type": "code",
   "execution_count": 2,
   "metadata": {},
   "outputs": [
    {
     "name": "stdout",
     "output_type": "stream",
     "text": [
      " http://www.law.go.kr/DRF/lawService.do?OC=bmsong&target=eflaw&MST=218289&type=XML\n"
     ]
    }
   ],
   "source": [
    "# 법령 XML 상세조회 (시행기준. target=eflaw)\n",
    "\n",
    "#기본 url\n",
    "url_base = \" http://www.law.go.kr/DRF/lawService.do\"\n",
    "\n",
    "#조회 url 세부 설정\n",
    "user_id = 'bmsong' #open API ID (bmsong@kau.ac.kr의 아이디 부분)\n",
    "target = \"eflaw\" #법령 조회시\n",
    "MST = \"218289\" #ID 또는 MST #산업안전보건법 MST 218289\n",
    "#ID = \"001766\" \n",
    "            #ID 산업안전보건법 법령ID 001766 (설명에는 ID로 조회하면 현행법령이 조회된다는데, \n",
    "            #target을 eflaw로 하면 ID로 요청해도, MST로 요청해도 같은 것 같다.\n",
    "Type = \"XML\" #출력 형태 : HTML 또는 XML\n",
    "\n",
    "url_sub = \"?\" +\\\n",
    "        \"OC=\" + user_id +\\\n",
    "        \"&target=\" + target +\\\n",
    "        \"&MST=\" + MST +\\\n",
    "        \"&type=\" + Type\n",
    "\n",
    "#최종 url\n",
    "url = url_base + url_sub\n",
    "\n",
    "print(url)\n",
    "\n",
    "response = requests.get(url)\n",
    "\n",
    "#(1) response.text 사용하는 방법\n",
    "#soup = BeautifulSoup(response.text.encode('utf-8'), 'lxml-xml') #lxml-xml -> lxml 추가 설치 필요(Beautifulsoup과 별도로 설치)\n",
    "\n",
    "#(2) response.content 사용하는 방법\n",
    "soup = BeautifulSoup(response.content, 'lxml-xml') #lxml-xml -> lxml 추가 설치 필요(Beautifulsoup과 별도로 설치)\n",
    "\n",
    "\n",
    "# soup"
   ]
  },
  {
   "cell_type": "code",
   "execution_count": 3,
   "metadata": {},
   "outputs": [
    {
     "data": {
      "text/html": [
       "<div>\n",
       "<style scoped>\n",
       "    .dataframe tbody tr th:only-of-type {\n",
       "        vertical-align: middle;\n",
       "    }\n",
       "\n",
       "    .dataframe tbody tr th {\n",
       "        vertical-align: top;\n",
       "    }\n",
       "\n",
       "    .dataframe thead th {\n",
       "        text-align: right;\n",
       "    }\n",
       "</style>\n",
       "<table border=\"1\" class=\"dataframe\">\n",
       "  <thead>\n",
       "    <tr style=\"text-align: right;\">\n",
       "      <th></th>\n",
       "      <th>id</th>\n",
       "      <th>조내용</th>\n",
       "    </tr>\n",
       "  </thead>\n",
       "  <tbody>\n",
       "    <tr>\n",
       "      <th>0</th>\n",
       "      <td>0001001</td>\n",
       "      <td>제1조(목적) 이 법은 산업 안전 및 보건에 관한 기준을 확립하고 그 책임의 소재를...</td>\n",
       "    </tr>\n",
       "    <tr>\n",
       "      <th>1</th>\n",
       "      <td>0002001</td>\n",
       "      <td>제2조(정의) 이 법에서 사용하는 용어의 뜻은 다음과 같다. &lt;개정 2020.5.2...</td>\n",
       "    </tr>\n",
       "    <tr>\n",
       "      <th>2</th>\n",
       "      <td>0003001</td>\n",
       "      <td>제3조(적용 범위) 이 법은 모든 사업에 적용한다. 다만, 유해ㆍ위험의 정도, 사업...</td>\n",
       "    </tr>\n",
       "    <tr>\n",
       "      <th>3</th>\n",
       "      <td>0004001</td>\n",
       "      <td>제4조(정부의 책무)산업 안전 및 보건 정책의 수립 및 집행산업재해 예방 지원 및 ...</td>\n",
       "    </tr>\n",
       "    <tr>\n",
       "      <th>4</th>\n",
       "      <td>0005001</td>\n",
       "      <td>제5조(사업주 등의 의무)이 법과 이 법에 따른 명령으로 정하는 산업재해 예방을 위...</td>\n",
       "    </tr>\n",
       "    <tr>\n",
       "      <th>...</th>\n",
       "      <td>...</td>\n",
       "      <td>...</td>\n",
       "    </tr>\n",
       "    <tr>\n",
       "      <th>172</th>\n",
       "      <td>0171001</td>\n",
       "      <td>제171조(벌칙) 다음 각 호의 어느 하나에 해당하는 자는 1천만원 이하의 벌금에 ...</td>\n",
       "    </tr>\n",
       "    <tr>\n",
       "      <th>173</th>\n",
       "      <td>0172001</td>\n",
       "      <td>제172조(벌칙) 제64조제1항 또는 제2항을 위반한 자는 500만원 이하의 벌금에...</td>\n",
       "    </tr>\n",
       "    <tr>\n",
       "      <th>174</th>\n",
       "      <td>0173001</td>\n",
       "      <td>제173조(양벌규정) 법인의 대표자나 법인 또는 개인의 대리인, 사용인, 그 밖의 ...</td>\n",
       "    </tr>\n",
       "    <tr>\n",
       "      <th>175</th>\n",
       "      <td>0174001</td>\n",
       "      <td>제174조(형벌과 수강명령 등의 병과)안전 및 보건에 관한 교육그 밖에 산업재해 예...</td>\n",
       "    </tr>\n",
       "    <tr>\n",
       "      <th>176</th>\n",
       "      <td>0175001</td>\n",
       "      <td>제175조(과태료)제119조제2항에 따라 기관석면조사를 하지 아니하고 건축물 또는 ...</td>\n",
       "    </tr>\n",
       "  </tbody>\n",
       "</table>\n",
       "<p>177 rows × 2 columns</p>\n",
       "</div>"
      ],
      "text/plain": [
       "          id                                                조내용\n",
       "0    0001001  제1조(목적) 이 법은 산업 안전 및 보건에 관한 기준을 확립하고 그 책임의 소재를...\n",
       "1    0002001  제2조(정의) 이 법에서 사용하는 용어의 뜻은 다음과 같다. <개정 2020.5.2...\n",
       "2    0003001  제3조(적용 범위) 이 법은 모든 사업에 적용한다. 다만, 유해ㆍ위험의 정도, 사업...\n",
       "3    0004001  제4조(정부의 책무)산업 안전 및 보건 정책의 수립 및 집행산업재해 예방 지원 및 ...\n",
       "4    0005001  제5조(사업주 등의 의무)이 법과 이 법에 따른 명령으로 정하는 산업재해 예방을 위...\n",
       "..       ...                                                ...\n",
       "172  0171001  제171조(벌칙) 다음 각 호의 어느 하나에 해당하는 자는 1천만원 이하의 벌금에 ...\n",
       "173  0172001  제172조(벌칙) 제64조제1항 또는 제2항을 위반한 자는 500만원 이하의 벌금에...\n",
       "174  0173001  제173조(양벌규정) 법인의 대표자나 법인 또는 개인의 대리인, 사용인, 그 밖의 ...\n",
       "175  0174001  제174조(형벌과 수강명령 등의 병과)안전 및 보건에 관한 교육그 밖에 산업재해 예...\n",
       "176  0175001  제175조(과태료)제119조제2항에 따라 기관석면조사를 하지 아니하고 건축물 또는 ...\n",
       "\n",
       "[177 rows x 2 columns]"
      ]
     },
     "execution_count": 3,
     "metadata": {},
     "output_type": "execute_result"
    }
   ],
   "source": [
    "data = soup.find_all('조문단위')\n",
    "df_info = pd.DataFrame()\n",
    "info = []\n",
    "jo_key = []\n",
    "for i in data:\n",
    "    info_str = \"\"\n",
    "    if i.find(\"조문여부\").get_text() == \"조문\":\n",
    "        info_str += i.조문내용.get_text().strip()\n",
    "        \n",
    "        key = i['조문키']\n",
    "        jo_key.append(key)\n",
    "        \n",
    "        \n",
    "        if i.항:\n",
    "            hang_nums = i.find_all(\"항번호\")\n",
    "            ho_nums = i.find_all(\"호번호\")\n",
    "            for idx, p in enumerate(i.find_all(\"호내용\")):\n",
    "                info_str += p.get_text().split(ho_nums[idx].get_text())[1].strip()\n",
    "            for hang_idx, k in enumerate(i.find_all(\"항내용\")):\n",
    "                info_str += k.get_text().strip().split(hang_nums[hang_idx].get_text())[1].strip()\n",
    "                for ho_idx ,j in enumerate(i.find_all(\"호내용\")):\n",
    "                    info_str += j.get_text().strip().split(ho_nums[ho_idx].get_text())[1].strip()\n",
    "        info.append(info_str)\n",
    "df_info['id'] = jo_key\n",
    "df_info[\"조내용\"] = info\n",
    "df_info"
   ]
  },
  {
   "cell_type": "code",
   "execution_count": null,
   "metadata": {},
   "outputs": [],
   "source": [
    "data = soup.find_all('조문단위')\n",
    "df_info = pd.DataFrame()\n",
    "info = []\n",
    "jo_key = []\n",
    "for i in data:\n",
    "    info_str = \"\"\n",
    "    if i.find(\"조문여부\").get_text() == \"조문\":\n",
    "        info_str += i.조문내용.get_text().strip() + ' '\n",
    "        \n",
    "        key = i['조문키']\n",
    "        jo_key.append(key)\n",
    "        \n",
    "        \n",
    "        if i.항:\n",
    "            hang_nums = i.find_all(\"항번호\")\n",
    "            ho_nums = i.find_all(\"호번호\")\n",
    "            if not i.find(\"항내용\") :\n",
    "                for idx, p in enumerate(i.find_all(\"호내용\")):\n",
    "                    info_str += p.get_text().split(ho_nums[idx].get_text())[1].strip() + ' '\n",
    "            else:\n",
    "                for hang_idx , k in enumerate(i.find_all(\"항내용\")):\n",
    "                    info_str += k.get_text().strip().split(hang_nums[hang_idx].get_text())[1].strip() + ' '\n",
    "                for ho_idx , j in enumerate(i.find_all(\"호내용\")):\n",
    "                    info_str += j.get_text().strip().split(ho_nums[ho_idx].get_text())[1].strip() + ' '\n",
    "        info.append(info_str)\n",
    "df_info[\"조내용\"] = info\n",
    "df_info"
   ]
  },
  {
   "cell_type": "code",
   "execution_count": 4,
   "metadata": {},
   "outputs": [],
   "source": [
    "df_info.to_excel('산업안전보건법id.xlsx')"
   ]
  },
  {
   "cell_type": "code",
   "execution_count": 4,
   "metadata": {},
   "outputs": [
    {
     "data": {
      "text/html": [
       "<div>\n",
       "<style scoped>\n",
       "    .dataframe tbody tr th:only-of-type {\n",
       "        vertical-align: middle;\n",
       "    }\n",
       "\n",
       "    .dataframe tbody tr th {\n",
       "        vertical-align: top;\n",
       "    }\n",
       "\n",
       "    .dataframe thead th {\n",
       "        text-align: right;\n",
       "    }\n",
       "</style>\n",
       "<table border=\"1\" class=\"dataframe\">\n",
       "  <thead>\n",
       "    <tr style=\"text-align: right;\">\n",
       "      <th></th>\n",
       "      <th>불용어</th>\n",
       "    </tr>\n",
       "  </thead>\n",
       "  <tbody>\n",
       "    <tr>\n",
       "      <th>0</th>\n",
       "      <td>아</td>\n",
       "    </tr>\n",
       "    <tr>\n",
       "      <th>1</th>\n",
       "      <td>휴</td>\n",
       "    </tr>\n",
       "    <tr>\n",
       "      <th>2</th>\n",
       "      <td>아이구</td>\n",
       "    </tr>\n",
       "    <tr>\n",
       "      <th>3</th>\n",
       "      <td>아이쿠</td>\n",
       "    </tr>\n",
       "    <tr>\n",
       "      <th>4</th>\n",
       "      <td>아이고</td>\n",
       "    </tr>\n",
       "    <tr>\n",
       "      <th>...</th>\n",
       "      <td>...</td>\n",
       "    </tr>\n",
       "    <tr>\n",
       "      <th>685</th>\n",
       "      <td>산업</td>\n",
       "    </tr>\n",
       "    <tr>\n",
       "      <th>686</th>\n",
       "      <td>사항</td>\n",
       "    </tr>\n",
       "    <tr>\n",
       "      <th>687</th>\n",
       "      <td>해당</td>\n",
       "    </tr>\n",
       "    <tr>\n",
       "      <th>688</th>\n",
       "      <td>포함</td>\n",
       "    </tr>\n",
       "    <tr>\n",
       "      <th>689</th>\n",
       "      <td>거나</td>\n",
       "    </tr>\n",
       "  </tbody>\n",
       "</table>\n",
       "<p>690 rows × 1 columns</p>\n",
       "</div>"
      ],
      "text/plain": [
       "     불용어\n",
       "0      아\n",
       "1      휴\n",
       "2    아이구\n",
       "3    아이쿠\n",
       "4    아이고\n",
       "..   ...\n",
       "685   산업\n",
       "686   사항\n",
       "687   해당\n",
       "688   포함\n",
       "689   거나\n",
       "\n",
       "[690 rows x 1 columns]"
      ]
     },
     "execution_count": 4,
     "metadata": {},
     "output_type": "execute_result"
    }
   ],
   "source": [
    "stop_words = pd.read_excel(\"stopwords.xlsx\")\n",
    "stop_words"
   ]
  },
  {
   "cell_type": "code",
   "execution_count": 5,
   "metadata": {},
   "outputs": [],
   "source": [
    "okt = Okt()\n",
    "tokenized_data = []\n",
    "for sentence in df_info['조내용']:\n",
    "    temp_X = okt.morphs(sentence, stem=True) # 토큰화\n",
    "    temp_X = [word for word in temp_X if not word in stop_words and len(word) > 1] # 불용어 제거\n",
    "    tokenized_data.append(temp_X)"
   ]
  },
  {
   "cell_type": "code",
   "execution_count": 6,
   "metadata": {},
   "outputs": [
    {
     "name": "stdout",
     "output_type": "stream",
     "text": [
      "조문의 최대 길이 : 6890\n",
      "조문의 평균 길이 : 215.8135593220339\n"
     ]
    },
    {
     "data": {
      "image/png": "[encoded data removed]",
      "text/plain": [
       "<Figure size 432x288 with 1 Axes>"
      ]
     },
     "metadata": {
      "needs_background": "light"
     },
     "output_type": "display_data"
    }
   ],
   "source": [
    "print('조문의 최대 길이 :',max(len(l) for l in tokenized_data))\n",
    "print('조문의 평균 길이 :',sum(map(len, tokenized_data))/len(tokenized_data))\n",
    "plt.hist([len(s) for s in tokenized_data], bins=50)\n",
    "plt.xlabel('length of samples')\n",
    "plt.ylabel('number of samples')\n",
    "plt.show()"
   ]
  },
  {
   "cell_type": "code",
   "execution_count": 7,
   "metadata": {},
   "outputs": [
    {
     "data": {
      "text/html": [
       "<div>\n",
       "<style scoped>\n",
       "    .dataframe tbody tr th:only-of-type {\n",
       "        vertical-align: middle;\n",
       "    }\n",
       "\n",
       "    .dataframe tbody tr th {\n",
       "        vertical-align: top;\n",
       "    }\n",
       "\n",
       "    .dataframe thead th {\n",
       "        text-align: right;\n",
       "    }\n",
       "</style>\n",
       "<table border=\"1\" class=\"dataframe\">\n",
       "  <thead>\n",
       "    <tr style=\"text-align: right;\">\n",
       "      <th></th>\n",
       "      <th>id</th>\n",
       "      <th>조내용</th>\n",
       "      <th>Token</th>\n",
       "    </tr>\n",
       "  </thead>\n",
       "  <tbody>\n",
       "    <tr>\n",
       "      <th>0</th>\n",
       "      <td>0001001</td>\n",
       "      <td>제1조(목적) 이 법은 산업 안전 및 보건에 관한 기준을 확립하고 그 책임의 소재를...</td>\n",
       "      <td>[1조, 목적, 산업, 안전, 보건, 기준, 확립, 하고, 책임, 소재, 명확하다,...</td>\n",
       "    </tr>\n",
       "    <tr>\n",
       "      <th>1</th>\n",
       "      <td>0002001</td>\n",
       "      <td>제2조(정의) 이 법에서 사용하는 용어의 뜻은 다음과 같다. &lt;개정 2020.5.2...</td>\n",
       "      <td>[2조, 정의, 에서, 사용, 하다, 용어, 다음, 같다, 개정, 2020.5, 2...</td>\n",
       "    </tr>\n",
       "    <tr>\n",
       "      <th>2</th>\n",
       "      <td>0003001</td>\n",
       "      <td>제3조(적용 범위) 이 법은 모든 사업에 적용한다. 다만, 유해ㆍ위험의 정도, 사업...</td>\n",
       "      <td>[3조, 적용, 범위, 모든, 사업, 적용, 하다, 다만, 유해, 위험, 정도, 사...</td>\n",
       "    </tr>\n",
       "    <tr>\n",
       "      <th>3</th>\n",
       "      <td>0004001</td>\n",
       "      <td>제4조(정부의 책무)산업 안전 및 보건 정책의 수립 및 집행산업재해 예방 지원 및 ...</td>\n",
       "      <td>[4조, 정부, 책무, 산업, 안전, 보건, 정책, 수립, 집행, 산업, 재해, 예...</td>\n",
       "    </tr>\n",
       "    <tr>\n",
       "      <th>4</th>\n",
       "      <td>0005001</td>\n",
       "      <td>제5조(사업주 등의 의무)이 법과 이 법에 따른 명령으로 정하는 산업재해 예방을 위...</td>\n",
       "      <td>[5조, 업주, 의무, 따르다, 명령, 으로, 하다, 산업, 재해, 예방, 기준, ...</td>\n",
       "    </tr>\n",
       "    <tr>\n",
       "      <th>...</th>\n",
       "      <td>...</td>\n",
       "      <td>...</td>\n",
       "      <td>...</td>\n",
       "    </tr>\n",
       "    <tr>\n",
       "      <th>172</th>\n",
       "      <td>0171001</td>\n",
       "      <td>제171조(벌칙) 다음 각 호의 어느 하나에 해당하는 자는 1천만원 이하의 벌금에 ...</td>\n",
       "      <td>[171조, 벌칙, 다음, 호의, 어느, 하나, 해당, 하다, 자다, 1천만원, 이...</td>\n",
       "    </tr>\n",
       "    <tr>\n",
       "      <th>173</th>\n",
       "      <td>0172001</td>\n",
       "      <td>제172조(벌칙) 제64조제1항 또는 제2항을 위반한 자는 500만원 이하의 벌금에...</td>\n",
       "      <td>[172조, 벌칙, 64조, 또는, 위반, 자다, 500만원, 이하, 벌금, 하다]</td>\n",
       "    </tr>\n",
       "    <tr>\n",
       "      <th>174</th>\n",
       "      <td>0173001</td>\n",
       "      <td>제173조(양벌규정) 법인의 대표자나 법인 또는 개인의 대리인, 사용인, 그 밖의 ...</td>\n",
       "      <td>[173조, 규정, 법인, 대표자, 법인, 또는, 개인, 대리인, 사용, 종업원, ...</td>\n",
       "    </tr>\n",
       "    <tr>\n",
       "      <th>175</th>\n",
       "      <td>0174001</td>\n",
       "      <td>제174조(형벌과 수강명령 등의 병과)안전 및 보건에 관한 교육그 밖에 산업재해 예...</td>\n",
       "      <td>[174조, 형벌, 수강, 명령, 병과, 안전, 보건, 교육, 밖에, 산업, 재해,...</td>\n",
       "    </tr>\n",
       "    <tr>\n",
       "      <th>176</th>\n",
       "      <td>0175001</td>\n",
       "      <td>제175조(과태료)제119조제2항에 따라 기관석면조사를 하지 아니하고 건축물 또는 ...</td>\n",
       "      <td>[175조, 과태료, 119조, 따르다, 관석, 조사, 하다, 아니다, 건축물, 또...</td>\n",
       "    </tr>\n",
       "  </tbody>\n",
       "</table>\n",
       "<p>177 rows × 3 columns</p>\n",
       "</div>"
      ],
      "text/plain": [
       "          id                                                조내용  \\\n",
       "0    0001001  제1조(목적) 이 법은 산업 안전 및 보건에 관한 기준을 확립하고 그 책임의 소재를...   \n",
       "1    0002001  제2조(정의) 이 법에서 사용하는 용어의 뜻은 다음과 같다. <개정 2020.5.2...   \n",
       "2    0003001  제3조(적용 범위) 이 법은 모든 사업에 적용한다. 다만, 유해ㆍ위험의 정도, 사업...   \n",
       "3    0004001  제4조(정부의 책무)산업 안전 및 보건 정책의 수립 및 집행산업재해 예방 지원 및 ...   \n",
       "4    0005001  제5조(사업주 등의 의무)이 법과 이 법에 따른 명령으로 정하는 산업재해 예방을 위...   \n",
       "..       ...                                                ...   \n",
       "172  0171001  제171조(벌칙) 다음 각 호의 어느 하나에 해당하는 자는 1천만원 이하의 벌금에 ...   \n",
       "173  0172001  제172조(벌칙) 제64조제1항 또는 제2항을 위반한 자는 500만원 이하의 벌금에...   \n",
       "174  0173001  제173조(양벌규정) 법인의 대표자나 법인 또는 개인의 대리인, 사용인, 그 밖의 ...   \n",
       "175  0174001  제174조(형벌과 수강명령 등의 병과)안전 및 보건에 관한 교육그 밖에 산업재해 예...   \n",
       "176  0175001  제175조(과태료)제119조제2항에 따라 기관석면조사를 하지 아니하고 건축물 또는 ...   \n",
       "\n",
       "                                                 Token  \n",
       "0    [1조, 목적, 산업, 안전, 보건, 기준, 확립, 하고, 책임, 소재, 명확하다,...  \n",
       "1    [2조, 정의, 에서, 사용, 하다, 용어, 다음, 같다, 개정, 2020.5, 2...  \n",
       "2    [3조, 적용, 범위, 모든, 사업, 적용, 하다, 다만, 유해, 위험, 정도, 사...  \n",
       "3    [4조, 정부, 책무, 산업, 안전, 보건, 정책, 수립, 집행, 산업, 재해, 예...  \n",
       "4    [5조, 업주, 의무, 따르다, 명령, 으로, 하다, 산업, 재해, 예방, 기준, ...  \n",
       "..                                                 ...  \n",
       "172  [171조, 벌칙, 다음, 호의, 어느, 하나, 해당, 하다, 자다, 1천만원, 이...  \n",
       "173     [172조, 벌칙, 64조, 또는, 위반, 자다, 500만원, 이하, 벌금, 하다]  \n",
       "174  [173조, 규정, 법인, 대표자, 법인, 또는, 개인, 대리인, 사용, 종업원, ...  \n",
       "175  [174조, 형벌, 수강, 명령, 병과, 안전, 보건, 교육, 밖에, 산업, 재해,...  \n",
       "176  [175조, 과태료, 119조, 따르다, 관석, 조사, 하다, 아니다, 건축물, 또...  \n",
       "\n",
       "[177 rows x 3 columns]"
      ]
     },
     "execution_count": 7,
     "metadata": {},
     "output_type": "execute_result"
    }
   ],
   "source": [
    "df_info['Token'] = tokenized_data\n",
    "df_info"
   ]
  },
  {
   "cell_type": "code",
   "execution_count": 8,
   "metadata": {},
   "outputs": [],
   "source": [
    "from gensim.models import Word2Vec\n",
    "model = Word2Vec(sentences = tokenized_data, window = 5, min_count = 5, workers = 4, sg = 0)"
   ]
  },
  {
   "cell_type": "code",
   "execution_count": 9,
   "metadata": {},
   "outputs": [
    {
     "data": {
      "text/plain": [
       "(744, 100)"
      ]
     },
     "execution_count": 9,
     "metadata": {},
     "output_type": "execute_result"
    }
   ],
   "source": [
    "model.wv.vectors.shape"
   ]
  },
  {
   "cell_type": "code",
   "execution_count": 10,
   "metadata": {},
   "outputs": [
    {
     "data": {
      "text/plain": [
       "[('해당', 0.9887202382087708),\n",
       " ('다만', 0.9885826110839844),\n",
       " ('에는', 0.9879863262176514),\n",
       " ('업주', 0.9877465963363647),\n",
       " ('하고', 0.9877260327339172),\n",
       " ('2020.3', 0.9876265525817871),\n",
       " ('에게는', 0.987605631351471),\n",
       " ('소속', 0.9874988198280334),\n",
       " ('사람', 0.9874467849731445),\n",
       " ('자다', 0.9873644113540649)]"
      ]
     },
     "execution_count": 10,
     "metadata": {},
     "output_type": "execute_result"
    }
   ],
   "source": [
    "model.wv.most_similar('5조')"
   ]
  },
  {
   "cell_type": "code",
   "execution_count": 11,
   "metadata": {},
   "outputs": [],
   "source": [
    "import pandas , nltk\n",
    "from gensim.models.doc2vec import Doc2Vec, TaggedDocument\n",
    "from nltk.tokenize import RegexpTokenizer"
   ]
  },
  {
   "cell_type": "code",
   "execution_count": 12,
   "metadata": {},
   "outputs": [],
   "source": [
    "# Great Input Data\n",
    "# doc2vec 입력 형식에 맞게 데이터를 수정한다.\n",
    "# tags = 문서 ID\n",
    "# words = 단어 list\n",
    "\n",
    "doc_df = df_info[['id','Token']].values.tolist()\n",
    "tagged_data = [TaggedDocument(words=_d, tags=[uid]) for uid, _d in doc_df]"
   ]
  },
  {
   "cell_type": "markdown",
   "metadata": {},
   "source": [
    "# Training\n",
    "파라메터 설명\n",
    "- window: 모델 학습할때 앞뒤로 보는 단어의 수\n",
    "- size: 벡터 차원의 크기\n",
    "- alpha: learning rate\n",
    "- min_count: 학습에 사용할 최소 단어 빈도 수\n",
    "- dm: 학습방법 1 = PV-DM, 0 = PV-DBOW\n",
    "- negative: Complexity Reduction 방법, negative sampling\n",
    "- max_epochs: 최대 학습 횟수"
   ]
  },
  {
   "cell_type": "code",
   "execution_count": 52,
   "metadata": {},
   "outputs": [
    {
     "name": "stdout",
     "output_type": "stream",
     "text": [
      "iteration 0\n",
      "iteration 1\n",
      "iteration 2\n",
      "iteration 3\n",
      "iteration 4\n",
      "iteration 5\n",
      "iteration 6\n",
      "iteration 7\n",
      "iteration 8\n",
      "iteration 9\n"
     ]
    }
   ],
   "source": [
    "max_epochs = 10\n",
    "vec_size = 100\n",
    "model = Doc2Vec(\n",
    "    window=10,\n",
    "    vector_size=vec_size,\n",
    "    alpha=0.025, \n",
    "    min_alpha=0.025,\n",
    "    min_count=2,\n",
    "    dm =1,\n",
    "    negative = 5,\n",
    "    seed = 9999)\n",
    "  \n",
    "model.build_vocab(tagged_data)\n",
    "\n",
    "for epoch in range(max_epochs):\n",
    "    print('iteration {0}'.format(epoch))\n",
    "    model.train(tagged_data,\n",
    "                total_examples=model.corpus_count,\n",
    "                epochs=model.epochs\n",
    "               )\n",
    "    # decrease the learning rate\n",
    "    model.alpha -= 0.002\n",
    "    # fix the learning rate, no decay\n",
    "    model.min_alpha = model.alpha"
   ]
  },
  {
   "cell_type": "markdown",
   "metadata": {},
   "source": [
    "# 결과 확인\n",
    "특정 문서와 유사한 문서를 찾기 위해서는 2단계를 거친다.\n",
    "1. 문서의 vector화\n",
    "2. 변환된 vector와 가장 가까운 vector 추출\n",
    "* infer_vector 사용시 seed값을 주지 않으면 random한값이 seed로 사용되어 값이 계속 변경된다.\n",
    "* 학습되지 않은 단어를 사용한 문서도 결과가 나온다.\n",
    "\n",
    "https://hanshuginn.blogspot.com/2019/03/python-doc2vec.html"
   ]
  },
  {
   "cell_type": "code",
   "execution_count": 62,
   "metadata": {
    "scrolled": true
   },
   "outputs": [
    {
     "name": "stdout",
     "output_type": "stream",
     "text": [
      "고용노동\n",
      "047 조 0.20825232565402985 \n",
      "\n",
      "제47조(안전보건진단)고용노동부장관은 추락ㆍ붕괴, 화재ㆍ폭발, 유해하거나 위험한 물질의 누출 등 산업재해 발생의 위험이 현저히 높은 사업장의 사업주에게 제48조에 따라 지정받은 기관(이하 \"안전보건진단기관\"이라 한다)이 실시하는 안전보건진단을 받을 것을 명할 수 있다.사업주는 제1항에 따라 안전보건진단 명령을 받은 경우 고용노동부령으로 정하는 바에 따라 안전보건진단기관에 안전보건진단을 의뢰하여야 한다.사업주는 안전보건진단기관이 제2항에 따라 실시하는 안전보건진단에 적극 협조하여야 하며, 정당한 사유 없이 이를 거부하거나 방해 또는 기피해서는 아니 된다. 이 경우 근로자대표가 요구할 때에는 해당 안전보건진단에 근로자대표를 참여시켜야 한다.안전보건진단기관은 제2항에 따라 안전보건진단을 실시한 경우에는 안전보건진단 결과보고서를 고용노동부령으로 정하는 바에 따라 해당 사업장의 사업주 및 고용노동부장관에게 제출하여야 한다.안전보건진단의 종류 및 내용, 안전보건진단 결과보고서에 포함될 사항, 그 밖에 필요한 사항은 대통령령으로 정한다.\n",
      "\n",
      "114 조 0.13234363496303558 \n",
      "\n",
      "제114조(물질안전보건자료의 게시 및 교육)물질안전보건자료대상물질을 취급하려는 사업주는 제110조제1항 또는 제3항에 따라 작성하였거나 제111조제1항부터 제3항까지의 규정에 따라 제공받은 물질안전보건자료를 고용노동부령으로 정하는 방법에 따라 물질안전보건자료대상물질을 취급하는 작업장 내에 이를 취급하는 근로자가 쉽게 볼 수 있는 장소에 게시하거나 갖추어 두어야 한다.제1항에 따른 사업주는 물질안전보건자료대상물질을 취급하는 작업공정별로 고용노동부령으로 정하는 바에 따라 물질안전보건자료대상물질의 관리 요령을 게시하여야 한다.제1항에 따른 사업주는 물질안전보건자료대상물질을 취급하는 근로자의 안전 및 보건을 위하여 고용노동부령으로 정하는 바에 따라 해당 근로자를 교육하는 등 적절한 조치를 하여야 한다.\n",
      "\n",
      "004 조 0.12948794662952423 \n",
      "\n",
      "제4조(정부의 책무)산업 안전 및 보건 정책의 수립 및 집행산업재해 예방 지원 및 지도「근로기준법」 제76조의2에 따른 직장 내 괴롭힘 예방을 위한 조치기준 마련, 지도 및 지원사업주의 자율적인 산업 안전 및 보건 경영체제 확립을 위한 지원산업 안전 및 보건에 관한 의식을 북돋우기 위한 홍보ㆍ교육 등 안전문화 확산 추진산업 안전 및 보건에 관한 기술의 연구ㆍ개발 및 시설의 설치ㆍ운영산업재해에 관한 조사 및 통계의 유지ㆍ관리산업 안전 및 보건 관련 단체 등에 대한 지원 및 지도ㆍ감독그 밖에 노무를 제공하는 사람의 안전 및 건강의 보호ㆍ증진정부는 이 법의 목적을 달성하기 위하여 다음 각 호의 사항을 성실히 이행할 책무를 진다. <개정 2020.5.26>산업 안전 및 보건 정책의 수립 및 집행산업재해 예방 지원 및 지도「근로기준법」 제76조의2에 따른 직장 내 괴롭힘 예방을 위한 조치기준 마련, 지도 및 지원사업주의 자율적인 산업 안전 및 보건 경영체제 확립을 위한 지원산업 안전 및 보건에 관한 의식을 북돋우기 위한 홍보ㆍ교육 등 안전문화 확산 추진산업 안전 및 보건에 관한 기술의 연구ㆍ개발 및 시설의 설치ㆍ운영산업재해에 관한 조사 및 통계의 유지ㆍ관리산업 안전 및 보건 관련 단체 등에 대한 지원 및 지도ㆍ감독그 밖에 노무를 제공하는 사람의 안전 및 건강의 보호ㆍ증진정부는 제1항 각 호의 사항을 효율적으로 수행하기 위하여 「한국산업안전보건공단법」에 따른 한국산업안전보건공단(이하 \"공단\"이라 한다), 그 밖의 관련 단체 및 연구기관에 행정적ㆍ재정적 지원을 할 수 있다.산업 안전 및 보건 정책의 수립 및 집행산업재해 예방 지원 및 지도「근로기준법」 제76조의2에 따른 직장 내 괴롭힘 예방을 위한 조치기준 마련, 지도 및 지원사업주의 자율적인 산업 안전 및 보건 경영체제 확립을 위한 지원산업 안전 및 보건에 관한 의식을 북돋우기 위한 홍보ㆍ교육 등 안전문화 확산 추진산업 안전 및 보건에 관한 기술의 연구ㆍ개발 및 시설의 설치ㆍ운영산업재해에 관한 조사 및 통계의 유지ㆍ관리산업 안전 및 보건 관련 단체 등에 대한 지원 및 지도ㆍ감독그 밖에 노무를 제공하는 사람의 안전 및 건강의 보호ㆍ증진\n",
      "\n",
      "158 조 0.11787053942680359 \n",
      "\n",
      "제158조(산업재해 예방활동의 보조ㆍ지원)거짓이나 그 밖의 부정한 방법으로 보조ㆍ지원을 받은 경우보조ㆍ지원 대상자가 폐업하거나 파산한 경우보조ㆍ지원 대상을 임의매각ㆍ훼손ㆍ분실하는 등 지원 목적에 적합하게 유지ㆍ관리ㆍ사용하지 아니한 경우제1항에 따른 산업재해 예방사업의 목적에 맞게 사용되지 아니한 경우보조ㆍ지원 대상 기간이 끝나기 전에 보조ㆍ지원 대상 시설 및 장비를 국외로 이전한 경우보조ㆍ지원을 받은 사업주가 필요한 안전조치 및 보건조치 의무를 위반하여 산업재해를 발생시킨 경우로서 고용노동부령으로 정하는 경우정부는 사업주, 사업주단체, 근로자단체, 산업재해 예방 관련 전문단체, 연구기관 등이 하는 산업재해 예방사업 중 대통령령으로 정하는 사업에 드는 경비의 전부 또는 일부를 예산의 범위에서 보조하거나 그 밖에 필요한 지원(이하 \"보조ㆍ지원\"이라 한다)을 할 수 있다. 이 경우 고용노동부장관은 보조ㆍ지원이 산업재해 예방사업의 목적에 맞게 효율적으로 사용되도록 관리ㆍ감독하여야 한다.거짓이나 그 밖의 부정한 방법으로 보조ㆍ지원을 받은 경우보조ㆍ지원 대상자가 폐업하거나 파산한 경우보조ㆍ지원 대상을 임의매각ㆍ훼손ㆍ분실하는 등 지원 목적에 적합하게 유지ㆍ관리ㆍ사용하지 아니한 경우제1항에 따른 산업재해 예방사업의 목적에 맞게 사용되지 아니한 경우보조ㆍ지원 대상 기간이 끝나기 전에 보조ㆍ지원 대상 시설 및 장비를 국외로 이전한 경우보조ㆍ지원을 받은 사업주가 필요한 안전조치 및 보건조치 의무를 위반하여 산업재해를 발생시킨 경우로서 고용노동부령으로 정하는 경우고용노동부장관은 보조ㆍ지원을 받은 자가 다음 각 호의 어느 하나에 해당하는 경우 보조ㆍ지원의 전부 또는 일부를 취소하여야 한다. 다만, 제1호 및 제2호의 경우에는 보조ㆍ지원의 전부를 취소하여야 한다.거짓이나 그 밖의 부정한 방법으로 보조ㆍ지원을 받은 경우보조ㆍ지원 대상자가 폐업하거나 파산한 경우보조ㆍ지원 대상을 임의매각ㆍ훼손ㆍ분실하는 등 지원 목적에 적합하게 유지ㆍ관리ㆍ사용하지 아니한 경우제1항에 따른 산업재해 예방사업의 목적에 맞게 사용되지 아니한 경우보조ㆍ지원 대상 기간이 끝나기 전에 보조ㆍ지원 대상 시설 및 장비를 국외로 이전한 경우보조ㆍ지원을 받은 사업주가 필요한 안전조치 및 보건조치 의무를 위반하여 산업재해를 발생시킨 경우로서 고용노동부령으로 정하는 경우고용노동부장관은 제2항에 따라 보조ㆍ지원의 전부 또는 일부를 취소한 경우에는 해당 금액 또는 지원에 상응하는 금액을 환수하되, 같은 항 제1호의 경우에는 지급받은 금액에 상당하는 액수 이하의 금액을 추가로 환수할 수 있다. 다만, 제2항제2호 중 보조ㆍ지원 대상자가 파산한 경우에 해당하여 취소한 경우는 환수하지 아니한다.거짓이나 그 밖의 부정한 방법으로 보조ㆍ지원을 받은 경우보조ㆍ지원 대상자가 폐업하거나 파산한 경우보조ㆍ지원 대상을 임의매각ㆍ훼손ㆍ분실하는 등 지원 목적에 적합하게 유지ㆍ관리ㆍ사용하지 아니한 경우제1항에 따른 산업재해 예방사업의 목적에 맞게 사용되지 아니한 경우보조ㆍ지원 대상 기간이 끝나기 전에 보조ㆍ지원 대상 시설 및 장비를 국외로 이전한 경우보조ㆍ지원을 받은 사업주가 필요한 안전조치 및 보건조치 의무를 위반하여 산업재해를 발생시킨 경우로서 고용노동부령으로 정하는 경우제2항에 따라 보조ㆍ지원의 전부 또는 일부가 취소된 자에 대해서는 고용노동부령으로 정하는 바에 따라 취소된 날부터 3년 이내의 기간을 정하여 보조ㆍ지원을 하지 아니할 수 있다.거짓이나 그 밖의 부정한 방법으로 보조ㆍ지원을 받은 경우보조ㆍ지원 대상자가 폐업하거나 파산한 경우보조ㆍ지원 대상을 임의매각ㆍ훼손ㆍ분실하는 등 지원 목적에 적합하게 유지ㆍ관리ㆍ사용하지 아니한 경우제1항에 따른 산업재해 예방사업의 목적에 맞게 사용되지 아니한 경우보조ㆍ지원 대상 기간이 끝나기 전에 보조ㆍ지원 대상 시설 및 장비를 국외로 이전한 경우보조ㆍ지원을 받은 사업주가 필요한 안전조치 및 보건조치 의무를 위반하여 산업재해를 발생시킨 경우로서 고용노동부령으로 정하는 경우보조ㆍ지원의 대상ㆍ방법ㆍ절차, 관리 및 감독, 제2항 및 제3항에 따른 취소 및 환수 방법, 그 밖에 필요한 사항은 고용노동부장관이 정하여 고시한다.거짓이나 그 밖의 부정한 방법으로 보조ㆍ지원을 받은 경우보조ㆍ지원 대상자가 폐업하거나 파산한 경우보조ㆍ지원 대상을 임의매각ㆍ훼손ㆍ분실하는 등 지원 목적에 적합하게 유지ㆍ관리ㆍ사용하지 아니한 경우제1항에 따른 산업재해 예방사업의 목적에 맞게 사용되지 아니한 경우보조ㆍ지원 대상 기간이 끝나기 전에 보조ㆍ지원 대상 시설 및 장비를 국외로 이전한 경우보조ㆍ지원을 받은 사업주가 필요한 안전조치 및 보건조치 의무를 위반하여 산업재해를 발생시킨 경우로서 고용노동부령으로 정하는 경우\n",
      "\n",
      "137 조 0.11279177665710449 \n",
      "\n",
      "제137조(건강관리카드)고용노동부장관은 고용노동부령으로 정하는 건강장해가 발생할 우려가 있는 업무에 종사하였거나 종사하고 있는 사람 중 고용노동부령으로 정하는 요건을 갖춘 사람의 직업병 조기발견 및 지속적인 건강관리를 위하여 건강관리카드를 발급하여야 한다.건강관리카드를 발급받은 사람이 「산업재해보상보험법」 제41조에 따라 요양급여를 신청하는 경우에는 건강관리카드를 제출함으로써 해당 재해에 관한 의학적 소견을 적은 서류의 제출을 대신할 수 있다.건강관리카드를 발급받은 사람은 그 건강관리카드를 타인에게 양도하거나 대여해서는 아니 된다.건강관리카드를 발급받은 사람 중 제1항에 따라 건강관리카드를 발급받은 업무에 종사하지 아니하는 사람은 고용노동부령으로 정하는 바에 따라 특수건강진단에 준하는 건강진단을 받을 수 있다.건강관리카드의 서식, 발급 절차, 그 밖에 필요한 사항은 고용노동부령으로 정한다.\n",
      "\n",
      "156 조 0.11124684661626816 \n",
      "\n",
      "제156조(공단 소속 직원의 검사 및 지도 등)고용노동부장관은 제165조제2항에 따라 공단이 위탁받은 업무를 수행하기 위하여 필요하다고 인정할 때에는 공단 소속 직원에게 사업장에 출입하여 산업재해 예방에 필요한 검사 및 지도 등을 하게 하거나, 역학조사를 위하여 필요한 경우 관계자에게 질문하거나 필요한 서류의 제출을 요구하게 할 수 있다.제1항에 따라 공단 소속 직원이 검사 또는 지도업무 등을 하였을 때에는 그 결과를 고용노동부장관에게 보고하여야 한다.공단 소속 직원이 제1항에 따라 사업장에 출입하는 경우에는 제155조제4항을 준용한다. 이 경우 \"근로감독관\"은 \"공단 소속 직원\"으로 본다.\n",
      "\n",
      "010 조 0.09818617254495621 \n",
      "\n",
      "제10조(산업재해 발생건수 등의 공표)고용노동부장관은 산업재해를 예방하기 위하여 대통령령으로 정하는 사업장의 근로자 산업재해 발생건수, 재해율 또는 그 순위 등(이하 \"산업재해발생건수등\"이라 한다)을 공표하여야 한다.고용노동부장관은 도급인의 사업장(도급인이 제공하거나 지정한 경우로서 도급인이 지배ㆍ관리하는 대통령령으로 정하는 장소를 포함한다. 이하 같다) 중 대통령령으로 정하는 사업장에서 관계수급인 근로자가 작업을 하는 경우에 도급인의 산업재해발생건수등에 관계수급인의 산업재해발생건수등을 포함하여 제1항에 따라 공표하여야 한다.고용노동부장관은 제2항에 따라 산업재해발생건수등을 공표하기 위하여 도급인에게 관계수급인에 관한 자료의 제출을 요청할 수 있다. 이 경우 요청을 받은 자는 정당한 사유가 없으면 이에 따라야 한다.제1항 및 제2항에 따른 공표의 절차 및 방법, 그 밖에 필요한 사항은 고용노동부령으로 정한다.\n",
      "\n",
      "009 조 0.09112820774316788 \n",
      "\n",
      "제9조(산업재해 예방 통합정보시스템 구축ㆍ운영 등)고용노동부장관은 산업재해를 체계적이고 효율적으로 예방하기 위하여 산업재해 예방 통합정보시스템을 구축ㆍ운영할 수 있다.고용노동부장관은 제1항에 따른 산업재해 예방 통합정보시스템으로 처리한 산업 안전 및 보건 등에 관한 정보를 고용노동부령으로 정하는 바에 따라 관련 행정기관과 공단에 제공할 수 있다.제1항에 따른 산업재해 예방 통합정보시스템의 구축ㆍ운영, 그 밖에 필요한 사항은 대통령령으로 정한다.\n",
      "\n",
      "019 조 0.08189491182565689 \n",
      "\n",
      "제19조(안전보건관리담당자)사업주는 사업장에 안전 및 보건에 관하여 사업주를 보좌하고 관리감독자에게 지도ㆍ조언하는 업무를 수행하는 사람(이하 \"안전보건관리담당자\"라 한다)을 두어야 한다. 다만, 안전관리자 또는 보건관리자가 있거나 이를 두어야 하는 경우에는 그러하지 아니하다.안전보건관리담당자를 두어야 하는 사업의 종류와 사업장의 상시근로자 수, 안전보건관리담당자의 수ㆍ자격ㆍ업무ㆍ권한ㆍ선임방법, 그 밖에 필요한 사항은 대통령령으로 정한다.고용노동부장관은 산업재해 예방을 위하여 필요한 경우로서 고용노동부령으로 정하는 사유에 해당하는 경우에는 사업주에게 안전보건관리담당자를 제2항에 따라 대통령령으로 정하는 수 이상으로 늘리거나 교체할 것을 명할 수 있다.대통령령으로 정하는 사업의 종류 및 사업장의 상시근로자 수에 해당하는 사업장의 사업주는 안전관리전문기관 또는 보건관리전문기관에 안전보건관리담당자의 업무를 위탁할 수 있다.\n",
      "\n",
      "116 조 0.07420312613248825 \n",
      "\n",
      "제116조(물질안전보건자료와 관련된 자료의 제공) 고용노동부장관은 근로자의 안전 및 보건 유지를 위하여 필요하면 물질안전보건자료와 관련된 자료를 근로자 및 사업주에게 제공할 수 있다.\n",
      "\n"
     ]
    },
    {
     "name": "stderr",
     "output_type": "stream",
     "text": [
      "<ipython-input-62-17dd3531ad7e>:8: DeprecationWarning: Call to deprecated `docvecs` (The `docvecs` property has been renamed `dv`.).\n",
      "  return_docs = model.docvecs.most_similar(positive=[inferred_vector],topn=10)\n"
     ]
    }
   ],
   "source": [
    "model.random.seed(9999)\n",
    "\n",
    "doc_list = input().split(' ')\n",
    "\n",
    "# 특정 document를 입력받았을 때 그 document 단어와 유사도가 높은 조 순서대로 출력\n",
    "\n",
    "inferred_vector = model.infer_vector(doc_list)\n",
    "return_docs = model.docvecs.most_similar(positive=[inferred_vector],topn=10)\n",
    "for rd in return_docs:\n",
    "  for des in df_info[df_info['id'] == rd[0]]['조내용']:\n",
    "    print (rd[0][1:4],'조', rd[1], '\\n')\n",
    "    print(des)\n",
    "    print()"
   ]
  },
  {
   "cell_type": "code",
   "execution_count": 54,
   "metadata": {},
   "outputs": [],
   "source": [
    "# return_docs = model.docvecs.most_similar('0003001',topn=5)\n",
    "# for rd in return_docs:\n",
    "#   for des in df_info[df_info['id'] == rd[0]]['조내용']:\n",
    "#     print (rd[0][1:4],'조')\n",
    "#     #print()\n",
    "#     print(rd[1],'\\n')\n",
    "#     #print(des)\n",
    "#     #print()"
   ]
  },
  {
   "cell_type": "code",
   "execution_count": 61,
   "metadata": {},
   "outputs": [
    {
     "name": "stdout",
     "output_type": "stream",
     "text": [
      "조를 입력하세요: 24\n",
      "\n",
      "075조 0.635547935962677 \n",
      "\n",
      "079조 0.5589354634284973 \n",
      "\n",
      "045조 0.5360743403434753 \n",
      "\n",
      "025조 0.5335396528244019 \n",
      "\n",
      "044조 0.5310664176940918 \n",
      "\n",
      "062조 0.5230811834335327 \n",
      "\n",
      "035조 0.5123303532600403 \n",
      "\n",
      "017조 0.5092179775238037 \n",
      "\n",
      "023조 0.5071027874946594 \n",
      "\n",
      "106조 0.5062537789344788 \n",
      "\n"
     ]
    },
    {
     "name": "stderr",
     "output_type": "stream",
     "text": [
      "<ipython-input-61-14cc773853fa>:18: DeprecationWarning: Call to deprecated `docvecs` (The `docvecs` property has been renamed `dv`.).\n",
      "  return_docs = model.docvecs.most_similar(num, topn=10)\n"
     ]
    }
   ],
   "source": [
    "docs = input('조를 입력하세요: ')\n",
    "print()\n",
    "\n",
    "# 조문단위별 조문키는 xx조의 경우 00xx001의 형태로 이루어져 있으므로, 입력받은 조를 조문키의 형태로 변환한다.\n",
    "if len(str(docs)) == 1:\n",
    "    num = '000'+str(docs)+'001'\n",
    "elif len(str(docs)) == 2:\n",
    "    num = '00'+str(docs)+'001'\n",
    "elif len(str(docs)) == 3:\n",
    "    num = '0'+str(docs)+'001'\n",
    "elif len(str(docs)) == 4:\n",
    "    num = str(docs)+'001'\n",
    "else:\n",
    "    pass\n",
    "\n",
    "# 특정 조의 document들과 유사도가 높은 순서대로 조 출력\n",
    "\n",
    "return_docs = model.docvecs.most_similar(num, topn=10)\n",
    "for rd in return_docs:\n",
    "  for des in df_info[df_info['id'] == rd[0]]['조내용']:\n",
    "    print(rd[0][1:4]+'조', rd[1], '\\n')\n",
    "    #print()\n",
    "    #print(rd[1],'\\n')\n",
    "    #print(des)\n",
    "    #print()"
   ]
  },
  {
   "cell_type": "markdown",
   "metadata": {},
   "source": [
    "## cos_similarity 함수를 직접 생성하여 유사도 측정하기\n",
    "\n",
    "https://sosoeasy.tistory.com/325"
   ]
  },
  {
   "cell_type": "code",
   "execution_count": 17,
   "metadata": {},
   "outputs": [],
   "source": [
    "from gensim.models import Doc2Vec\n",
    "from numpy import dot\n",
    "from numpy.linalg import norm\n",
    "import numpy as np"
   ]
  },
  {
   "cell_type": "code",
   "execution_count": 18,
   "metadata": {},
   "outputs": [
    {
     "name": "stdout",
     "output_type": "stream",
     "text": [
      "0.03447021\n"
     ]
    }
   ],
   "source": [
    "def cos_sim(A, B):\n",
    "    return dot(A, B)/(norm(A)*norm(B))\n",
    "\n",
    "script=\"안녕하세요 첫번째 문장입니다 그럼이만\".split()\n",
    "scriptV=model.infer_vector(script)\n",
    "\n",
    "ppt=\"이것은 두번째 문장입니다 첫번째 문장과 유사도를 비교할껍니다\".split()\n",
    "pptV=model.infer_vector(ppt)\n",
    "\n",
    "print(cos_sim(scriptV,pptV))"
   ]
  },
  {
   "cell_type": "code",
   "execution_count": 19,
   "metadata": {},
   "outputs": [
    {
     "data": {
      "text/plain": [
       "<gensim.models.doc2vec.Doc2Vec at 0x28adbc6b0a0>"
      ]
     },
     "execution_count": 19,
     "metadata": {},
     "output_type": "execute_result"
    }
   ],
   "source": [
    "model"
   ]
  },
  {
   "cell_type": "code",
   "execution_count": 20,
   "metadata": {},
   "outputs": [
    {
     "data": {
      "text/html": [
       "<div>\n",
       "<style scoped>\n",
       "    .dataframe tbody tr th:only-of-type {\n",
       "        vertical-align: middle;\n",
       "    }\n",
       "\n",
       "    .dataframe tbody tr th {\n",
       "        vertical-align: top;\n",
       "    }\n",
       "\n",
       "    .dataframe thead th {\n",
       "        text-align: right;\n",
       "    }\n",
       "</style>\n",
       "<table border=\"1\" class=\"dataframe\">\n",
       "  <thead>\n",
       "    <tr style=\"text-align: right;\">\n",
       "      <th></th>\n",
       "      <th>id</th>\n",
       "      <th>조내용</th>\n",
       "      <th>Token</th>\n",
       "    </tr>\n",
       "  </thead>\n",
       "  <tbody>\n",
       "    <tr>\n",
       "      <th>0</th>\n",
       "      <td>0001001</td>\n",
       "      <td>제1조(목적) 이 법은 산업 안전 및 보건에 관한 기준을 확립하고 그 책임의 소재를...</td>\n",
       "      <td>[1조, 목적, 산업, 안전, 보건, 기준, 확립, 하고, 책임, 소재, 명확하다,...</td>\n",
       "    </tr>\n",
       "    <tr>\n",
       "      <th>1</th>\n",
       "      <td>0002001</td>\n",
       "      <td>제2조(정의) 이 법에서 사용하는 용어의 뜻은 다음과 같다. &lt;개정 2020.5.2...</td>\n",
       "      <td>[2조, 정의, 에서, 사용, 하다, 용어, 다음, 같다, 개정, 2020.5, 2...</td>\n",
       "    </tr>\n",
       "    <tr>\n",
       "      <th>2</th>\n",
       "      <td>0003001</td>\n",
       "      <td>제3조(적용 범위) 이 법은 모든 사업에 적용한다. 다만, 유해ㆍ위험의 정도, 사업...</td>\n",
       "      <td>[3조, 적용, 범위, 모든, 사업, 적용, 하다, 다만, 유해, 위험, 정도, 사...</td>\n",
       "    </tr>\n",
       "    <tr>\n",
       "      <th>3</th>\n",
       "      <td>0004001</td>\n",
       "      <td>제4조(정부의 책무)산업 안전 및 보건 정책의 수립 및 집행산업재해 예방 지원 및 ...</td>\n",
       "      <td>[4조, 정부, 책무, 산업, 안전, 보건, 정책, 수립, 집행, 산업, 재해, 예...</td>\n",
       "    </tr>\n",
       "    <tr>\n",
       "      <th>4</th>\n",
       "      <td>0005001</td>\n",
       "      <td>제5조(사업주 등의 의무)이 법과 이 법에 따른 명령으로 정하는 산업재해 예방을 위...</td>\n",
       "      <td>[5조, 업주, 의무, 따르다, 명령, 으로, 하다, 산업, 재해, 예방, 기준, ...</td>\n",
       "    </tr>\n",
       "    <tr>\n",
       "      <th>...</th>\n",
       "      <td>...</td>\n",
       "      <td>...</td>\n",
       "      <td>...</td>\n",
       "    </tr>\n",
       "    <tr>\n",
       "      <th>172</th>\n",
       "      <td>0171001</td>\n",
       "      <td>제171조(벌칙) 다음 각 호의 어느 하나에 해당하는 자는 1천만원 이하의 벌금에 ...</td>\n",
       "      <td>[171조, 벌칙, 다음, 호의, 어느, 하나, 해당, 하다, 자다, 1천만원, 이...</td>\n",
       "    </tr>\n",
       "    <tr>\n",
       "      <th>173</th>\n",
       "      <td>0172001</td>\n",
       "      <td>제172조(벌칙) 제64조제1항 또는 제2항을 위반한 자는 500만원 이하의 벌금에...</td>\n",
       "      <td>[172조, 벌칙, 64조, 또는, 위반, 자다, 500만원, 이하, 벌금, 하다]</td>\n",
       "    </tr>\n",
       "    <tr>\n",
       "      <th>174</th>\n",
       "      <td>0173001</td>\n",
       "      <td>제173조(양벌규정) 법인의 대표자나 법인 또는 개인의 대리인, 사용인, 그 밖의 ...</td>\n",
       "      <td>[173조, 규정, 법인, 대표자, 법인, 또는, 개인, 대리인, 사용, 종업원, ...</td>\n",
       "    </tr>\n",
       "    <tr>\n",
       "      <th>175</th>\n",
       "      <td>0174001</td>\n",
       "      <td>제174조(형벌과 수강명령 등의 병과)안전 및 보건에 관한 교육그 밖에 산업재해 예...</td>\n",
       "      <td>[174조, 형벌, 수강, 명령, 병과, 안전, 보건, 교육, 밖에, 산업, 재해,...</td>\n",
       "    </tr>\n",
       "    <tr>\n",
       "      <th>176</th>\n",
       "      <td>0175001</td>\n",
       "      <td>제175조(과태료)제119조제2항에 따라 기관석면조사를 하지 아니하고 건축물 또는 ...</td>\n",
       "      <td>[175조, 과태료, 119조, 따르다, 관석, 조사, 하다, 아니다, 건축물, 또...</td>\n",
       "    </tr>\n",
       "  </tbody>\n",
       "</table>\n",
       "<p>177 rows × 3 columns</p>\n",
       "</div>"
      ],
      "text/plain": [
       "          id                                                조내용  \\\n",
       "0    0001001  제1조(목적) 이 법은 산업 안전 및 보건에 관한 기준을 확립하고 그 책임의 소재를...   \n",
       "1    0002001  제2조(정의) 이 법에서 사용하는 용어의 뜻은 다음과 같다. <개정 2020.5.2...   \n",
       "2    0003001  제3조(적용 범위) 이 법은 모든 사업에 적용한다. 다만, 유해ㆍ위험의 정도, 사업...   \n",
       "3    0004001  제4조(정부의 책무)산업 안전 및 보건 정책의 수립 및 집행산업재해 예방 지원 및 ...   \n",
       "4    0005001  제5조(사업주 등의 의무)이 법과 이 법에 따른 명령으로 정하는 산업재해 예방을 위...   \n",
       "..       ...                                                ...   \n",
       "172  0171001  제171조(벌칙) 다음 각 호의 어느 하나에 해당하는 자는 1천만원 이하의 벌금에 ...   \n",
       "173  0172001  제172조(벌칙) 제64조제1항 또는 제2항을 위반한 자는 500만원 이하의 벌금에...   \n",
       "174  0173001  제173조(양벌규정) 법인의 대표자나 법인 또는 개인의 대리인, 사용인, 그 밖의 ...   \n",
       "175  0174001  제174조(형벌과 수강명령 등의 병과)안전 및 보건에 관한 교육그 밖에 산업재해 예...   \n",
       "176  0175001  제175조(과태료)제119조제2항에 따라 기관석면조사를 하지 아니하고 건축물 또는 ...   \n",
       "\n",
       "                                                 Token  \n",
       "0    [1조, 목적, 산업, 안전, 보건, 기준, 확립, 하고, 책임, 소재, 명확하다,...  \n",
       "1    [2조, 정의, 에서, 사용, 하다, 용어, 다음, 같다, 개정, 2020.5, 2...  \n",
       "2    [3조, 적용, 범위, 모든, 사업, 적용, 하다, 다만, 유해, 위험, 정도, 사...  \n",
       "3    [4조, 정부, 책무, 산업, 안전, 보건, 정책, 수립, 집행, 산업, 재해, 예...  \n",
       "4    [5조, 업주, 의무, 따르다, 명령, 으로, 하다, 산업, 재해, 예방, 기준, ...  \n",
       "..                                                 ...  \n",
       "172  [171조, 벌칙, 다음, 호의, 어느, 하나, 해당, 하다, 자다, 1천만원, 이...  \n",
       "173     [172조, 벌칙, 64조, 또는, 위반, 자다, 500만원, 이하, 벌금, 하다]  \n",
       "174  [173조, 규정, 법인, 대표자, 법인, 또는, 개인, 대리인, 사용, 종업원, ...  \n",
       "175  [174조, 형벌, 수강, 명령, 병과, 안전, 보건, 교육, 밖에, 산업, 재해,...  \n",
       "176  [175조, 과태료, 119조, 따르다, 관석, 조사, 하다, 아니다, 건축물, 또...  \n",
       "\n",
       "[177 rows x 3 columns]"
      ]
     },
     "execution_count": 20,
     "metadata": {},
     "output_type": "execute_result"
    }
   ],
   "source": [
    "df_info"
   ]
  },
  {
   "cell_type": "code",
   "execution_count": 21,
   "metadata": {},
   "outputs": [
    {
     "data": {
      "text/plain": [
       "'0001001'"
      ]
     },
     "execution_count": 21,
     "metadata": {},
     "output_type": "execute_result"
    }
   ],
   "source": [
    "df_info.iloc[0][0]"
   ]
  },
  {
   "cell_type": "code",
   "execution_count": 22,
   "metadata": {
    "scrolled": true
   },
   "outputs": [
    {
     "name": "stdout",
     "output_type": "stream",
     "text": [
      "조를 입력하세요: 8\n",
      "\n"
     ]
    }
   ],
   "source": [
    "docs = input('조를 입력하세요: ')\n",
    "print()\n",
    "\n",
    "# 조문단위별 조문키는 xx조의 경우 00xx001의 형태로 이루어져 있으므로, 입력받은 조를 조문키의 형태로 변환한다.\n",
    "if len(str(docs)) == 1:\n",
    "    num = '000'+str(docs)+'001'\n",
    "elif len(str(docs)) == 2:\n",
    "    num = '00'+str(docs)+'001'\n",
    "elif len(str(docs)) == 3:\n",
    "    num = '0'+str(docs)+'001'\n",
    "elif len(str(docs)) == 4:\n",
    "    num = str(docs)+'001'\n",
    "else:\n",
    "    pass"
   ]
  },
  {
   "cell_type": "code",
   "execution_count": 33,
   "metadata": {},
   "outputs": [
    {
     "data": {
      "text/html": [
       "<div>\n",
       "<style scoped>\n",
       "    .dataframe tbody tr th:only-of-type {\n",
       "        vertical-align: middle;\n",
       "    }\n",
       "\n",
       "    .dataframe tbody tr th {\n",
       "        vertical-align: top;\n",
       "    }\n",
       "\n",
       "    .dataframe thead th {\n",
       "        text-align: right;\n",
       "    }\n",
       "</style>\n",
       "<table border=\"1\" class=\"dataframe\">\n",
       "  <thead>\n",
       "    <tr style=\"text-align: right;\">\n",
       "      <th></th>\n",
       "      <th>cos_similarity</th>\n",
       "    </tr>\n",
       "  </thead>\n",
       "  <tbody>\n",
       "    <tr>\n",
       "      <th>제8조</th>\n",
       "      <td>0.964368</td>\n",
       "    </tr>\n",
       "    <tr>\n",
       "      <th>제159조</th>\n",
       "      <td>0.622326</td>\n",
       "    </tr>\n",
       "    <tr>\n",
       "      <th>제103조</th>\n",
       "      <td>0.609430</td>\n",
       "    </tr>\n",
       "    <tr>\n",
       "      <th>제155조</th>\n",
       "      <td>0.598897</td>\n",
       "    </tr>\n",
       "    <tr>\n",
       "      <th>제19조</th>\n",
       "      <td>0.575173</td>\n",
       "    </tr>\n",
       "    <tr>\n",
       "      <th>제36조</th>\n",
       "      <td>0.570831</td>\n",
       "    </tr>\n",
       "    <tr>\n",
       "      <th>제18조</th>\n",
       "      <td>0.569077</td>\n",
       "    </tr>\n",
       "    <tr>\n",
       "      <th>제109조</th>\n",
       "      <td>0.552928</td>\n",
       "    </tr>\n",
       "    <tr>\n",
       "      <th>제125조</th>\n",
       "      <td>0.546282</td>\n",
       "    </tr>\n",
       "    <tr>\n",
       "      <th>제157조</th>\n",
       "      <td>0.545847</td>\n",
       "    </tr>\n",
       "  </tbody>\n",
       "</table>\n",
       "</div>"
      ],
      "text/plain": [
       "       cos_similarity\n",
       "제8조          0.964368\n",
       "제159조        0.622326\n",
       "제103조        0.609430\n",
       "제155조        0.598897\n",
       "제19조         0.575173\n",
       "제36조         0.570831\n",
       "제18조         0.569077\n",
       "제109조        0.552928\n",
       "제125조        0.546282\n",
       "제157조        0.545847"
      ]
     },
     "execution_count": 33,
     "metadata": {},
     "output_type": "execute_result"
    }
   ],
   "source": [
    "for i in range(len(df_info['조내용'])):\n",
    "    if df_info.iloc[i][0] == num:\n",
    "        script = df_info.iloc[i][1].split()\n",
    "        scriptV = model.infer_vector(script)\n",
    "\n",
    "jo_ = []\n",
    "cos_ = []\n",
    "for j in df_info['조내용']:\n",
    "    ppt = j.split()\n",
    "    pptV = model.infer_vector(ppt)\n",
    "    \n",
    "    cos = cos_sim(scriptV,pptV)\n",
    "    cos_.append(cos)\n",
    "    \n",
    "    jo = j.split('(')[0]\n",
    "    jo_.append(jo)\n",
    "\n",
    "df_cos = pd.DataFrame({'cos_similarity':cos_}, index = jo_)\n",
    "df_cos_sort = df_cos.sort_values(by=['cos_similarity'], axis=0, ascending=False)\n",
    "df_cos_sort.head(10)"
   ]
  },
  {
   "cell_type": "code",
   "execution_count": 26,
   "metadata": {},
   "outputs": [
    {
     "data": {
      "text/plain": [
       "True"
      ]
     },
     "execution_count": 26,
     "metadata": {},
     "output_type": "execute_result"
    }
   ],
   "source": [
    "df_info['조내용'][7].split() == script"
   ]
  },
  {
   "cell_type": "code",
   "execution_count": 25,
   "metadata": {},
   "outputs": [],
   "source": [
    "# 실행할 때마다 cos_similarity 값이 왜 바뀔까 ????????????????????????????"
   ]
  }
 ],
 "metadata": {
  "kernelspec": {
   "display_name": "Python 3",
   "language": "python",
   "name": "python3"
  },
  "language_info": {
   "codemirror_mode": {
    "name": "ipython",
    "version": 3
   },
   "file_extension": ".py",
   "mimetype": "text/x-python",
   "name": "python",
   "nbconvert_exporter": "python",
   "pygments_lexer": "ipython3",
   "version": "3.8.3"
  }
 },
 "nbformat": 4,
 "nbformat_minor": 4
}
