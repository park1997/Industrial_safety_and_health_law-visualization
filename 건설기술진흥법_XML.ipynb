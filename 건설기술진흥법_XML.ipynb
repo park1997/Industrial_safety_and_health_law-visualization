{
 "cells": [
  {
   "cell_type": "code",
   "execution_count": 1,
   "metadata": {},
   "outputs": [],
   "source": [
    "import requests\n",
    "from urllib.request import urlopen\n",
    "from urllib.parse import urlencode,unquote,quote_plus\n",
    "import urllib\n",
    "import lxml\n",
    "import pandas as pd\n",
    "import numpy as np\n",
    "from bs4 import BeautifulSoup\n",
    "import re"
   ]
  },
  {
   "cell_type": "code",
   "execution_count": 2,
   "metadata": {},
   "outputs": [
    {
     "name": "stdout",
     "output_type": "stream",
     "text": [
      " http://www.law.go.kr/DRF/lawService.do?OC=bmsong&target=eflaw&MST=230163&type=XML\n"
     ]
    }
   ],
   "source": [
    "# 법령 XML 상세조회 (시행기준. target=eflaw)\n",
    "\n",
    "#기본 url\n",
    "url_base = \" http://www.law.go.kr/DRF/lawService.do\"\n",
    "\n",
    "#조회 url 세부 설정\n",
    "user_id = 'bmsong' #open API ID (bmsong@kau.ac.kr의 아이디 부분)\n",
    "target = \"eflaw\" #법령 조회시\n",
    "MST = \"230163\" #ID 또는 MST #건설기술진흥법 MST 230163\n",
    "#ID = \"001807\" \n",
    "            #ID 건설기술진흥법 법령ID 001807 (설명에는 ID로 조회하면 현행법령이 조회된다는데, \n",
    "            #target을 eflaw로 하면 ID로 요청해도, MST로 요청해도 같은 것 같다.\n",
    "Type = \"XML\" #출력 형태 : HTML 또는 XML\n",
    "\n",
    "url_sub = \"?\" +\\\n",
    "        \"OC=\" + user_id +\\\n",
    "        \"&target=\" + target +\\\n",
    "        \"&MST=\" + MST +\\\n",
    "        \"&type=\" + Type\n",
    "\n",
    "#최종 url\n",
    "url = url_base + url_sub\n",
    "\n",
    "print(url)\n",
    "\n",
    "response = requests.get(url)\n",
    "\n",
    "#(1) response.text 사용하는 방법\n",
    "#soup = BeautifulSoup(response.text.encode('utf-8'), 'lxml-xml') #lxml-xml -> lxml 추가 설치 필요(Beautifulsoup과 별도로 설치)\n",
    "\n",
    "#(2) response.content 사용하는 방법\n",
    "soup = BeautifulSoup(response.content, 'lxml-xml') #lxml-xml -> lxml 추가 설치 필요(Beautifulsoup과 별도로 설치)\n",
    "\n",
    "\n",
    "# soup"
   ]
  },
  {
   "cell_type": "code",
   "execution_count": 3,
   "metadata": {},
   "outputs": [
    {
     "data": {
      "text/html": [
       "<div>\n",
       "<style scoped>\n",
       "    .dataframe tbody tr th:only-of-type {\n",
       "        vertical-align: middle;\n",
       "    }\n",
       "\n",
       "    .dataframe tbody tr th {\n",
       "        vertical-align: top;\n",
       "    }\n",
       "\n",
       "    .dataframe thead th {\n",
       "        text-align: right;\n",
       "    }\n",
       "</style>\n",
       "<table border=\"1\" class=\"dataframe\">\n",
       "  <thead>\n",
       "    <tr style=\"text-align: right;\">\n",
       "      <th></th>\n",
       "      <th>법령ID</th>\n",
       "      <th>법종구분</th>\n",
       "      <th>법령명</th>\n",
       "      <th>시행일자</th>\n",
       "      <th>공포일자</th>\n",
       "      <th>소관부처</th>\n",
       "    </tr>\n",
       "  </thead>\n",
       "  <tbody>\n",
       "    <tr>\n",
       "      <th>0</th>\n",
       "      <td>001807</td>\n",
       "      <td>법률</td>\n",
       "      <td>건설기술 진흥법</td>\n",
       "      <td>20210617</td>\n",
       "      <td>20210316</td>\n",
       "      <td>국토교통부</td>\n",
       "    </tr>\n",
       "  </tbody>\n",
       "</table>\n",
       "</div>"
      ],
      "text/plain": [
       "     법령ID 법종구분       법령명      시행일자      공포일자   소관부처\n",
       "0  001807   법률  건설기술 진흥법  20210617  20210316  국토교통부"
      ]
     },
     "execution_count": 3,
     "metadata": {},
     "output_type": "execute_result"
    }
   ],
   "source": [
    "lc_basic_df = pd.DataFrame() #DataFrame for Law Content \n",
    "\n",
    "data = soup.find('법령ID') #MST 정보\n",
    "lc_basic_df['법령ID'] = [data.get_text()]\n",
    "\n",
    "data = soup.find('법종구분') \n",
    "lc_basic_df['법종구분']= [data.get_text()]\n",
    "\n",
    "data = soup.find('법령명_한글') \n",
    "lc_basic_df['법령명']= [data.get_text()]\n",
    "\n",
    "data = soup.find('시행일자')\n",
    "lc_basic_df['시행일자'] = [data.get_text()]\n",
    "\n",
    "data = soup.find('공포일자') \n",
    "lc_basic_df['공포일자']= [data.get_text()]\n",
    "\n",
    "data = soup.find('소관부처') \n",
    "lc_basic_df['소관부처']= [data.get_text()]\n",
    "\n",
    "lc_basic_df"
   ]
  }
 ],
 "metadata": {
  "kernelspec": {
   "display_name": "Python 3",
   "language": "python",
   "name": "python3"
  },
  "language_info": {
   "codemirror_mode": {
    "name": "ipython",
    "version": 3
   },
   "file_extension": ".py",
   "mimetype": "text/x-python",
   "name": "python",
   "nbconvert_exporter": "python",
   "pygments_lexer": "ipython3",
   "version": "3.8.5"
  }
 },
 "nbformat": 4,
 "nbformat_minor": 4
}
