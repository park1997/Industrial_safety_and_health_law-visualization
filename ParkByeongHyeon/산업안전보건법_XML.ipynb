{
 "cells": [
  {
   "cell_type": "code",
   "execution_count": 1,
   "metadata": {},
   "outputs": [],
   "source": [
    "import requests\n",
    "from urllib.request import urlopen\n",
    "from urllib.parse import urlencode,unquote,quote_plus\n",
    "import urllib\n",
    "import lxml\n",
    "import pandas as pd\n",
    "import numpy as np\n",
    "from bs4 import BeautifulSoup\n",
    "import re"
   ]
  },
  {
   "cell_type": "code",
   "execution_count": 2,
   "metadata": {},
   "outputs": [
    {
     "name": "stdout",
     "output_type": "stream",
     "text": [
      " http://www.law.go.kr/DRF/lawService.do?OC=bmsong&target=eflaw&MST=218289&type=XML\n"
     ]
    }
   ],
   "source": [
    "# 법령 XML 상세조회 (시행기준. target=eflaw)\n",
    "\n",
    "#기본 url\n",
    "url_base = \" http://www.law.go.kr/DRF/lawService.do\"\n",
    "\n",
    "#조회 url 세부 설정\n",
    "user_id = 'bmsong' #open API ID (bmsong@kau.ac.kr의 아이디 부분)\n",
    "target = \"eflaw\" #법령 조회시\n",
    "MST = \"218289\" #ID 또는 MST #산업안전보건법 MST 218289\n",
    "#ID = \"001766\" \n",
    "            #ID 산업안전보건법 법령ID 001766 (설명에는 ID로 조회하면 현행법령이 조회된다는데, \n",
    "            #target을 eflaw로 하면 ID로 요청해도, MST로 요청해도 같은 것 같다.\n",
    "Type = \"XML\" #출력 형태 : HTML 또는 XML\n",
    "\n",
    "url_sub = \"?\" +\\\n",
    "        \"OC=\" + user_id +\\\n",
    "        \"&target=\" + target +\\\n",
    "        \"&MST=\" + MST +\\\n",
    "        \"&type=\" + Type\n",
    "\n",
    "#최종 url\n",
    "url = url_base + url_sub\n",
    "\n",
    "print(url)\n",
    "\n",
    "response = requests.get(url)\n",
    "\n",
    "#(1) response.text 사용하는 방법\n",
    "#soup = BeautifulSoup(response.text.encode('utf-8'), 'lxml-xml') #lxml-xml -> lxml 추가 설치 필요(Beautifulsoup과 별도로 설치)\n",
    "\n",
    "#(2) response.content 사용하는 방법\n",
    "soup = BeautifulSoup(response.content, 'lxml-xml') #lxml-xml -> lxml 추가 설치 필요(Beautifulsoup과 별도로 설치)\n",
    "\n",
    "\n",
    "# soup"
   ]
  },
  {
   "cell_type": "code",
   "execution_count": 3,
   "metadata": {},
   "outputs": [
    {
     "ename": "AttributeError",
     "evalue": "'NoneType' object has no attribute 'get_text'",
     "output_type": "error",
     "traceback": [
      "\u001b[0;31m---------------------------------------------------------------------------\u001b[0m",
      "\u001b[0;31mAttributeError\u001b[0m                            Traceback (most recent call last)",
      "\u001b[0;32m<ipython-input-3-433e16d3edfc>\u001b[0m in \u001b[0;36m<module>\u001b[0;34m\u001b[0m\n\u001b[1;32m      2\u001b[0m \u001b[0;34m\u001b[0m\u001b[0m\n\u001b[1;32m      3\u001b[0m \u001b[0mdata\u001b[0m \u001b[0;34m=\u001b[0m \u001b[0msoup\u001b[0m\u001b[0;34m.\u001b[0m\u001b[0mfind\u001b[0m\u001b[0;34m(\u001b[0m\u001b[0;34m'법령ID'\u001b[0m\u001b[0;34m)\u001b[0m \u001b[0;31m#MST 정보\u001b[0m\u001b[0;34m\u001b[0m\u001b[0;34m\u001b[0m\u001b[0m\n\u001b[0;32m----> 4\u001b[0;31m \u001b[0mlc_basic_df\u001b[0m\u001b[0;34m[\u001b[0m\u001b[0;34m'법령ID'\u001b[0m\u001b[0;34m]\u001b[0m \u001b[0;34m=\u001b[0m \u001b[0;34m[\u001b[0m\u001b[0mdata\u001b[0m\u001b[0;34m.\u001b[0m\u001b[0mget_text\u001b[0m\u001b[0;34m(\u001b[0m\u001b[0;34m)\u001b[0m\u001b[0;34m]\u001b[0m\u001b[0;34m\u001b[0m\u001b[0;34m\u001b[0m\u001b[0m\n\u001b[0m\u001b[1;32m      5\u001b[0m \u001b[0;34m\u001b[0m\u001b[0m\n\u001b[1;32m      6\u001b[0m \u001b[0mdata\u001b[0m \u001b[0;34m=\u001b[0m \u001b[0msoup\u001b[0m\u001b[0;34m.\u001b[0m\u001b[0mfind\u001b[0m\u001b[0;34m(\u001b[0m\u001b[0;34m'법종구분'\u001b[0m\u001b[0;34m)\u001b[0m\u001b[0;34m\u001b[0m\u001b[0;34m\u001b[0m\u001b[0m\n",
      "\u001b[0;31mAttributeError\u001b[0m: 'NoneType' object has no attribute 'get_text'"
     ]
    }
   ],
   "source": [
    "lc_basic_df = pd.DataFrame() #DataFrame for Law Content \n",
    "\n",
    "data = soup.find('법령ID') #MST 정보\n",
    "lc_basic_df['법령ID'] = [data.get_text()]\n",
    "\n",
    "data = soup.find('법종구분') \n",
    "lc_basic_df['법종구분']= [data.get_text()]\n",
    "\n",
    "data = soup.find('법령명_한글') \n",
    "lc_basic_df['법령명']= [data.get_text()]\n",
    "\n",
    "data = soup.find('시행일자')\n",
    "lc_basic_df['시행일자'] = [data.get_text()]\n",
    "\n",
    "data = soup.find('공포일자') \n",
    "lc_basic_df['공포일자']= [data.get_text()]\n",
    "\n",
    "data = soup.find('소관부처') \n",
    "lc_basic_df['소관부처']= [data.get_text()]\n",
    "\n",
    "lc_basic_df"
   ]
  },
  {
   "cell_type": "code",
   "execution_count": null,
   "metadata": {},
   "outputs": [],
   "source": [
    "# data = soup.find_all('조문단위')\n",
    "# df_info = pd.DataFrame()\n",
    "# info = []\n",
    "# for i in data:\n",
    "#     detail = {}\n",
    "#     detail[\"index\"] = np.nan\n",
    "#     detail[\"조문제목\"] = np.nan\n",
    "#     detail[\"조문내용\"] = np.nan\n",
    "#     detail[\"항문내용\"] = np.nan\n",
    "#     detail[\"호문내용\"] = np.nan\n",
    "#     if i.find(\"조문여부\").get_text() == \"조문\":\n",
    "#         조문제목 = i.find(\"조문내용\").get_text().strip().split(\")\")[0]+\")\"\n",
    "#         detail[\"조문제목\"] = 조문제목\n",
    "#         if i.find(\"조문내용\"):\n",
    "#             조문내용 = i.find(\"조문내용\").get_text().strip()[len(조문제목):-1].strip()\n",
    "#             detail[\"조문내용\"] = 조문내용\n",
    "        \n",
    "#         df_info = df_info.append(detail,ignore_index = True)\n",
    "\n",
    "#         if i.find(\"항내용\"):\n",
    "#             for j in i.find_all(\"항내용\"):\n",
    "#                 detail[\"항문내용\"] = j.get_text().strip()\n",
    "#                 df_info = df_info.append(detail,ignore_index = True)\n",
    "#                 if i.find(\"호내용\"):\n",
    "#                     for k in i.find_all(\"호내용\"):\n",
    "#                         detail[\"호문내용\"] = k.get_text().strip()\n",
    "#                         df_info = df_info.append(detail,ignore_index = True)\n",
    "#                 detail[\"호문내용\"] = np.nan\n",
    "# df_info = df_info[[\"조문제목\",\"조문내용\",\"항문내용\",\"호문내용\"]]\n",
    "# df_info.head(30)"
   ]
  },
  {
   "cell_type": "code",
   "execution_count": null,
   "metadata": {},
   "outputs": [],
   "source": [
    "# data = soup.find_all('조문단위')\n",
    "# df_info = pd.DataFrame()\n",
    "# info = []\n",
    "# for i in data:\n",
    "#     detail = {}\n",
    "#     detail[\"index\"] = np.nan\n",
    "#     detail[\"조문제목\"] = np.nan\n",
    "#     detail[\"조문내용\"] = np.nan\n",
    "#     detail[\"항문내용\"] = np.nan\n",
    "#     detail[\"호문내용\"] = np.nan\n",
    "#     if i.find(\"조문여부\").get_text() == \"조문\":\n",
    "#         조문제목 = i.find(\"조문내용\").get_text().strip().split(\")\")[0]+\")\"\n",
    "#         detail[\"조문제목\"] = 조문제목\n",
    "#         if i.find(\"조문내용\"):\n",
    "#             조문내용 = i.find(\"조문내용\").get_text().strip()[len(조문제목):-1].strip()\n",
    "#             detail[\"조문내용\"] = 조문내용\n",
    "        \n",
    "#         df_info = df_info.append(detail,ignore_index = True)\n",
    "        \n",
    "#         if i.find(\"항\"):\n",
    "#             for j in i.find_all(\"항\"):\n",
    "#                 if j.find(\"항내용\"):\n",
    "#                     detail[\"항문내용\"] = j.항내용.get_text().strip()\n",
    "#                     df_info = df_info.append(detail,ignore_index = True)\n",
    "#                 if j.find(\"호내용\"):\n",
    "#                     for k in j.find_all(\"호내용\"):\n",
    "#                         detail[\"호문내용\"] = k.get_text().strip()\n",
    "#                         df_info = df_info.append(detail,ignore_index = True)\n",
    "#                 detail[\"호문내용\"] = np.nan\n",
    "# df_info = df_info[[\"조문제목\",\"조문내용\",\"항문내용\",\"호문내용\"]]\n",
    "# df_info"
   ]
  },
  {
   "cell_type": "code",
   "execution_count": null,
   "metadata": {
    "scrolled": true
   },
   "outputs": [],
   "source": [
    "data = soup.find_all('조문단위')\n",
    "df_info = pd.DataFrame()\n",
    "info = []\n",
    "for i in data:\n",
    "    info_str = \"\"\n",
    "    if i.find(\"조문여부\").get_text() == \"조문\":\n",
    "        info_str += i.조문내용.get_text().strip()\n",
    "        if i.항:\n",
    "            hang_nums = i.find_all(\"항번호\")\n",
    "            ho_nums = i.find_all(\"호번호\")\n",
    "            for idx, p in enumerate(i.find_all(\"호내용\")):\n",
    "                info_str += p.get_text().split(ho_nums[idx].get_text())[1].strip()\n",
    "            for hang_idx, k in enumerate(i.find_all(\"항내용\")):\n",
    "                info_str += k.get_text().strip().split(hang_nums[hang_idx].get_text())[1].strip()\n",
    "                for ho_idx ,j in enumerate(i.find_all(\"호내용\")):\n",
    "                    info_str += j.get_text().strip().split(ho_nums[ho_idx].get_text())[1].strip()\n",
    "        info.append(info_str)\n",
    "df_info[\"조내용\"] = info\n",
    "df_info"
   ]
  },
  {
   "cell_type": "code",
   "execution_count": null,
   "metadata": {},
   "outputs": [],
   "source": [
    "df_info.to_excel('산업안전보건법.xlsx',index = False)"
   ]
  },
  {
   "cell_type": "code",
   "execution_count": 5,
   "metadata": {},
   "outputs": [],
   "source": [
    "df_info = pd.read_excel(\"산업안전보건법.xlsx\")"
   ]
  },
  {
   "cell_type": "markdown",
   "metadata": {},
   "source": [
    "# NLP(자연어 처리)\n",
    "\n",
    "\n",
    "\n",
    "https://konlpy-ko.readthedocs.io/ko/v0.4.4/install/#id1\n",
    "\n",
    "(konlpy를 사용하기위한 패키지를 다운받는 매뉴얼 입니다)\n"
   ]
  },
  {
   "cell_type": "code",
   "execution_count": 6,
   "metadata": {},
   "outputs": [
    {
     "data": {
      "text/plain": [
       "0      제1조(목적) 이 법은 산업 안전 및 보건에 관한 기준을 확립하고 그 책임의 소재를...\n",
       "1      제2조(정의) 이 법에서 사용하는 용어의 뜻은 다음과 같다. <개정 2020.5.2...\n",
       "2      제3조(적용 범위) 이 법은 모든 사업에 적용한다. 다만, 유해ㆍ위험의 정도, 사업...\n",
       "3      제4조(정부의 책무)산업 안전 및 보건 정책의 수립 및 집행산업재해 예방 지원 및 ...\n",
       "4      제5조(사업주 등의 의무)이 법과 이 법에 따른 명령으로 정하는 산업재해 예방을 위...\n",
       "                             ...                        \n",
       "172    제171조(벌칙) 다음 각 호의 어느 하나에 해당하는 자는 1천만원 이하의 벌금에 ...\n",
       "173    제172조(벌칙) 제64조제1항 또는 제2항을 위반한 자는 500만원 이하의 벌금에...\n",
       "174    제173조(양벌규정) 법인의 대표자나 법인 또는 개인의 대리인, 사용인, 그 밖의 ...\n",
       "175    제174조(형벌과 수강명령 등의 병과)안전 및 보건에 관한 교육그 밖에 산업재해 예...\n",
       "176    제175조(과태료)제119조제2항에 따라 기관석면조사를 하지 아니하고 건축물 또는 ...\n",
       "Name: 조내용, Length: 177, dtype: object"
      ]
     },
     "execution_count": 6,
     "metadata": {},
     "output_type": "execute_result"
    }
   ],
   "source": [
    "posts = df_info.get(\"조내용\")\n",
    "posts"
   ]
  },
  {
   "cell_type": "code",
   "execution_count": 7,
   "metadata": {},
   "outputs": [],
   "source": [
    "from konlpy.tag import Mecab\n",
    "tagger = Mecab()"
   ]
  },
  {
   "cell_type": "code",
   "execution_count": 8,
   "metadata": {},
   "outputs": [
    {
     "data": {
      "text/html": [
       "<div>\n",
       "<style scoped>\n",
       "    .dataframe tbody tr th:only-of-type {\n",
       "        vertical-align: middle;\n",
       "    }\n",
       "\n",
       "    .dataframe tbody tr th {\n",
       "        vertical-align: top;\n",
       "    }\n",
       "\n",
       "    .dataframe thead th {\n",
       "        text-align: right;\n",
       "    }\n",
       "</style>\n",
       "<table border=\"1\" class=\"dataframe\">\n",
       "  <thead>\n",
       "    <tr style=\"text-align: right;\">\n",
       "      <th></th>\n",
       "      <th>불용어</th>\n",
       "    </tr>\n",
       "  </thead>\n",
       "  <tbody>\n",
       "    <tr>\n",
       "      <th>0</th>\n",
       "      <td>아</td>\n",
       "    </tr>\n",
       "    <tr>\n",
       "      <th>1</th>\n",
       "      <td>휴</td>\n",
       "    </tr>\n",
       "    <tr>\n",
       "      <th>2</th>\n",
       "      <td>아이구</td>\n",
       "    </tr>\n",
       "    <tr>\n",
       "      <th>3</th>\n",
       "      <td>아이쿠</td>\n",
       "    </tr>\n",
       "    <tr>\n",
       "      <th>4</th>\n",
       "      <td>아이고</td>\n",
       "    </tr>\n",
       "    <tr>\n",
       "      <th>...</th>\n",
       "      <td>...</td>\n",
       "    </tr>\n",
       "    <tr>\n",
       "      <th>674</th>\n",
       "      <td>영</td>\n",
       "    </tr>\n",
       "    <tr>\n",
       "      <th>675</th>\n",
       "      <td>조</td>\n",
       "    </tr>\n",
       "    <tr>\n",
       "      <th>676</th>\n",
       "      <td>항</td>\n",
       "    </tr>\n",
       "    <tr>\n",
       "      <th>677</th>\n",
       "      <td>등</td>\n",
       "    </tr>\n",
       "    <tr>\n",
       "      <th>678</th>\n",
       "      <td>이</td>\n",
       "    </tr>\n",
       "  </tbody>\n",
       "</table>\n",
       "<p>679 rows × 1 columns</p>\n",
       "</div>"
      ],
      "text/plain": [
       "     불용어\n",
       "0      아\n",
       "1      휴\n",
       "2    아이구\n",
       "3    아이쿠\n",
       "4    아이고\n",
       "..   ...\n",
       "674    영\n",
       "675    조\n",
       "676    항\n",
       "677    등\n",
       "678    이\n",
       "\n",
       "[679 rows x 1 columns]"
      ]
     },
     "execution_count": 8,
     "metadata": {},
     "output_type": "execute_result"
    }
   ],
   "source": [
    "# 불용어 리스트\n",
    "# 불용어, 불필요 단어 제거\n",
    "stop_words_df = pd.read_excel(\"stopwords.xlsx\")\n",
    "stop_words_df"
   ]
  },
  {
   "cell_type": "code",
   "execution_count": 9,
   "metadata": {},
   "outputs": [
    {
     "data": {
      "text/plain": [
       "['목적', '법', '산업', '안전', '보건', '기준', '확립', '책임', '소재', '산업']"
      ]
     },
     "execution_count": 9,
     "metadata": {},
     "output_type": "execute_result"
    }
   ],
   "source": [
    "# 명사부분 추출\n",
    "nouns = []\n",
    "for post in posts:\n",
    "    for noun in tagger.nouns(post):\n",
    "        if noun not in list(stop_words_df.get(\"불용어\")):\n",
    "            nouns.append(noun)\n",
    "nouns[0:10]"
   ]
  },
  {
   "cell_type": "code",
   "execution_count": 10,
   "metadata": {},
   "outputs": [
    {
     "data": {
      "text/plain": [
       "[('제', 'XPN'),\n",
       " ('1', 'SN'),\n",
       " ('조', 'NNG'),\n",
       " ('(', 'SSO'),\n",
       " ('목적', 'NNG'),\n",
       " (')', 'SSC'),\n",
       " ('이', 'JKS'),\n",
       " ('법', 'NNG'),\n",
       " ('은', 'JX'),\n",
       " ('산업', 'NNG')]"
      ]
     },
     "execution_count": 10,
     "metadata": {},
     "output_type": "execute_result"
    }
   ],
   "source": [
    "words = []\n",
    "for post in posts:\n",
    "    words.extend(tagger.pos(post))\n",
    "words[0:10]"
   ]
  },
  {
   "cell_type": "code",
   "execution_count": 11,
   "metadata": {},
   "outputs": [
    {
     "data": {
      "text/plain": [
       "['하다', '의하다', '인하다', '걸리다', '정하다', '하다', '맡기다', '받다', '받다', '받다']"
      ]
     },
     "execution_count": 11,
     "metadata": {},
     "output_type": "execute_result"
    }
   ],
   "source": [
    "# 동사 추출\n",
    "verbs=[]\n",
    "for word in words:\n",
    "    if word[1]=='VV':\n",
    "        verbs.append(word[0]+'다')\n",
    "verbs[0:10]"
   ]
  },
  {
   "cell_type": "code",
   "execution_count": 12,
   "metadata": {},
   "outputs": [
    {
     "data": {
      "text/plain": [
       "['같다', '심하다', '있다', '없다', '같다', '같다', '같다', '같다', '같다', '없다']"
      ]
     },
     "execution_count": 12,
     "metadata": {},
     "output_type": "execute_result"
    }
   ],
   "source": [
    "# 형용사 추출\n",
    "adjective=[]\n",
    "for word in words:\n",
    "    if word[1]=='VA':\n",
    "        adjective.append(word[0]+'다')\n",
    "adjective[0:10]"
   ]
  },
  {
   "cell_type": "code",
   "execution_count": 13,
   "metadata": {
    "scrolled": true
   },
   "outputs": [
    {
     "data": {
      "text/plain": [
       "{'조제': 1533,\n",
       " '안전': 1016,\n",
       " '경우': 907,\n",
       " '보건': 671,\n",
       " '고용': 571,\n",
       " '자제': 446,\n",
       " '물질': 420,\n",
       " '호': 398,\n",
       " '위반': 382,\n",
       " '근로자': 353,\n",
       " '해당': 353,\n",
       " '사항': 347,\n",
       " '작업': 342,\n",
       " '기관': 320,\n",
       " '노동': 302,\n",
       " '부령': 301,\n",
       " '장관': 262,\n",
       " '노동부': 261,\n",
       " '밖': 255,\n",
       " '자료': 255}"
      ]
     },
     "execution_count": 13,
     "metadata": {},
     "output_type": "execute_result"
    }
   ],
   "source": [
    "# 가장많이 나오는 명사 상위 20개\n",
    "from collections import Counter\n",
    "num_top_nouns = 20\n",
    "nouns_counter = Counter(nouns)\n",
    "top_nouns = dict(nouns_counter.most_common(num_top_nouns))\n",
    "top_nouns\n",
    "# print(len(counted_nouns))"
   ]
  },
  {
   "cell_type": "code",
   "execution_count": 15,
   "metadata": {
    "scrolled": true
   },
   "outputs": [
    {
     "name": "stdout",
     "output_type": "stream",
     "text": [
      "Requirement already satisfied: wordcloud in /opt/anaconda3/lib/python3.8/site-packages (1.8.1)\r\n",
      "Requirement already satisfied: matplotlib in /opt/anaconda3/lib/python3.8/site-packages (from wordcloud) (3.3.2)\r\n",
      "Requirement already satisfied: numpy>=1.6.1 in /opt/anaconda3/lib/python3.8/site-packages (from wordcloud) (1.19.2)\r\n",
      "Requirement already satisfied: pillow in /opt/anaconda3/lib/python3.8/site-packages (from wordcloud) (8.0.1)\r\n",
      "Requirement already satisfied: python-dateutil>=2.1 in /opt/anaconda3/lib/python3.8/site-packages (from matplotlib->wordcloud) (2.8.1)\r\n",
      "Requirement already satisfied: pyparsing!=2.0.4,!=2.1.2,!=2.1.6,>=2.0.3 in /opt/anaconda3/lib/python3.8/site-packages (from matplotlib->wordcloud) (2.4.7)\r\n",
      "Requirement already satisfied: cycler>=0.10 in /opt/anaconda3/lib/python3.8/site-packages (from matplotlib->wordcloud) (0.10.0)\r\n",
      "Requirement already satisfied: kiwisolver>=1.0.1 in /opt/anaconda3/lib/python3.8/site-packages (from matplotlib->wordcloud) (1.3.0)\r\n",
      "Requirement already satisfied: certifi>=2020.06.20 in /opt/anaconda3/lib/python3.8/site-packages (from matplotlib->wordcloud) (2021.5.30)\r\n",
      "Requirement already satisfied: six>=1.5 in /opt/anaconda3/lib/python3.8/site-packages (from python-dateutil>=2.1->matplotlib->wordcloud) (1.15.0)\r\n"
     ]
    }
   ],
   "source": [
    "!pip install wordcloud"
   ]
  },
  {
   "cell_type": "code",
   "execution_count": 16,
   "metadata": {},
   "outputs": [
    {
     "data": {
      "text/plain": [
       "<wordcloud.wordcloud.WordCloud at 0x7fb72a5e6040>"
      ]
     },
     "execution_count": 16,
     "metadata": {},
     "output_type": "execute_result"
    }
   ],
   "source": [
    "from wordcloud import WordCloud\n",
    "wc = WordCloud(background_color=\"white\", font_path='./font/NanumBarunGothic.ttf')\n",
    "wc.generate_from_frequencies(top_nouns)"
   ]
  },
  {
   "cell_type": "code",
   "execution_count": 17,
   "metadata": {},
   "outputs": [
    {
     "data": {
      "text/plain": [
       "<matplotlib.image.AxesImage at 0x7fb72b2c5370>"
      ]
     },
     "execution_count": 17,
     "metadata": {},
     "output_type": "execute_result"
    },
    {
     "data": {
      "image/png": "[encoded data removed]",
      "text/plain": [
       "<Figure size 720x720 with 1 Axes>"
      ]
     },
     "metadata": {
      "needs_background": "light"
     },
     "output_type": "display_data"
    }
   ],
   "source": [
    "# 많이 나타나는 단어일수록 크게 나타남\n",
    "import matplotlib.pyplot as plt\n",
    "figure = plt.figure()\n",
    "figure.set_size_inches(10, 10)\n",
    "ax = figure.add_subplot(1, 1, 1)\n",
    "ax.axis(\"off\")\n",
    "ax.imshow(wc)"
   ]
  },
  {
   "cell_type": "markdown",
   "metadata": {},
   "source": [
    "# TfidfVectorizer\n",
    "\n",
    " TF(Term Frequency) : 특정 단어가 하나의 데이터 안에서 등장하는 횟수\n",
    "\n",
    "DF(Document Frequency) : 특정 단어가 여러 데이터에 자주 등장하는지를 알려주는 지표.\n",
    "\n",
    "IDF(Inverse Document Frequency) : DF에 역수를 취해(inverse) 구함\n",
    "\n",
    "TF-IDF : TF와 IDF를 곱한 값. 즉 TF가 높고, DF가 낮을수록 값이 커지는 것을 이용하는 것입니다.\n",
    "\n",
    "해당 단위(문장) 안에서는 많이 등장하지만, 다른 문서들까지 전체에서는 적게 사용될수록, 분별력 있는 특징이란 것입니다."
   ]
  },
  {
   "cell_type": "code",
   "execution_count": 18,
   "metadata": {},
   "outputs": [
    {
     "data": {
      "text/plain": [
       "array([[0.        , 0.        , 0.        , ..., 0.        , 0.        ,\n",
       "        0.        ],\n",
       "       [0.        , 0.        , 0.76749457, ..., 0.        , 0.        ,\n",
       "        0.45329466],\n",
       "       [0.        , 0.        , 0.        , ..., 0.        , 0.        ,\n",
       "        0.        ],\n",
       "       ...,\n",
       "       [0.62791376, 0.        , 0.        , ..., 0.        , 0.        ,\n",
       "        0.77828292],\n",
       "       [0.        , 0.        , 0.        , ..., 0.        , 0.        ,\n",
       "        0.        ],\n",
       "       [0.        , 0.        , 0.45450839, ..., 0.        , 0.        ,\n",
       "        0.61665743]])"
      ]
     },
     "execution_count": 18,
     "metadata": {},
     "output_type": "execute_result"
    }
   ],
   "source": [
    "# 자주 등장한 명사 20 개 기준\n",
    "# 각 단어별로 연관성이 계산됨\n",
    "from sklearn.feature_extraction.text import TfidfVectorizer\n",
    "tfidv = TfidfVectorizer(sublinear_tf = True).fit(top_nouns)\n",
    "tfidv.transform(posts).toarray()"
   ]
  },
  {
   "cell_type": "code",
   "execution_count": 19,
   "metadata": {},
   "outputs": [
    {
     "data": {
      "text/html": [
       "<div>\n",
       "<style scoped>\n",
       "    .dataframe tbody tr th:only-of-type {\n",
       "        vertical-align: middle;\n",
       "    }\n",
       "\n",
       "    .dataframe tbody tr th {\n",
       "        vertical-align: top;\n",
       "    }\n",
       "\n",
       "    .dataframe thead th {\n",
       "        text-align: right;\n",
       "    }\n",
       "</style>\n",
       "<table border=\"1\" class=\"dataframe\">\n",
       "  <thead>\n",
       "    <tr style=\"text-align: right;\">\n",
       "      <th></th>\n",
       "      <th>0</th>\n",
       "      <th>1</th>\n",
       "      <th>2</th>\n",
       "      <th>3</th>\n",
       "      <th>4</th>\n",
       "      <th>5</th>\n",
       "      <th>6</th>\n",
       "      <th>7</th>\n",
       "      <th>8</th>\n",
       "      <th>9</th>\n",
       "      <th>10</th>\n",
       "      <th>11</th>\n",
       "      <th>12</th>\n",
       "      <th>13</th>\n",
       "      <th>14</th>\n",
       "      <th>15</th>\n",
       "      <th>16</th>\n",
       "      <th>17</th>\n",
       "    </tr>\n",
       "  </thead>\n",
       "  <tbody>\n",
       "    <tr>\n",
       "      <th>0</th>\n",
       "      <td>0.000000</td>\n",
       "      <td>0.0</td>\n",
       "      <td>0.000000</td>\n",
       "      <td>0.0</td>\n",
       "      <td>0.0</td>\n",
       "      <td>0.0</td>\n",
       "      <td>0.0</td>\n",
       "      <td>0.000000</td>\n",
       "      <td>0.0</td>\n",
       "      <td>0.000000</td>\n",
       "      <td>1.000000</td>\n",
       "      <td>0.0</td>\n",
       "      <td>0.000000</td>\n",
       "      <td>0.0</td>\n",
       "      <td>0.000000</td>\n",
       "      <td>0.0</td>\n",
       "      <td>0.0</td>\n",
       "      <td>0.000000</td>\n",
       "    </tr>\n",
       "    <tr>\n",
       "      <th>1</th>\n",
       "      <td>0.000000</td>\n",
       "      <td>0.0</td>\n",
       "      <td>0.767495</td>\n",
       "      <td>0.0</td>\n",
       "      <td>0.0</td>\n",
       "      <td>0.0</td>\n",
       "      <td>0.0</td>\n",
       "      <td>0.000000</td>\n",
       "      <td>0.0</td>\n",
       "      <td>0.000000</td>\n",
       "      <td>0.000000</td>\n",
       "      <td>0.0</td>\n",
       "      <td>0.000000</td>\n",
       "      <td>0.0</td>\n",
       "      <td>0.453295</td>\n",
       "      <td>0.0</td>\n",
       "      <td>0.0</td>\n",
       "      <td>0.453295</td>\n",
       "    </tr>\n",
       "    <tr>\n",
       "      <th>2</th>\n",
       "      <td>0.000000</td>\n",
       "      <td>0.0</td>\n",
       "      <td>0.000000</td>\n",
       "      <td>0.0</td>\n",
       "      <td>0.0</td>\n",
       "      <td>0.0</td>\n",
       "      <td>0.0</td>\n",
       "      <td>0.000000</td>\n",
       "      <td>0.0</td>\n",
       "      <td>0.000000</td>\n",
       "      <td>0.000000</td>\n",
       "      <td>0.0</td>\n",
       "      <td>0.000000</td>\n",
       "      <td>0.0</td>\n",
       "      <td>0.000000</td>\n",
       "      <td>0.0</td>\n",
       "      <td>0.0</td>\n",
       "      <td>0.000000</td>\n",
       "    </tr>\n",
       "    <tr>\n",
       "      <th>3</th>\n",
       "      <td>0.000000</td>\n",
       "      <td>0.0</td>\n",
       "      <td>0.000000</td>\n",
       "      <td>0.0</td>\n",
       "      <td>0.0</td>\n",
       "      <td>0.0</td>\n",
       "      <td>0.0</td>\n",
       "      <td>0.634925</td>\n",
       "      <td>0.0</td>\n",
       "      <td>0.000000</td>\n",
       "      <td>0.772574</td>\n",
       "      <td>0.0</td>\n",
       "      <td>0.000000</td>\n",
       "      <td>0.0</td>\n",
       "      <td>0.000000</td>\n",
       "      <td>0.0</td>\n",
       "      <td>0.0</td>\n",
       "      <td>0.000000</td>\n",
       "    </tr>\n",
       "    <tr>\n",
       "      <th>4</th>\n",
       "      <td>0.000000</td>\n",
       "      <td>0.0</td>\n",
       "      <td>0.386495</td>\n",
       "      <td>0.0</td>\n",
       "      <td>0.0</td>\n",
       "      <td>0.0</td>\n",
       "      <td>0.0</td>\n",
       "      <td>0.000000</td>\n",
       "      <td>0.0</td>\n",
       "      <td>0.000000</td>\n",
       "      <td>0.922291</td>\n",
       "      <td>0.0</td>\n",
       "      <td>0.000000</td>\n",
       "      <td>0.0</td>\n",
       "      <td>0.000000</td>\n",
       "      <td>0.0</td>\n",
       "      <td>0.0</td>\n",
       "      <td>0.000000</td>\n",
       "    </tr>\n",
       "    <tr>\n",
       "      <th>...</th>\n",
       "      <td>...</td>\n",
       "      <td>...</td>\n",
       "      <td>...</td>\n",
       "      <td>...</td>\n",
       "      <td>...</td>\n",
       "      <td>...</td>\n",
       "      <td>...</td>\n",
       "      <td>...</td>\n",
       "      <td>...</td>\n",
       "      <td>...</td>\n",
       "      <td>...</td>\n",
       "      <td>...</td>\n",
       "      <td>...</td>\n",
       "      <td>...</td>\n",
       "      <td>...</td>\n",
       "      <td>...</td>\n",
       "      <td>...</td>\n",
       "      <td>...</td>\n",
       "    </tr>\n",
       "    <tr>\n",
       "      <th>172</th>\n",
       "      <td>0.000000</td>\n",
       "      <td>0.0</td>\n",
       "      <td>0.000000</td>\n",
       "      <td>0.0</td>\n",
       "      <td>0.0</td>\n",
       "      <td>0.0</td>\n",
       "      <td>0.0</td>\n",
       "      <td>0.000000</td>\n",
       "      <td>0.0</td>\n",
       "      <td>0.000000</td>\n",
       "      <td>0.000000</td>\n",
       "      <td>0.0</td>\n",
       "      <td>0.000000</td>\n",
       "      <td>0.0</td>\n",
       "      <td>0.000000</td>\n",
       "      <td>0.0</td>\n",
       "      <td>0.0</td>\n",
       "      <td>1.000000</td>\n",
       "    </tr>\n",
       "    <tr>\n",
       "      <th>173</th>\n",
       "      <td>0.000000</td>\n",
       "      <td>0.0</td>\n",
       "      <td>0.000000</td>\n",
       "      <td>0.0</td>\n",
       "      <td>0.0</td>\n",
       "      <td>0.0</td>\n",
       "      <td>0.0</td>\n",
       "      <td>0.000000</td>\n",
       "      <td>0.0</td>\n",
       "      <td>0.000000</td>\n",
       "      <td>0.000000</td>\n",
       "      <td>0.0</td>\n",
       "      <td>0.000000</td>\n",
       "      <td>0.0</td>\n",
       "      <td>0.000000</td>\n",
       "      <td>0.0</td>\n",
       "      <td>0.0</td>\n",
       "      <td>0.000000</td>\n",
       "    </tr>\n",
       "    <tr>\n",
       "      <th>174</th>\n",
       "      <td>0.627914</td>\n",
       "      <td>0.0</td>\n",
       "      <td>0.000000</td>\n",
       "      <td>0.0</td>\n",
       "      <td>0.0</td>\n",
       "      <td>0.0</td>\n",
       "      <td>0.0</td>\n",
       "      <td>0.000000</td>\n",
       "      <td>0.0</td>\n",
       "      <td>0.000000</td>\n",
       "      <td>0.000000</td>\n",
       "      <td>0.0</td>\n",
       "      <td>0.000000</td>\n",
       "      <td>0.0</td>\n",
       "      <td>0.000000</td>\n",
       "      <td>0.0</td>\n",
       "      <td>0.0</td>\n",
       "      <td>0.778283</td>\n",
       "    </tr>\n",
       "    <tr>\n",
       "      <th>175</th>\n",
       "      <td>0.000000</td>\n",
       "      <td>0.0</td>\n",
       "      <td>0.000000</td>\n",
       "      <td>0.0</td>\n",
       "      <td>0.0</td>\n",
       "      <td>0.0</td>\n",
       "      <td>0.0</td>\n",
       "      <td>0.000000</td>\n",
       "      <td>0.0</td>\n",
       "      <td>0.498305</td>\n",
       "      <td>0.867002</td>\n",
       "      <td>0.0</td>\n",
       "      <td>0.000000</td>\n",
       "      <td>0.0</td>\n",
       "      <td>0.000000</td>\n",
       "      <td>0.0</td>\n",
       "      <td>0.0</td>\n",
       "      <td>0.000000</td>\n",
       "    </tr>\n",
       "    <tr>\n",
       "      <th>176</th>\n",
       "      <td>0.000000</td>\n",
       "      <td>0.0</td>\n",
       "      <td>0.454508</td>\n",
       "      <td>0.0</td>\n",
       "      <td>0.0</td>\n",
       "      <td>0.0</td>\n",
       "      <td>0.0</td>\n",
       "      <td>0.000000</td>\n",
       "      <td>0.0</td>\n",
       "      <td>0.000000</td>\n",
       "      <td>0.454508</td>\n",
       "      <td>0.0</td>\n",
       "      <td>0.454508</td>\n",
       "      <td>0.0</td>\n",
       "      <td>0.000000</td>\n",
       "      <td>0.0</td>\n",
       "      <td>0.0</td>\n",
       "      <td>0.616657</td>\n",
       "    </tr>\n",
       "  </tbody>\n",
       "</table>\n",
       "<p>177 rows × 18 columns</p>\n",
       "</div>"
      ],
      "text/plain": [
       "           0    1         2    3    4    5    6         7    8         9   \\\n",
       "0    0.000000  0.0  0.000000  0.0  0.0  0.0  0.0  0.000000  0.0  0.000000   \n",
       "1    0.000000  0.0  0.767495  0.0  0.0  0.0  0.0  0.000000  0.0  0.000000   \n",
       "2    0.000000  0.0  0.000000  0.0  0.0  0.0  0.0  0.000000  0.0  0.000000   \n",
       "3    0.000000  0.0  0.000000  0.0  0.0  0.0  0.0  0.634925  0.0  0.000000   \n",
       "4    0.000000  0.0  0.386495  0.0  0.0  0.0  0.0  0.000000  0.0  0.000000   \n",
       "..        ...  ...       ...  ...  ...  ...  ...       ...  ...       ...   \n",
       "172  0.000000  0.0  0.000000  0.0  0.0  0.0  0.0  0.000000  0.0  0.000000   \n",
       "173  0.000000  0.0  0.000000  0.0  0.0  0.0  0.0  0.000000  0.0  0.000000   \n",
       "174  0.627914  0.0  0.000000  0.0  0.0  0.0  0.0  0.000000  0.0  0.000000   \n",
       "175  0.000000  0.0  0.000000  0.0  0.0  0.0  0.0  0.000000  0.0  0.498305   \n",
       "176  0.000000  0.0  0.454508  0.0  0.0  0.0  0.0  0.000000  0.0  0.000000   \n",
       "\n",
       "           10   11        12   13        14   15   16        17  \n",
       "0    1.000000  0.0  0.000000  0.0  0.000000  0.0  0.0  0.000000  \n",
       "1    0.000000  0.0  0.000000  0.0  0.453295  0.0  0.0  0.453295  \n",
       "2    0.000000  0.0  0.000000  0.0  0.000000  0.0  0.0  0.000000  \n",
       "3    0.772574  0.0  0.000000  0.0  0.000000  0.0  0.0  0.000000  \n",
       "4    0.922291  0.0  0.000000  0.0  0.000000  0.0  0.0  0.000000  \n",
       "..        ...  ...       ...  ...       ...  ...  ...       ...  \n",
       "172  0.000000  0.0  0.000000  0.0  0.000000  0.0  0.0  1.000000  \n",
       "173  0.000000  0.0  0.000000  0.0  0.000000  0.0  0.0  0.000000  \n",
       "174  0.000000  0.0  0.000000  0.0  0.000000  0.0  0.0  0.778283  \n",
       "175  0.867002  0.0  0.000000  0.0  0.000000  0.0  0.0  0.000000  \n",
       "176  0.454508  0.0  0.454508  0.0  0.000000  0.0  0.0  0.616657  \n",
       "\n",
       "[177 rows x 18 columns]"
      ]
     },
     "execution_count": 19,
     "metadata": {},
     "output_type": "execute_result"
    }
   ],
   "source": [
    "# 아예 등장하지 않는다면 0,\n",
    "# 그 이외에는 실수값이 크다면 그 단어가 보다 가치있는 특징이라는 것\n",
    "# 작다면 그다지 가치가 없다고 판단이 가능\n",
    "pd.DataFrame(tfidv.transform(posts).toarray())"
   ]
  },
  {
   "cell_type": "code",
   "execution_count": null,
   "metadata": {},
   "outputs": [],
   "source": [
    "tfidf_vectorizer = TfidfVectorizer()\n",
    "tfidf_vectorizer.fit(posts)\n",
    "sorted(tfidf_vectorizer.vocabulary_.items())"
   ]
  },
  {
   "cell_type": "code",
   "execution_count": null,
   "metadata": {},
   "outputs": [],
   "source": [
    "tfidfv = TfidfVectorizer().fit_transform(posts)\n",
    "tfidfv.toarray()"
   ]
  },
  {
   "cell_type": "code",
   "execution_count": null,
   "metadata": {},
   "outputs": [],
   "source": [
    "from konlpy.tag import Okt\n",
    "okt = Okt()\n",
    "\n",
    "oo = okt.pos(posts[0],\n",
    "        norm=True,   # 정규화(normalization)\n",
    "        stem=True    # 어간추출(stemming)\n",
    "        )\n",
    "print(oo)"
   ]
  },
  {
   "cell_type": "code",
   "execution_count": null,
   "metadata": {},
   "outputs": [],
   "source": [
    "def tokenizer_1(raw_texts, pos=[\"Noun\",\"Alpha\",\"Verb\",\"Number\"], stopword=list(stop_words_df.get(\"불용어\"))):\n",
    "    p = okt.pos(raw_texts, \n",
    "            norm=True,   # 정규화(normalization)\n",
    "            stem=True    # 어간추출(stemming)\n",
    "            )\n",
    "    o = [word for word, tag in p if len(word) > 1 and tag in pos and word not in stopword]\n",
    "    \n",
    "    return(o)\n",
    "\n",
    "tokenizer(posts[0])"
   ]
  },
  {
   "cell_type": "code",
   "execution_count": null,
   "metadata": {},
   "outputs": [],
   "source": [
    "def tokenizer_2(post):\n",
    "    nouns = []\n",
    "  \n",
    "    for noun in tagger.nouns(post):\n",
    "        if noun not in list(stop_words_df.get(\"불용어\")):\n",
    "            nouns.append(noun)\n",
    "    return nouns\n",
    "\n",
    "tokenizer_1(posts[0])"
   ]
  },
  {
   "cell_type": "code",
   "execution_count": null,
   "metadata": {},
   "outputs": [],
   "source": [
    "from sklearn.feature_extraction.text import TfidfVectorizer\n",
    "\n",
    "vectorize = TfidfVectorizer(\n",
    "    tokenizer=tokenizer_2, # 문장에 대한 tokenizer (위에 정의한 함수 이용)\n",
    "    min_df=1,            # 단어가 출현하는 최소 문서의 개수\n",
    "    sublinear_tf=True    # tf값에 1+log(tf)를 적용하여 tf값이 무한정 커지는 것을 막음\n",
    ")\n",
    "\n",
    "X = vectorize.fit_transform(posts)\n",
    "X.toarray() "
   ]
  },
  {
   "cell_type": "code",
   "execution_count": null,
   "metadata": {},
   "outputs": [],
   "source": [
    "from sklearn.metrics.pairwise import cosine_similarity\n",
    "from sklearn.metrics.pairwise import euclidean_distances\n",
    "# 2번째와 3번째 문서(코사인 값)\n",
    "print(euclidean_distances(X[1], X[2]))#, X)\n",
    "#[[1.27771711]]\n",
    "print(cosine_similarity(X[1], X[2]))#, X)\n",
    "# [[0.1837195]]"
   ]
  },
  {
   "cell_type": "markdown",
   "metadata": {},
   "source": [
    "# Euclidean Distance(Tfid)"
   ]
  },
  {
   "cell_type": "code",
   "execution_count": null,
   "metadata": {},
   "outputs": [],
   "source": [
    "# 모든 조에 해당하는 euclidean distance 를 계산\n",
    "euclidean_result = []\n",
    "for x in range(len(df_info)):\n",
    "    tmp = []\n",
    "    for y in range(len(df_info)):\n",
    "        tmp.append(euclidean_distances(X[x], X[y])[0][0])\n",
    "    euclidean_result.append(tmp)\n",
    "# euclidean_result"
   ]
  },
  {
   "cell_type": "code",
   "execution_count": null,
   "metadata": {},
   "outputs": [],
   "source": [
    "# 모든 조에 해당하는 euclidean distance 결과 값을\n",
    "# DataFrame 형태로 변환\n",
    "euclidean_result_df = pd.DataFrame(euclidean_result)\n",
    "euclidean_result_df"
   ]
  },
  {
   "cell_type": "code",
   "execution_count": null,
   "metadata": {},
   "outputs": [],
   "source": [
    "import matplotlib.pyplot as plt\n",
    "import seaborn as sns\n",
    "x = [i for i in range(len(df_info))]\n",
    "jo = 8\n",
    "y_euclidean = euclidean_result_df.get(jo-1)\n",
    "# y = euclidean_result_df.loc[2]\n",
    "\n",
    "# 2조와 다른 조들 간의euclidean distance 분포 시각화\n",
    "sns.relplot(x,y_euclidean)\n",
    "plt.show()\n"
   ]
  },
  {
   "cell_type": "code",
   "execution_count": null,
   "metadata": {
    "scrolled": false
   },
   "outputs": [],
   "source": [
    "# euclidean distance 값으로 \n",
    "# 8조와 가장 비슷한 조를 찾기위한 과정\n",
    "y_euclidean = euclidean_result_df[jo-1]\n",
    "dic = {}\n",
    "for i in range(len(y_euclidean)):\n",
    "    dic[i+1] = y_euclidean[i]\n",
    "#8조와 비슷한 조 찾기 위함\n",
    "# euclidean distance 를 dic에 씌워 sorting 함(1부터 10위까지)\n",
    "sorted(dic.items(), key=lambda x: x[1])[0:10]"
   ]
  },
  {
   "cell_type": "markdown",
   "metadata": {},
   "source": [
    "# Cosine Similarity(Tfid)"
   ]
  },
  {
   "cell_type": "code",
   "execution_count": null,
   "metadata": {},
   "outputs": [],
   "source": [
    "cosine_result = []\n",
    "for x in range(len(df_info)):\n",
    "    tmp = []\n",
    "    for y in range(len(df_info)):\n",
    "        tmp.append(cosine_similarity(X[x], X[y])[0][0])\n",
    "    cosine_result.append(tmp)"
   ]
  },
  {
   "cell_type": "code",
   "execution_count": null,
   "metadata": {},
   "outputs": [],
   "source": [
    "# 모든 조에 해당하는 cosine similarity 결과 값을\n",
    "# DataFrame 형태로 변환\n",
    "cosine_result_df = pd.DataFrame(cosine_result)\n",
    "cosine_result_df"
   ]
  },
  {
   "cell_type": "code",
   "execution_count": null,
   "metadata": {
    "scrolled": true
   },
   "outputs": [],
   "source": [
    "x = [i for i in range(len(df_info))]\n",
    "y_cosine = cosine_result_df[jo-1]\n",
    "# y = euclidean_result_df.loc[2]\n",
    "\n",
    "# 8조와 다른 조들 간의 cosine simiarity 분포 시각화\n",
    "sns.relplot(x,y_cosine)\n",
    "plt.show()"
   ]
  },
  {
   "cell_type": "code",
   "execution_count": null,
   "metadata": {
    "scrolled": true
   },
   "outputs": [],
   "source": [
    "# cosine similarity 값으로 \n",
    "# 8조와 가장 비슷한 조를 찾기위한 과정\n",
    "y_cosine = cosine_result_df[jo-1]\n",
    "dic ={}\n",
    "for i in range(len(y_cosine)):\n",
    "    dic[i+1] = y_cosine[i]\n",
    "#8조와 비슷한 조 찾기 위함\n",
    "# euclidean distance 를 dic에 씌워 sorting 함(1부터 10위까지)\n",
    "sorted(dic.items(), key=lambda x: x[1], reverse = True)[0:10]\n",
    "\n",
    "# euclidean distance 를 이용한 값과 일치한 값이 도출됨\n",
    "# [(8, 0.0),\n",
    "#  (7, 1.24014661136316),\n",
    "#  (141, 1.2404008803838469),\n",
    "#  (12, 1.242192005734461),\n",
    "#  (9, 1.248024204789678),\n",
    "#  (159, 1.2549777162393492),\n",
    "#  (10, 1.2556130803061363),\n",
    "#  (18, 1.2615386170299787),\n",
    "#  (17, 1.2726151189310564),\n",
    "#  (103, 1.286027722244149)]"
   ]
  },
  {
   "cell_type": "markdown",
   "metadata": {},
   "source": [
    "# CountVectorizer(Tfid)\n",
    "가장 단순한 특징으로, 텍스트에서 단위별 등장횟수를 카운팅하여 수치벡터화 하는 것\n",
    "\n",
    "단위는 문서 단위, 문장 단위, 단어 단위... 가 될 수 있음\n",
    "\n",
    "가장 많이 사용되는 것은 단어단위의 카운팅"
   ]
  },
  {
   "cell_type": "code",
   "execution_count": null,
   "metadata": {},
   "outputs": [],
   "source": [
    "# 빈도높은 상위 20개 명사들로 CountVectorizing\n",
    "from sklearn.feature_extraction.text import CountVectorizer\n",
    "countv = CountVectorizer().fit(top_nouns)\n",
    "countv.transform(posts).toarray()\n",
    "top_nouns"
   ]
  },
  {
   "cell_type": "code",
   "execution_count": null,
   "metadata": {},
   "outputs": [],
   "source": [
    "pd.DataFrame(countv.transform(posts).toarray())"
   ]
  },
  {
   "cell_type": "code",
   "execution_count": null,
   "metadata": {},
   "outputs": [],
   "source": [
    "from sklearn.feature_extraction.text import CountVectorizer\n",
    "countv = CountVectorizer(stop_words = list(stop_words_df.get(\"불용어\")))\n",
    "sp_mat = countv.fit_transform(posts)\n",
    "# 희소행렬을 np array로\n",
    "sp_mat.toarray()"
   ]
  },
  {
   "cell_type": "code",
   "execution_count": null,
   "metadata": {},
   "outputs": [],
   "source": [
    "# 단어: 정수인덱스로 구성된 딕셔너리\n",
    "countv.vocabulary_"
   ]
  },
  {
   "cell_type": "code",
   "execution_count": null,
   "metadata": {},
   "outputs": [],
   "source": [
    "pd.DataFrame(countv.transform(posts).toarray())"
   ]
  },
  {
   "cell_type": "code",
   "execution_count": null,
   "metadata": {},
   "outputs": [],
   "source": [
    "vectorize = CountVectorizer(\n",
    "    tokenizer=tokenizer, # 문장에 대한 tokenizer (위에 정의한 함수 이용)\n",
    "    min_df=1,            # 단어가 출현하는 최소 문서의 개수\n",
    ")\n",
    "\n",
    "X = vectorize.fit_transform(posts)\n",
    "X.toarray() "
   ]
  },
  {
   "cell_type": "code",
   "execution_count": null,
   "metadata": {},
   "outputs": [],
   "source": [
    "# 2번째와 3번째 문서(코사인 값)\n",
    "print(euclidean_distances(X[1], X[2]))#, X)\n",
    "\n",
    "print(cosine_similarity(X[1], X[2]))#, X)"
   ]
  },
  {
   "cell_type": "markdown",
   "metadata": {},
   "source": [
    "# Euclidean Distance(CountVectorizer)"
   ]
  },
  {
   "cell_type": "code",
   "execution_count": null,
   "metadata": {},
   "outputs": [],
   "source": [
    "# 모든 조에 해당하는 euclidean distance 를 계산\n",
    "euclidean_result = []\n",
    "for x in range(len(df_info)):\n",
    "    tmp = []\n",
    "    for y in range(len(df_info)):\n",
    "        tmp.append(euclidean_distances(X[x], X[y])[0][0])\n",
    "    euclidean_result.append(tmp)\n",
    "# euclidean_result"
   ]
  },
  {
   "cell_type": "code",
   "execution_count": null,
   "metadata": {},
   "outputs": [],
   "source": [
    "# 모든 조에 해당하는 euclidean distance 결과 값을\n",
    "# DataFrame 형태로 변환\n",
    "euclidean_result_df = pd.DataFrame(euclidean_result)\n",
    "euclidean_result_df"
   ]
  },
  {
   "cell_type": "code",
   "execution_count": null,
   "metadata": {},
   "outputs": [],
   "source": [
    "x = [i for i in range(len(df_info))]\n",
    "jo = 8\n",
    "y_euclidean = euclidean_result_df[jo-1]\n",
    "# y = euclidean_result_df.loc[2]\n",
    "\n",
    "# 8조와 다른 조들 간의euclidean distance 분포 시각화\n",
    "sns.relplot(x,y_euclidean)\n",
    "plt.ylim(0, 200)\n",
    "plt.show()"
   ]
  },
  {
   "cell_type": "code",
   "execution_count": null,
   "metadata": {},
   "outputs": [],
   "source": [
    "# euclidean distance 값으로 \n",
    "# 8조와 가장 비슷한 조를 찾기위한 과정\n",
    "y_euclidean = euclidean_result_df[jo-1]\n",
    "dic = {}\n",
    "for i in range(len(y_euclidean)):\n",
    "    dic[i+1] = y_euclidean[i]\n",
    "#8조와 비슷한 조 찾기 위함\n",
    "# euclidean distance 를 dic에 씌워 sorting 함(1부터 10위까지)\n",
    "sorted(dic.items(), key=lambda x: x[1])[0:10]"
   ]
  },
  {
   "cell_type": "markdown",
   "metadata": {},
   "source": [
    "# Cosine Similarity(CountVectorizer)"
   ]
  },
  {
   "cell_type": "code",
   "execution_count": null,
   "metadata": {},
   "outputs": [],
   "source": [
    "cosine_result = []\n",
    "for x in range(len(df_info)):\n",
    "    tmp = []\n",
    "    for y in range(len(df_info)):\n",
    "        tmp.append(cosine_similarity(X[x], X[y])[0][0])\n",
    "    cosine_result.append(tmp)"
   ]
  },
  {
   "cell_type": "code",
   "execution_count": null,
   "metadata": {},
   "outputs": [],
   "source": [
    "# 모든 조에 해당하는 cosine similarity 결과 값을\n",
    "# DataFrame 형태로 변환\n",
    "cosine_result_df = pd.DataFrame(cosine_result)\n",
    "cosine_result_df"
   ]
  },
  {
   "cell_type": "code",
   "execution_count": null,
   "metadata": {},
   "outputs": [],
   "source": [
    "x = [i for i in range(len(df_info))]\n",
    "y_cosine = cosine_result_df[jo-1]\n",
    "# y = euclidean_result_df.loc[2]\n",
    "\n",
    "# 2조와 다른 조들 간의 cosine simiarity 분포 시각화\n",
    "sns.relplot(x,y_cosine)\n",
    "plt.show()"
   ]
  },
  {
   "cell_type": "code",
   "execution_count": null,
   "metadata": {},
   "outputs": [],
   "source": [
    "# cosine similarity 값으로 \n",
    "# 8조와 가장 비슷한 조를 찾기위한 과정\n",
    "y_cosine = cosine_result_df[jo-1]\n",
    "dic ={}\n",
    "for i in range(len(y_cosine)):\n",
    "    dic[i+1] = y_cosine[i]\n",
    "#8조와 비슷한 조 찾기 위함\n",
    "# euclidean distance 를 dic에 씌워 sorting 함(1부터 10위까지)\n",
    "sorted(dic.items(), key=lambda x: x[1], reverse = True)[0:10]\n",
    "\n",
    "# euclidean distance 를 이용한 값과 약간 상이한 도출됨\n",
    "# [(8, 0.0),\n",
    "#  (13, 47.148700936505136),\n",
    "#  (10, 48.41487374764082),\n",
    "#  (141, 49.54795656734998),\n",
    "#  (5, 50.0199960015992),\n",
    "#  (159, 50.44799302251776),\n",
    "#  (18, 50.695167422546305),\n",
    "#  (132, 50.84289527554464),\n",
    "#  (17, 51.146847410177685),\n",
    "#  (36, 51.18593556827891)]"
   ]
  },
  {
   "cell_type": "markdown",
   "metadata": {},
   "source": [
    "# SNA\n",
    "\n",
    "사회 연결망 분석(SNA) : 분석대상(node, vortex)이 서로 어떻게 관계(tie, edge)를 맺고 연\n",
    "결망(network)을 구성하는가를 분석\n",
    "\n",
    "사회연결망 분석 -> 의미 연결망분석(Semantic Network Analysis)\n",
    "* 일정 범위 내 동시출현(co-accurrence)어휘는 서로 연결된 것으로 간주.\n",
    "분석단위 : 문자, 현태소, 단어, 합성어, 구\n",
    "동시출현 범위 : 구, 절, 문장, 단락, 문단, 장 , 기사, 문서전체\n",
    "\n",
    "의미연결망 분석의 인지적 전제\n",
    "* 두 개 이상의 단어가 서로 가까운 거리에서 배치되어 동시에 출현한다면 그 단어들은 서로 밀접하게 연결되어 의미를 발생한다고 간주.\n",
    "\n",
    "빈도 분석 vs 의미 연결망 분석\n",
    "* 특정 단어가 텍스트에서 얼마나 자주 출현하는가를 단순히 계산하기보다, 어떤 단어들이 서로 인접해서 출현하는가가 텍스트의 의미를 더 정교하게 포착한다.\n",
    "\n",
    " \n",
    "\n"
   ]
  }
 ],
 "metadata": {
  "kernelspec": {
   "display_name": "Python 3",
   "language": "python",
   "name": "python3"
  },
  "language_info": {
   "codemirror_mode": {
    "name": "ipython",
    "version": 3
   },
   "file_extension": ".py",
   "mimetype": "text/x-python",
   "name": "python",
   "nbconvert_exporter": "python",
   "pygments_lexer": "ipython3",
   "version": "3.8.5"
  }
 },
 "nbformat": 4,
 "nbformat_minor": 4
}
