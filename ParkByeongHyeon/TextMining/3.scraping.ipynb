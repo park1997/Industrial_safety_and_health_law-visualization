{
 "cells": [
  {
   "cell_type": "code",
   "execution_count": 1,
   "metadata": {},
   "outputs": [],
   "source": [
    "import re\n",
    "import json\n",
    "import math\n",
    "import requests\n",
    "import urllib.request\n",
    "import urllib.error\n",
    "import urllib.parse\n",
    "from bs4 import BeautifulSoup\n",
    "import pandas as pd"
   ]
  },
  {
   "cell_type": "code",
   "execution_count": 2,
   "metadata": {},
   "outputs": [],
   "source": [
    "naver_client_id = \"Tukkp4Hr2ocHXZ4agkh4\"\n",
    "naver_client_secret = \"fi9h_VvymG\""
   ]
  },
  {
   "cell_type": "code",
   "execution_count": 3,
   "metadata": {},
   "outputs": [],
   "source": [
    "def get_blog_count(query, display):\n",
    "    encode_query = urllib.parse.quote(query)\n",
    "    search_url = \"https://openapi.naver.com/v1/search/blog?query=\" + encode_query\n",
    "    request = urllib.request.Request(search_url)\n",
    "\n",
    "    request.add_header(\"X-Naver-Client-Id\", naver_client_id)\n",
    "    request.add_header(\"X-Naver-Client-Secret\", naver_client_secret)\n",
    "\n",
    "    response = urllib.request.urlopen(request)\n",
    "    response_code = response.getcode()\n",
    "\n",
    "    if response_code is 200:\n",
    "        response_body = response.read()\n",
    "        response_body_dict = json.loads(response_body.decode('utf-8'))\n",
    "\n",
    "        print(\"Last build date: \" + str(response_body_dict['lastBuildDate']))\n",
    "        print(\"Total: \" + str(response_body_dict['total']))\n",
    "        print(\"Start: \" + str(response_body_dict['start']))\n",
    "        print(\"Display: \" + str(response_body_dict['display']))\n",
    "\n",
    "        if response_body_dict['total'] == 0:\n",
    "            blog_count = 0\n",
    "        else:\n",
    "            blog_total = math.ceil(response_body_dict['total'] / int(display))\n",
    "\n",
    "            if blog_total >= 1000:\n",
    "                blog_count = 1000\n",
    "            else:\n",
    "                blog_count = blog_total\n",
    "\n",
    "            print(\"Blog total: \" + str(blog_total))\n",
    "            print(\"Blog count: \" + str(blog_count))\n",
    "\n",
    "        return blog_count"
   ]
  },
  {
   "cell_type": "code",
   "execution_count": 4,
   "metadata": {},
   "outputs": [],
   "source": [
    "def get_blog_post(query, display, start_index, sort):\n",
    "    global no, df\n",
    "    \n",
    "    encode_query = urllib.parse.quote(query)\n",
    "    search_url = \"https://openapi.naver.com/v1/search/blog?query=\" + encode_query + \"&display=\" + str(display) + \"&start=\" + str(start_index) + \"&sort=\" + sort\n",
    "\n",
    "    request = urllib.request.Request(search_url)\n",
    "\n",
    "    request.add_header(\"X-Naver-Client-Id\", naver_client_id)\n",
    "    request.add_header(\"X-Naver-Client-Secret\", naver_client_secret)\n",
    "\n",
    "    response = urllib.request.urlopen(request)\n",
    "    response_code = response.getcode()\n",
    "\n",
    "    if response_code is 200:\n",
    "        response_body = response.read()\n",
    "        response_body_dict = json.loads(response_body.decode('utf-8'))\n",
    "        for item_index in range(0, len(response_body_dict['items'])):\n",
    "            try:\n",
    "                remove_html_tag = re.compile('<.*?>')\n",
    "                title = re.sub(remove_html_tag, '', response_body_dict['items'][item_index]['title'])\n",
    "                link = response_body_dict['items'][item_index]['link'].replace(\"amp;\", \"\")\n",
    "                description = re.sub(remove_html_tag, '', response_body_dict['items'][item_index]['description'])\n",
    "                blogger_name = response_body_dict['items'][item_index]['bloggername']\n",
    "                blogger_link = response_body_dict['items'][item_index]['bloggerlink']\n",
    "                post_date = response_body_dict['items'][item_index]['postdate']\n",
    "\n",
    "                no += 1\n",
    "                post_code = requests.get(link)\n",
    "                post_text = post_code.text\n",
    "                post_soup = BeautifulSoup(post_text, 'lxml')\n",
    "\n",
    "                blog_post_content_text = \"\"\n",
    "                for mainFrame in post_soup.select('iframe#mainFrame'):\n",
    "                    blog_post_url = \"http://blog.naver.com\" + mainFrame.get('src')\n",
    "                    blog_post_code = requests.get(blog_post_url)\n",
    "                    blog_post_text = blog_post_code.text\n",
    "                    blog_post_soup = BeautifulSoup(blog_post_text, 'lxml')\n",
    "                    \n",
    "                    for blog_post_content in blog_post_soup.find_all('div', class_='se-viewer'):\n",
    "                        blog_post_content_text = blog_post_content.get_text()\n",
    "                        \n",
    "                    for blog_post_content in blog_post_soup.find_all('div', class_='se_doc_viewer'):\n",
    "                        blog_post_content_text = blog_post_content.get_text()\n",
    " \n",
    "                    for blog_post_content in blog_post_soup.select('div#postViewArea'):\n",
    "                        blog_post_content_text = blog_post_content.get_text()\n",
    "\n",
    "                df.loc[no] = [title, link, description, blogger_name, blogger_link, post_date, blog_post_content_text]\n",
    "                print(\"#\", end='')\n",
    "                \n",
    "            except:\n",
    "                item_index += 1"
   ]
  },
  {
   "cell_type": "code",
   "execution_count": 5,
   "metadata": {},
   "outputs": [
    {
     "name": "stdout",
     "output_type": "stream",
     "text": [
      "Last build date: Thu, 04 Jul 2019 17:48:06 +0900\n",
      "Total: 6125909\n",
      "Start: 1\n",
      "Display: 10\n",
      "Blog total: 612591\n",
      "Blog count: 1000\n"
     ]
    }
   ],
   "source": [
    "no = 0                 # 몇개의 포스트를 저장하였는지 세기 위한 index\n",
    "query = \"스마트폰\"   # 검색을 원하는 문자열로서 UTF-8로 인코딩한다.\n",
    "display = 10           # 검색 결과 출력 건수 지정, 10(기본값),100(최대)\n",
    "start = 1              # 검색 시작 위치로 최대 1000까지 가능\n",
    "sort = \"sim\"           # 정렬 옵션: sim(유사도순, 기본값), date(날짜순)\n",
    "\n",
    "# 블로그를 DataFrame에 저장\n",
    "df = pd.DataFrame(columns=(\"Title\", \"Link\", \"Description\", \"Blogger Name\", \"Blogger Link\", \"Post Date\", \"Post Contents\"))\n",
    "\n",
    "blog_count = get_blog_count(query, display)\n",
    "for start_index in range(start, blog_count + 1, display):\n",
    "    get_blog_post(query, display, start_index, sort)\n",
    "\n",
    "df.to_csv(\"./data/smartphone.csv\", header=True, index=False)"
   ]
  },
  {
   "cell_type": "code",
   "execution_count": null,
   "metadata": {},
   "outputs": [],
   "source": []
  }
 ],
 "metadata": {
  "kernelspec": {
   "display_name": "Python 3",
   "language": "python",
   "name": "python3"
  },
  "language_info": {
   "codemirror_mode": {
    "name": "ipython",
    "version": 3
   },
   "file_extension": ".py",
   "mimetype": "text/x-python",
   "name": "python",
   "nbconvert_exporter": "python",
   "pygments_lexer": "ipython3",
   "version": "3.6.4"
  }
 },
 "nbformat": 4,
 "nbformat_minor": 2
}
