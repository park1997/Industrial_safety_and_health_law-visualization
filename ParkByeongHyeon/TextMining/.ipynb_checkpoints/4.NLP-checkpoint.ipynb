{
 "cells": [
  {
   "cell_type": "code",
   "execution_count": 1,
   "metadata": {},
   "outputs": [
    {
     "data": {
      "text/html": [
       "<div>\n",
       "<style scoped>\n",
       "    .dataframe tbody tr th:only-of-type {\n",
       "        vertical-align: middle;\n",
       "    }\n",
       "\n",
       "    .dataframe tbody tr th {\n",
       "        vertical-align: top;\n",
       "    }\n",
       "\n",
       "    .dataframe thead th {\n",
       "        text-align: right;\n",
       "    }\n",
       "</style>\n",
       "<table border=\"1\" class=\"dataframe\">\n",
       "  <thead>\n",
       "    <tr style=\"text-align: right;\">\n",
       "      <th></th>\n",
       "      <th>number</th>\n",
       "      <th>firm</th>\n",
       "      <th>publishing</th>\n",
       "      <th>country</th>\n",
       "      <th>text</th>\n",
       "      <th>Unnamed: 5</th>\n",
       "      <th>Unnamed: 6</th>\n",
       "      <th>Unnamed: 7</th>\n",
       "      <th>Unnamed: 8</th>\n",
       "      <th>Unnamed: 9</th>\n",
       "      <th>...</th>\n",
       "      <th>Unnamed: 450</th>\n",
       "      <th>Unnamed: 451</th>\n",
       "      <th>Unnamed: 452</th>\n",
       "      <th>Unnamed: 453</th>\n",
       "      <th>Unnamed: 454</th>\n",
       "      <th>Unnamed: 455</th>\n",
       "      <th>Unnamed: 456</th>\n",
       "      <th>Unnamed: 457</th>\n",
       "      <th>Unnamed: 458</th>\n",
       "      <th>Unnamed: 459</th>\n",
       "    </tr>\n",
       "  </thead>\n",
       "  <tbody>\n",
       "    <tr>\n",
       "      <th>0</th>\n",
       "      <td>2</td>\n",
       "      <td>Amorepacific</td>\n",
       "      <td>1</td>\n",
       "      <td>Korea</td>\n",
       "      <td>We will use beauty to change the world and bec...</td>\n",
       "      <td>NaN</td>\n",
       "      <td>NaN</td>\n",
       "      <td>NaN</td>\n",
       "      <td>NaN</td>\n",
       "      <td>NaN</td>\n",
       "      <td>...</td>\n",
       "      <td>NaN</td>\n",
       "      <td>NaN</td>\n",
       "      <td>NaN</td>\n",
       "      <td>NaN</td>\n",
       "      <td>NaN</td>\n",
       "      <td>NaN</td>\n",
       "      <td>NaN</td>\n",
       "      <td>NaN</td>\n",
       "      <td>NaN</td>\n",
       "      <td>NaN</td>\n",
       "    </tr>\n",
       "    <tr>\n",
       "      <th>1</th>\n",
       "      <td>4</td>\n",
       "      <td>Amorepacific</td>\n",
       "      <td>3</td>\n",
       "      <td>Korea</td>\n",
       "      <td>AMOREPACIFC Group will endeavor to become a gr...</td>\n",
       "      <td>NaN</td>\n",
       "      <td>NaN</td>\n",
       "      <td>NaN</td>\n",
       "      <td>NaN</td>\n",
       "      <td>NaN</td>\n",
       "      <td>...</td>\n",
       "      <td>NaN</td>\n",
       "      <td>NaN</td>\n",
       "      <td>NaN</td>\n",
       "      <td>NaN</td>\n",
       "      <td>NaN</td>\n",
       "      <td>NaN</td>\n",
       "      <td>NaN</td>\n",
       "      <td>NaN</td>\n",
       "      <td>NaN</td>\n",
       "      <td>NaN</td>\n",
       "    </tr>\n",
       "    <tr>\n",
       "      <th>2</th>\n",
       "      <td>502</td>\n",
       "      <td>Amorepacific</td>\n",
       "      <td>4</td>\n",
       "      <td>Korea</td>\n",
       "      <td>AMOREPACIFIC Group has been pursuing the path ...</td>\n",
       "      <td>NaN</td>\n",
       "      <td>NaN</td>\n",
       "      <td>NaN</td>\n",
       "      <td>NaN</td>\n",
       "      <td>NaN</td>\n",
       "      <td>...</td>\n",
       "      <td>NaN</td>\n",
       "      <td>NaN</td>\n",
       "      <td>NaN</td>\n",
       "      <td>NaN</td>\n",
       "      <td>NaN</td>\n",
       "      <td>NaN</td>\n",
       "      <td>NaN</td>\n",
       "      <td>NaN</td>\n",
       "      <td>NaN</td>\n",
       "      <td>NaN</td>\n",
       "    </tr>\n",
       "    <tr>\n",
       "      <th>3</th>\n",
       "      <td>5</td>\n",
       "      <td>Asiana Airlines</td>\n",
       "      <td>1</td>\n",
       "      <td>Korea</td>\n",
       "      <td>This year marks the 25th anniversary of the es...</td>\n",
       "      <td>NaN</td>\n",
       "      <td>NaN</td>\n",
       "      <td>NaN</td>\n",
       "      <td>NaN</td>\n",
       "      <td>NaN</td>\n",
       "      <td>...</td>\n",
       "      <td>NaN</td>\n",
       "      <td>NaN</td>\n",
       "      <td>NaN</td>\n",
       "      <td>NaN</td>\n",
       "      <td>NaN</td>\n",
       "      <td>NaN</td>\n",
       "      <td>NaN</td>\n",
       "      <td>NaN</td>\n",
       "      <td>NaN</td>\n",
       "      <td>NaN</td>\n",
       "    </tr>\n",
       "    <tr>\n",
       "      <th>4</th>\n",
       "      <td>6</td>\n",
       "      <td>Asiana Airlines</td>\n",
       "      <td>2</td>\n",
       "      <td>Korea</td>\n",
       "      <td>Since the inception, Asiana Airlines has pledg...</td>\n",
       "      <td>NaN</td>\n",
       "      <td>NaN</td>\n",
       "      <td>NaN</td>\n",
       "      <td>NaN</td>\n",
       "      <td>NaN</td>\n",
       "      <td>...</td>\n",
       "      <td>NaN</td>\n",
       "      <td>NaN</td>\n",
       "      <td>NaN</td>\n",
       "      <td>NaN</td>\n",
       "      <td>NaN</td>\n",
       "      <td>NaN</td>\n",
       "      <td>NaN</td>\n",
       "      <td>NaN</td>\n",
       "      <td>NaN</td>\n",
       "      <td>NaN</td>\n",
       "    </tr>\n",
       "    <tr>\n",
       "      <th>5</th>\n",
       "      <td>7</td>\n",
       "      <td>Asiana Airlines</td>\n",
       "      <td>3</td>\n",
       "      <td>Korea</td>\n",
       "      <td>All of us will do our best without stopping fo...</td>\n",
       "      <td>NaN</td>\n",
       "      <td>NaN</td>\n",
       "      <td>NaN</td>\n",
       "      <td>NaN</td>\n",
       "      <td>NaN</td>\n",
       "      <td>...</td>\n",
       "      <td>NaN</td>\n",
       "      <td>NaN</td>\n",
       "      <td>NaN</td>\n",
       "      <td>NaN</td>\n",
       "      <td>NaN</td>\n",
       "      <td>NaN</td>\n",
       "      <td>NaN</td>\n",
       "      <td>NaN</td>\n",
       "      <td>NaN</td>\n",
       "      <td>NaN</td>\n",
       "    </tr>\n",
       "    <tr>\n",
       "      <th>6</th>\n",
       "      <td>503</td>\n",
       "      <td>Asiana Airlines</td>\n",
       "      <td>4</td>\n",
       "      <td>Korea</td>\n",
       "      <td>First of all, I would like to express my heart...</td>\n",
       "      <td>NaN</td>\n",
       "      <td>NaN</td>\n",
       "      <td>NaN</td>\n",
       "      <td>NaN</td>\n",
       "      <td>NaN</td>\n",
       "      <td>...</td>\n",
       "      <td>NaN</td>\n",
       "      <td>NaN</td>\n",
       "      <td>NaN</td>\n",
       "      <td>NaN</td>\n",
       "      <td>NaN</td>\n",
       "      <td>NaN</td>\n",
       "      <td>NaN</td>\n",
       "      <td>NaN</td>\n",
       "      <td>NaN</td>\n",
       "      <td>NaN</td>\n",
       "    </tr>\n",
       "    <tr>\n",
       "      <th>7</th>\n",
       "      <td>11</td>\n",
       "      <td>BNK Financial Group Inc.</td>\n",
       "      <td>3</td>\n",
       "      <td>Korea</td>\n",
       "      <td>Since the establishment of Busan Bank in 1967 ...</td>\n",
       "      <td>NaN</td>\n",
       "      <td>NaN</td>\n",
       "      <td>NaN</td>\n",
       "      <td>NaN</td>\n",
       "      <td>NaN</td>\n",
       "      <td>...</td>\n",
       "      <td>NaN</td>\n",
       "      <td>NaN</td>\n",
       "      <td>NaN</td>\n",
       "      <td>NaN</td>\n",
       "      <td>NaN</td>\n",
       "      <td>NaN</td>\n",
       "      <td>NaN</td>\n",
       "      <td>NaN</td>\n",
       "      <td>NaN</td>\n",
       "      <td>NaN</td>\n",
       "    </tr>\n",
       "    <tr>\n",
       "      <th>8</th>\n",
       "      <td>504</td>\n",
       "      <td>BNK Financial Group Inc.</td>\n",
       "      <td>4</td>\n",
       "      <td>Korea</td>\n",
       "      <td>In March 2011, BNK Financial Group was launche...</td>\n",
       "      <td>NaN</td>\n",
       "      <td>NaN</td>\n",
       "      <td>NaN</td>\n",
       "      <td>NaN</td>\n",
       "      <td>NaN</td>\n",
       "      <td>...</td>\n",
       "      <td>NaN</td>\n",
       "      <td>NaN</td>\n",
       "      <td>NaN</td>\n",
       "      <td>NaN</td>\n",
       "      <td>NaN</td>\n",
       "      <td>NaN</td>\n",
       "      <td>NaN</td>\n",
       "      <td>NaN</td>\n",
       "      <td>NaN</td>\n",
       "      <td>NaN</td>\n",
       "    </tr>\n",
       "    <tr>\n",
       "      <th>9</th>\n",
       "      <td>12</td>\n",
       "      <td>BPA</td>\n",
       "      <td>3</td>\n",
       "      <td>Korea</td>\n",
       "      <td>I am pleased to introduce various sustainable ...</td>\n",
       "      <td>NaN</td>\n",
       "      <td>NaN</td>\n",
       "      <td>NaN</td>\n",
       "      <td>NaN</td>\n",
       "      <td>NaN</td>\n",
       "      <td>...</td>\n",
       "      <td>NaN</td>\n",
       "      <td>NaN</td>\n",
       "      <td>NaN</td>\n",
       "      <td>NaN</td>\n",
       "      <td>NaN</td>\n",
       "      <td>NaN</td>\n",
       "      <td>NaN</td>\n",
       "      <td>NaN</td>\n",
       "      <td>NaN</td>\n",
       "      <td>NaN</td>\n",
       "    </tr>\n",
       "  </tbody>\n",
       "</table>\n",
       "<p>10 rows × 460 columns</p>\n",
       "</div>"
      ],
      "text/plain": [
       "   number                      firm  publishing country  \\\n",
       "0       2              Amorepacific           1   Korea   \n",
       "1       4              Amorepacific           3   Korea   \n",
       "2     502              Amorepacific           4   Korea   \n",
       "3       5           Asiana Airlines           1   Korea   \n",
       "4       6           Asiana Airlines           2   Korea   \n",
       "5       7           Asiana Airlines           3   Korea   \n",
       "6     503           Asiana Airlines           4   Korea   \n",
       "7      11  BNK Financial Group Inc.           3   Korea   \n",
       "8     504  BNK Financial Group Inc.           4   Korea   \n",
       "9      12                       BPA           3   Korea   \n",
       "\n",
       "                                                text  Unnamed: 5  Unnamed: 6  \\\n",
       "0  We will use beauty to change the world and bec...         NaN         NaN   \n",
       "1  AMOREPACIFC Group will endeavor to become a gr...         NaN         NaN   \n",
       "2  AMOREPACIFIC Group has been pursuing the path ...         NaN         NaN   \n",
       "3  This year marks the 25th anniversary of the es...         NaN         NaN   \n",
       "4  Since the inception, Asiana Airlines has pledg...         NaN         NaN   \n",
       "5  All of us will do our best without stopping fo...         NaN         NaN   \n",
       "6  First of all, I would like to express my heart...         NaN         NaN   \n",
       "7  Since the establishment of Busan Bank in 1967 ...         NaN         NaN   \n",
       "8  In March 2011, BNK Financial Group was launche...         NaN         NaN   \n",
       "9  I am pleased to introduce various sustainable ...         NaN         NaN   \n",
       "\n",
       "   Unnamed: 7  Unnamed: 8  Unnamed: 9      ...       Unnamed: 450  \\\n",
       "0         NaN         NaN         NaN      ...                NaN   \n",
       "1         NaN         NaN         NaN      ...                NaN   \n",
       "2         NaN         NaN         NaN      ...                NaN   \n",
       "3         NaN         NaN         NaN      ...                NaN   \n",
       "4         NaN         NaN         NaN      ...                NaN   \n",
       "5         NaN         NaN         NaN      ...                NaN   \n",
       "6         NaN         NaN         NaN      ...                NaN   \n",
       "7         NaN         NaN         NaN      ...                NaN   \n",
       "8         NaN         NaN         NaN      ...                NaN   \n",
       "9         NaN         NaN         NaN      ...                NaN   \n",
       "\n",
       "   Unnamed: 451  Unnamed: 452  Unnamed: 453  Unnamed: 454  Unnamed: 455  \\\n",
       "0           NaN           NaN           NaN           NaN           NaN   \n",
       "1           NaN           NaN           NaN           NaN           NaN   \n",
       "2           NaN           NaN           NaN           NaN           NaN   \n",
       "3           NaN           NaN           NaN           NaN           NaN   \n",
       "4           NaN           NaN           NaN           NaN           NaN   \n",
       "5           NaN           NaN           NaN           NaN           NaN   \n",
       "6           NaN           NaN           NaN           NaN           NaN   \n",
       "7           NaN           NaN           NaN           NaN           NaN   \n",
       "8           NaN           NaN           NaN           NaN           NaN   \n",
       "9           NaN           NaN           NaN           NaN           NaN   \n",
       "\n",
       "   Unnamed: 456  Unnamed: 457  Unnamed: 458  Unnamed: 459  \n",
       "0           NaN           NaN           NaN           NaN  \n",
       "1           NaN           NaN           NaN           NaN  \n",
       "2           NaN           NaN           NaN           NaN  \n",
       "3           NaN           NaN           NaN           NaN  \n",
       "4           NaN           NaN           NaN           NaN  \n",
       "5           NaN           NaN           NaN           NaN  \n",
       "6           NaN           NaN           NaN           NaN  \n",
       "7           NaN           NaN           NaN           NaN  \n",
       "8           NaN           NaN           NaN           NaN  \n",
       "9           NaN           NaN           NaN           NaN  \n",
       "\n",
       "[10 rows x 460 columns]"
      ]
     },
     "execution_count": 1,
     "metadata": {},
     "output_type": "execute_result"
    }
   ],
   "source": [
    "import pandas as pd\n",
    "df = pd.read_csv('./data/CEO3.csv', encoding='latin')\n",
    "df[0:10]"
   ]
  },
  {
   "cell_type": "code",
   "execution_count": 2,
   "metadata": {},
   "outputs": [
    {
     "data": {
      "text/plain": [
       "0    We will use beauty to change the world and bec...\n",
       "1    AMOREPACIFC Group will endeavor to become a gr...\n",
       "2    AMOREPACIFIC Group has been pursuing the path ...\n",
       "3    This year marks the 25th anniversary of the es...\n",
       "4    Since the inception, Asiana Airlines has pledg...\n",
       "5    All of us will do our best without stopping fo...\n",
       "6    First of all, I would like to express my heart...\n",
       "7    Since the establishment of Busan Bank in 1967 ...\n",
       "8    In March 2011, BNK Financial Group was launche...\n",
       "9    I am pleased to introduce various sustainable ...\n",
       "Name: text, dtype: object"
      ]
     },
     "execution_count": 2,
     "metadata": {},
     "output_type": "execute_result"
    }
   ],
   "source": [
    "texts = df.get('text')\n",
    "texts[0:10]"
   ]
  },
  {
   "cell_type": "code",
   "execution_count": 3,
   "metadata": {},
   "outputs": [],
   "source": [
    "from nltk.tokenize import RegexpTokenizer\n",
    "tokenizer = RegexpTokenizer(r'\\w+')\n",
    "\n",
    "from nltk.stem import WordNetLemmatizer\n",
    "lemmatizer = WordNetLemmatizer()"
   ]
  },
  {
   "cell_type": "code",
   "execution_count": 4,
   "metadata": {},
   "outputs": [
    {
     "name": "stderr",
     "output_type": "stream",
     "text": [
      "[nltk_data] Downloading package stopwords to\n",
      "[nltk_data]     C:\\Users\\HTS\\AppData\\Roaming\\nltk_data...\n",
      "[nltk_data]   Package stopwords is already up-to-date!\n"
     ]
    },
    {
     "data": {
      "text/plain": [
       "['i', 'me', 'my', 'myself', 'we', 'our', 'ours', 'ourselves', 'you', \"you're\"]"
      ]
     },
     "execution_count": 4,
     "metadata": {},
     "output_type": "execute_result"
    }
   ],
   "source": [
    "import nltk\n",
    "nltk.download('stopwords')\n",
    "\n",
    "from nltk.corpus import stopwords\n",
    "stop_words = nltk.corpus.stopwords.words('english')\n",
    "stop_words.extend([])\n",
    "stop_words[0:10]"
   ]
  },
  {
   "cell_type": "code",
   "execution_count": 5,
   "metadata": {},
   "outputs": [
    {
     "name": "stderr",
     "output_type": "stream",
     "text": [
      "[nltk_data] Downloading package wordnet to\n",
      "[nltk_data]     C:\\Users\\HTS\\AppData\\Roaming\\nltk_data...\n",
      "[nltk_data]   Package wordnet is already up-to-date!\n"
     ]
    }
   ],
   "source": [
    "from nltk import wordnet\n",
    "nltk.download('wordnet')\n",
    "preprocessed_texts = []\n",
    "for text in texts.values:\n",
    "    tokenized_text = tokenizer.tokenize(text.lower())\n",
    "    lemmatized_text = [lemmatizer.lemmatize(token) for token in tokenized_text]\n",
    "    stopped_text = [token for token in lemmatized_text if token not in stop_words]\n",
    "    preprocessed_texts.append(stopped_text)"
   ]
  },
  {
   "cell_type": "code",
   "execution_count": 6,
   "metadata": {},
   "outputs": [
    {
     "data": {
      "text/plain": [
       "[('business', 1534),\n",
       " ('company', 1445),\n",
       " ('year', 1159),\n",
       " ('management', 969),\n",
       " ('global', 953),\n",
       " ('growth', 938),\n",
       " ('sustainability', 907),\n",
       " ('customer', 890),\n",
       " ('also', 766),\n",
       " ('value', 755),\n",
       " ('new', 752),\n",
       " ('community', 722),\n",
       " ('world', 713),\n",
       " ('ha', 700),\n",
       " ('product', 683),\n",
       " ('social', 669),\n",
       " ('employee', 658),\n",
       " ('stakeholder', 651),\n",
       " ('effort', 637),\n",
       " ('u', 635)]"
      ]
     },
     "execution_count": 6,
     "metadata": {},
     "output_type": "execute_result"
    }
   ],
   "source": [
    "from collections import Counter\n",
    "tokens = []\n",
    "for text in preprocessed_texts:\n",
    "    tokens.extend(text)\n",
    "\n",
    "counted_tokens = Counter(tokens)\n",
    "top_20 = counted_tokens.most_common(20)\n",
    "top_20"
   ]
  },
  {
   "cell_type": "code",
   "execution_count": 1,
   "metadata": {},
   "outputs": [
    {
     "data": {
      "text/html": [
       "<div>\n",
       "<style scoped>\n",
       "    .dataframe tbody tr th:only-of-type {\n",
       "        vertical-align: middle;\n",
       "    }\n",
       "\n",
       "    .dataframe tbody tr th {\n",
       "        vertical-align: top;\n",
       "    }\n",
       "\n",
       "    .dataframe thead th {\n",
       "        text-align: right;\n",
       "    }\n",
       "</style>\n",
       "<table border=\"1\" class=\"dataframe\">\n",
       "  <thead>\n",
       "    <tr style=\"text-align: right;\">\n",
       "      <th></th>\n",
       "      <th>Title</th>\n",
       "      <th>Link</th>\n",
       "      <th>Description</th>\n",
       "      <th>Blogger Name</th>\n",
       "      <th>Blogger Link</th>\n",
       "      <th>Post Date</th>\n",
       "      <th>Post Contents</th>\n",
       "    </tr>\n",
       "  </thead>\n",
       "  <tbody>\n",
       "  </tbody>\n",
       "</table>\n",
       "</div>"
      ],
      "text/plain": [
       "Empty DataFrame\n",
       "Columns: [Title, Link, Description, Blogger Name, Blogger Link, Post Date, Post Contents]\n",
       "Index: []"
      ]
     },
     "execution_count": 1,
     "metadata": {},
     "output_type": "execute_result"
    }
   ],
   "source": [
    "import pandas as pd\n",
    "df = pd.read_csv('./data/smartphone.csv', encoding='utf-8')\n",
    "df[0:10]"
   ]
  },
  {
   "cell_type": "code",
   "execution_count": 8,
   "metadata": {},
   "outputs": [
    {
     "data": {
      "text/plain": [
       "0    삼성 폴더블폰 갤럭시f 특징, 사전예약은? wapotv.com 2월 21일 새벽 4...\n",
       "1    삼성 갤럭시 폴드 디자인 스펙 가격 출시일 언팩 행사에서 공개 할여했던 삼성 갤럭시...\n",
       "2    폴더블폰-삼성 갤럭시 폴드 vs 화웨이 메이트X 고화질 이미지 폴더블폰 시대 개막 ...\n",
       "3    [일상] 삼성 갤럭시 팬 큐레이터 3기 면접 후기 이번 갤럭시 S10 출시를 앞두고...\n",
       "4    삼성 갤럭시 S10 화면 디스플레이 화질 한계를 다시 경신 화질 삼성 갤럭시 S10...\n",
       "5    갤럭시S10 사전예약 사은품은? 삼성언팩 한눈정리 그러나 10주년을 맞이한 갤럭시의...\n",
       "6    삼성 갤럭시 S9플러스 갤럭시S9+ 라일락 퍼플/선라이즈골드... 삼성 갤럭시 S9...\n",
       "7    폴더블폰 삼성 갤럭시 폴드 화웨이 메이트X 글쎄!! 삼성을 경쟁자로 생각하고 있는 ...\n",
       "8    삼성 갤럭시 S10 프리즘 화이트 개봉기! 갤럭시 S10은 삼성이 칼을 갈고 나왔다...\n",
       "9    삼성 갤럭시 s10+ 프리즘화이트 실제 사용 리뷰 갤럭시 s10 플러스의 무게는 1...\n",
       "dtype: object"
      ]
     },
     "execution_count": 8,
     "metadata": {},
     "output_type": "execute_result"
    }
   ],
   "source": [
    "posts = df.get('Title') + \" \" + df.get('Description')\n",
    "posts[0:10]"
   ]
  },
  {
   "cell_type": "code",
   "execution_count": 9,
   "metadata": {},
   "outputs": [
    {
     "name": "stdout",
     "output_type": "stream",
     "text": [
      "Requirement already satisfied: eunjeon in c:\\python\\venv\\tensorflow\\lib\\site-packages (0.4.0)\n"
     ]
    },
    {
     "name": "stderr",
     "output_type": "stream",
     "text": [
      "You are using pip version 19.0.3, however version 19.1.1 is available.\n",
      "You should consider upgrading via the 'python -m pip install --upgrade pip' command.\n"
     ]
    }
   ],
   "source": [
    "!pip install eunjeon"
   ]
  },
  {
   "cell_type": "code",
   "execution_count": 10,
   "metadata": {},
   "outputs": [],
   "source": [
    "from eunjeon import Mecab\n",
    "tagger = Mecab()"
   ]
  },
  {
   "cell_type": "code",
   "execution_count": 11,
   "metadata": {},
   "outputs": [
    {
     "data": {
      "text/plain": [
       "['은', '이', '것', '등', '더', '를', '좀', '즉', '인', '옹']"
      ]
     },
     "execution_count": 11,
     "metadata": {},
     "output_type": "execute_result"
    }
   ],
   "source": [
    "stop_words = \"은 이 것 등 더 를 좀 즉 인 옹 때 만 원 이때 개 일 기 시 럭 갤 성 삼 스 폰 트 드 기 이 리 폴 사 전 마 자 플 블 가 \"\n",
    "stop_words=stop_words.split(' ')\n",
    "stop_words[0:10]"
   ]
  },
  {
   "cell_type": "code",
   "execution_count": 12,
   "metadata": {},
   "outputs": [
    {
     "data": {
      "text/plain": [
       "['삼성', '더블', '갤럭시', '특징', '사전', '예약', '월', '새벽', '삼성', '갤럭시']"
      ]
     },
     "execution_count": 12,
     "metadata": {},
     "output_type": "execute_result"
    }
   ],
   "source": [
    "nouns = []\n",
    "for post in posts:\n",
    "    for noun in tagger.nouns(post):\n",
    "        if noun not in stop_words:\n",
    "            nouns.append(noun)\n",
    "nouns[0:10]"
   ]
  },
  {
   "cell_type": "code",
   "execution_count": 13,
   "metadata": {},
   "outputs": [
    {
     "data": {
      "text/plain": [
       "[('삼성', 'NNP'),\n",
       " ('폴', 'NNP'),\n",
       " ('더블', 'NNP'),\n",
       " ('폰', 'NNP'),\n",
       " ('갤럭시', 'NNP'),\n",
       " ('f', 'SL'),\n",
       " ('특징', 'NNG'),\n",
       " (',', 'SC'),\n",
       " ('사전', 'NNG'),\n",
       " ('예약', 'NNG')]"
      ]
     },
     "execution_count": 13,
     "metadata": {},
     "output_type": "execute_result"
    }
   ],
   "source": [
    "words = []\n",
    "for post in posts:\n",
    "    words.extend(tagger.pos(post))\n",
    "words[0:10]"
   ]
  },
  {
   "cell_type": "code",
   "execution_count": 14,
   "metadata": {},
   "outputs": [
    {
     "data": {
      "text/plain": [
       "['알아보다', '들다', '꺼내다', '앞두다', '갈고닦다', '뛰어넘다', '넣다', '접다', '갈다', '넣다']"
      ]
     },
     "execution_count": 14,
     "metadata": {},
     "output_type": "execute_result"
    }
   ],
   "source": [
    "verbs=[]\n",
    "for word in words:\n",
    "    if word[1]=='VV':\n",
    "        verbs.append(word[0]+'다')\n",
    "verbs[0:10]"
   ]
  },
  {
   "cell_type": "code",
   "execution_count": 15,
   "metadata": {},
   "outputs": [
    {
     "data": {
      "text/plain": [
       "['싸다', '괜찮다', '있다', '크다', '뒤늦다', '뒤늦다', '깊다', '있다', '이쁘다', '없다']"
      ]
     },
     "execution_count": 15,
     "metadata": {},
     "output_type": "execute_result"
    }
   ],
   "source": [
    "adjective=[]\n",
    "for word in words:\n",
    "    if word[1]=='VA':\n",
    "        adjective.append(word[0]+'다')\n",
    "adjective[0:10]"
   ]
  },
  {
   "cell_type": "code",
   "execution_count": 16,
   "metadata": {},
   "outputs": [
    {
     "data": {
      "text/plain": [
       "[('갤럭시', 3352),\n",
       " ('삼성', 2544),\n",
       " ('스마트폰', 397),\n",
       " ('삼성전자', 366),\n",
       " ('출시', 273),\n",
       " ('폴드', 264),\n",
       " ('노트', 224),\n",
       " ('워치', 211),\n",
       " ('공개', 208),\n",
       " ('플러스', 195),\n",
       " ('사용', 193),\n",
       " ('카메라', 173),\n",
       " ('더블', 163),\n",
       " ('모델', 159),\n",
       " ('스펙', 154),\n",
       " ('가격', 141),\n",
       " ('시리즈', 137),\n",
       " ('팩', 135),\n",
       " ('수', 134),\n",
       " ('이번', 129)]"
      ]
     },
     "execution_count": 16,
     "metadata": {},
     "output_type": "execute_result"
    }
   ],
   "source": [
    "from collections import Counter\n",
    "counted_nouns = Counter(nouns)\n",
    "top_20 = counted_nouns.most_common(20)\n",
    "top_20"
   ]
  },
  {
   "cell_type": "code",
   "execution_count": null,
   "metadata": {},
   "outputs": [],
   "source": []
  }
 ],
 "metadata": {
  "kernelspec": {
   "display_name": "Python 3",
   "language": "python",
   "name": "python3"
  },
  "language_info": {
   "codemirror_mode": {
    "name": "ipython",
    "version": 3
   },
   "file_extension": ".py",
   "mimetype": "text/x-python",
   "name": "python",
   "nbconvert_exporter": "python",
   "pygments_lexer": "ipython3",
   "version": "3.8.5"
  }
 },
 "nbformat": 4,
 "nbformat_minor": 2
}
