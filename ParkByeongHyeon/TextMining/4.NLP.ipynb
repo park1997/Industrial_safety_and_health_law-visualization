{
 "cells": [
  {
   "cell_type": "code",
   "execution_count": 1,
   "metadata": {},
   "outputs": [
    {
     "data": {
      "text/html": [
       "<div>\n",
       "<style scoped>\n",
       "    .dataframe tbody tr th:only-of-type {\n",
       "        vertical-align: middle;\n",
       "    }\n",
       "\n",
       "    .dataframe tbody tr th {\n",
       "        vertical-align: top;\n",
       "    }\n",
       "\n",
       "    .dataframe thead th {\n",
       "        text-align: right;\n",
       "    }\n",
       "</style>\n",
       "<table border=\"1\" class=\"dataframe\">\n",
       "  <thead>\n",
       "    <tr style=\"text-align: right;\">\n",
       "      <th></th>\n",
       "      <th>number</th>\n",
       "      <th>firm</th>\n",
       "      <th>publishing</th>\n",
       "      <th>country</th>\n",
       "      <th>text</th>\n",
       "      <th>Unnamed: 5</th>\n",
       "      <th>Unnamed: 6</th>\n",
       "      <th>Unnamed: 7</th>\n",
       "      <th>Unnamed: 8</th>\n",
       "      <th>Unnamed: 9</th>\n",
       "      <th>...</th>\n",
       "      <th>Unnamed: 450</th>\n",
       "      <th>Unnamed: 451</th>\n",
       "      <th>Unnamed: 452</th>\n",
       "      <th>Unnamed: 453</th>\n",
       "      <th>Unnamed: 454</th>\n",
       "      <th>Unnamed: 455</th>\n",
       "      <th>Unnamed: 456</th>\n",
       "      <th>Unnamed: 457</th>\n",
       "      <th>Unnamed: 458</th>\n",
       "      <th>Unnamed: 459</th>\n",
       "    </tr>\n",
       "  </thead>\n",
       "  <tbody>\n",
       "    <tr>\n",
       "      <th>0</th>\n",
       "      <td>2</td>\n",
       "      <td>Amorepacific</td>\n",
       "      <td>1</td>\n",
       "      <td>Korea</td>\n",
       "      <td>We will use beauty to change the world and bec...</td>\n",
       "      <td>NaN</td>\n",
       "      <td>NaN</td>\n",
       "      <td>NaN</td>\n",
       "      <td>NaN</td>\n",
       "      <td>NaN</td>\n",
       "      <td>...</td>\n",
       "      <td>NaN</td>\n",
       "      <td>NaN</td>\n",
       "      <td>NaN</td>\n",
       "      <td>NaN</td>\n",
       "      <td>NaN</td>\n",
       "      <td>NaN</td>\n",
       "      <td>NaN</td>\n",
       "      <td>NaN</td>\n",
       "      <td>NaN</td>\n",
       "      <td>NaN</td>\n",
       "    </tr>\n",
       "    <tr>\n",
       "      <th>1</th>\n",
       "      <td>4</td>\n",
       "      <td>Amorepacific</td>\n",
       "      <td>3</td>\n",
       "      <td>Korea</td>\n",
       "      <td>AMOREPACIFC Group will endeavor to become a gr...</td>\n",
       "      <td>NaN</td>\n",
       "      <td>NaN</td>\n",
       "      <td>NaN</td>\n",
       "      <td>NaN</td>\n",
       "      <td>NaN</td>\n",
       "      <td>...</td>\n",
       "      <td>NaN</td>\n",
       "      <td>NaN</td>\n",
       "      <td>NaN</td>\n",
       "      <td>NaN</td>\n",
       "      <td>NaN</td>\n",
       "      <td>NaN</td>\n",
       "      <td>NaN</td>\n",
       "      <td>NaN</td>\n",
       "      <td>NaN</td>\n",
       "      <td>NaN</td>\n",
       "    </tr>\n",
       "    <tr>\n",
       "      <th>2</th>\n",
       "      <td>502</td>\n",
       "      <td>Amorepacific</td>\n",
       "      <td>4</td>\n",
       "      <td>Korea</td>\n",
       "      <td>AMOREPACIFIC Group has been pursuing the path ...</td>\n",
       "      <td>NaN</td>\n",
       "      <td>NaN</td>\n",
       "      <td>NaN</td>\n",
       "      <td>NaN</td>\n",
       "      <td>NaN</td>\n",
       "      <td>...</td>\n",
       "      <td>NaN</td>\n",
       "      <td>NaN</td>\n",
       "      <td>NaN</td>\n",
       "      <td>NaN</td>\n",
       "      <td>NaN</td>\n",
       "      <td>NaN</td>\n",
       "      <td>NaN</td>\n",
       "      <td>NaN</td>\n",
       "      <td>NaN</td>\n",
       "      <td>NaN</td>\n",
       "    </tr>\n",
       "    <tr>\n",
       "      <th>3</th>\n",
       "      <td>5</td>\n",
       "      <td>Asiana Airlines</td>\n",
       "      <td>1</td>\n",
       "      <td>Korea</td>\n",
       "      <td>This year marks the 25th anniversary of the es...</td>\n",
       "      <td>NaN</td>\n",
       "      <td>NaN</td>\n",
       "      <td>NaN</td>\n",
       "      <td>NaN</td>\n",
       "      <td>NaN</td>\n",
       "      <td>...</td>\n",
       "      <td>NaN</td>\n",
       "      <td>NaN</td>\n",
       "      <td>NaN</td>\n",
       "      <td>NaN</td>\n",
       "      <td>NaN</td>\n",
       "      <td>NaN</td>\n",
       "      <td>NaN</td>\n",
       "      <td>NaN</td>\n",
       "      <td>NaN</td>\n",
       "      <td>NaN</td>\n",
       "    </tr>\n",
       "    <tr>\n",
       "      <th>4</th>\n",
       "      <td>6</td>\n",
       "      <td>Asiana Airlines</td>\n",
       "      <td>2</td>\n",
       "      <td>Korea</td>\n",
       "      <td>Since the inception, Asiana Airlines has pledg...</td>\n",
       "      <td>NaN</td>\n",
       "      <td>NaN</td>\n",
       "      <td>NaN</td>\n",
       "      <td>NaN</td>\n",
       "      <td>NaN</td>\n",
       "      <td>...</td>\n",
       "      <td>NaN</td>\n",
       "      <td>NaN</td>\n",
       "      <td>NaN</td>\n",
       "      <td>NaN</td>\n",
       "      <td>NaN</td>\n",
       "      <td>NaN</td>\n",
       "      <td>NaN</td>\n",
       "      <td>NaN</td>\n",
       "      <td>NaN</td>\n",
       "      <td>NaN</td>\n",
       "    </tr>\n",
       "    <tr>\n",
       "      <th>5</th>\n",
       "      <td>7</td>\n",
       "      <td>Asiana Airlines</td>\n",
       "      <td>3</td>\n",
       "      <td>Korea</td>\n",
       "      <td>All of us will do our best without stopping fo...</td>\n",
       "      <td>NaN</td>\n",
       "      <td>NaN</td>\n",
       "      <td>NaN</td>\n",
       "      <td>NaN</td>\n",
       "      <td>NaN</td>\n",
       "      <td>...</td>\n",
       "      <td>NaN</td>\n",
       "      <td>NaN</td>\n",
       "      <td>NaN</td>\n",
       "      <td>NaN</td>\n",
       "      <td>NaN</td>\n",
       "      <td>NaN</td>\n",
       "      <td>NaN</td>\n",
       "      <td>NaN</td>\n",
       "      <td>NaN</td>\n",
       "      <td>NaN</td>\n",
       "    </tr>\n",
       "    <tr>\n",
       "      <th>6</th>\n",
       "      <td>503</td>\n",
       "      <td>Asiana Airlines</td>\n",
       "      <td>4</td>\n",
       "      <td>Korea</td>\n",
       "      <td>First of all, I would like to express my heart...</td>\n",
       "      <td>NaN</td>\n",
       "      <td>NaN</td>\n",
       "      <td>NaN</td>\n",
       "      <td>NaN</td>\n",
       "      <td>NaN</td>\n",
       "      <td>...</td>\n",
       "      <td>NaN</td>\n",
       "      <td>NaN</td>\n",
       "      <td>NaN</td>\n",
       "      <td>NaN</td>\n",
       "      <td>NaN</td>\n",
       "      <td>NaN</td>\n",
       "      <td>NaN</td>\n",
       "      <td>NaN</td>\n",
       "      <td>NaN</td>\n",
       "      <td>NaN</td>\n",
       "    </tr>\n",
       "    <tr>\n",
       "      <th>7</th>\n",
       "      <td>11</td>\n",
       "      <td>BNK Financial Group Inc.</td>\n",
       "      <td>3</td>\n",
       "      <td>Korea</td>\n",
       "      <td>Since the establishment of Busan Bank in 1967 ...</td>\n",
       "      <td>NaN</td>\n",
       "      <td>NaN</td>\n",
       "      <td>NaN</td>\n",
       "      <td>NaN</td>\n",
       "      <td>NaN</td>\n",
       "      <td>...</td>\n",
       "      <td>NaN</td>\n",
       "      <td>NaN</td>\n",
       "      <td>NaN</td>\n",
       "      <td>NaN</td>\n",
       "      <td>NaN</td>\n",
       "      <td>NaN</td>\n",
       "      <td>NaN</td>\n",
       "      <td>NaN</td>\n",
       "      <td>NaN</td>\n",
       "      <td>NaN</td>\n",
       "    </tr>\n",
       "    <tr>\n",
       "      <th>8</th>\n",
       "      <td>504</td>\n",
       "      <td>BNK Financial Group Inc.</td>\n",
       "      <td>4</td>\n",
       "      <td>Korea</td>\n",
       "      <td>In March 2011, BNK Financial Group was launche...</td>\n",
       "      <td>NaN</td>\n",
       "      <td>NaN</td>\n",
       "      <td>NaN</td>\n",
       "      <td>NaN</td>\n",
       "      <td>NaN</td>\n",
       "      <td>...</td>\n",
       "      <td>NaN</td>\n",
       "      <td>NaN</td>\n",
       "      <td>NaN</td>\n",
       "      <td>NaN</td>\n",
       "      <td>NaN</td>\n",
       "      <td>NaN</td>\n",
       "      <td>NaN</td>\n",
       "      <td>NaN</td>\n",
       "      <td>NaN</td>\n",
       "      <td>NaN</td>\n",
       "    </tr>\n",
       "    <tr>\n",
       "      <th>9</th>\n",
       "      <td>12</td>\n",
       "      <td>BPA</td>\n",
       "      <td>3</td>\n",
       "      <td>Korea</td>\n",
       "      <td>I am pleased to introduce various sustainable ...</td>\n",
       "      <td>NaN</td>\n",
       "      <td>NaN</td>\n",
       "      <td>NaN</td>\n",
       "      <td>NaN</td>\n",
       "      <td>NaN</td>\n",
       "      <td>...</td>\n",
       "      <td>NaN</td>\n",
       "      <td>NaN</td>\n",
       "      <td>NaN</td>\n",
       "      <td>NaN</td>\n",
       "      <td>NaN</td>\n",
       "      <td>NaN</td>\n",
       "      <td>NaN</td>\n",
       "      <td>NaN</td>\n",
       "      <td>NaN</td>\n",
       "      <td>NaN</td>\n",
       "    </tr>\n",
       "  </tbody>\n",
       "</table>\n",
       "<p>10 rows × 460 columns</p>\n",
       "</div>"
      ],
      "text/plain": [
       "   number                      firm  publishing country  \\\n",
       "0       2              Amorepacific           1   Korea   \n",
       "1       4              Amorepacific           3   Korea   \n",
       "2     502              Amorepacific           4   Korea   \n",
       "3       5           Asiana Airlines           1   Korea   \n",
       "4       6           Asiana Airlines           2   Korea   \n",
       "5       7           Asiana Airlines           3   Korea   \n",
       "6     503           Asiana Airlines           4   Korea   \n",
       "7      11  BNK Financial Group Inc.           3   Korea   \n",
       "8     504  BNK Financial Group Inc.           4   Korea   \n",
       "9      12                       BPA           3   Korea   \n",
       "\n",
       "                                                text  Unnamed: 5  Unnamed: 6  \\\n",
       "0  We will use beauty to change the world and bec...         NaN         NaN   \n",
       "1  AMOREPACIFC Group will endeavor to become a gr...         NaN         NaN   \n",
       "2  AMOREPACIFIC Group has been pursuing the path ...         NaN         NaN   \n",
       "3  This year marks the 25th anniversary of the es...         NaN         NaN   \n",
       "4  Since the inception, Asiana Airlines has pledg...         NaN         NaN   \n",
       "5  All of us will do our best without stopping fo...         NaN         NaN   \n",
       "6  First of all, I would like to express my heart...         NaN         NaN   \n",
       "7  Since the establishment of Busan Bank in 1967 ...         NaN         NaN   \n",
       "8  In March 2011, BNK Financial Group was launche...         NaN         NaN   \n",
       "9  I am pleased to introduce various sustainable ...         NaN         NaN   \n",
       "\n",
       "   Unnamed: 7  Unnamed: 8  Unnamed: 9  ...  Unnamed: 450  Unnamed: 451  \\\n",
       "0         NaN         NaN         NaN  ...           NaN           NaN   \n",
       "1         NaN         NaN         NaN  ...           NaN           NaN   \n",
       "2         NaN         NaN         NaN  ...           NaN           NaN   \n",
       "3         NaN         NaN         NaN  ...           NaN           NaN   \n",
       "4         NaN         NaN         NaN  ...           NaN           NaN   \n",
       "5         NaN         NaN         NaN  ...           NaN           NaN   \n",
       "6         NaN         NaN         NaN  ...           NaN           NaN   \n",
       "7         NaN         NaN         NaN  ...           NaN           NaN   \n",
       "8         NaN         NaN         NaN  ...           NaN           NaN   \n",
       "9         NaN         NaN         NaN  ...           NaN           NaN   \n",
       "\n",
       "   Unnamed: 452  Unnamed: 453  Unnamed: 454  Unnamed: 455  Unnamed: 456  \\\n",
       "0           NaN           NaN           NaN           NaN           NaN   \n",
       "1           NaN           NaN           NaN           NaN           NaN   \n",
       "2           NaN           NaN           NaN           NaN           NaN   \n",
       "3           NaN           NaN           NaN           NaN           NaN   \n",
       "4           NaN           NaN           NaN           NaN           NaN   \n",
       "5           NaN           NaN           NaN           NaN           NaN   \n",
       "6           NaN           NaN           NaN           NaN           NaN   \n",
       "7           NaN           NaN           NaN           NaN           NaN   \n",
       "8           NaN           NaN           NaN           NaN           NaN   \n",
       "9           NaN           NaN           NaN           NaN           NaN   \n",
       "\n",
       "   Unnamed: 457  Unnamed: 458  Unnamed: 459  \n",
       "0           NaN           NaN           NaN  \n",
       "1           NaN           NaN           NaN  \n",
       "2           NaN           NaN           NaN  \n",
       "3           NaN           NaN           NaN  \n",
       "4           NaN           NaN           NaN  \n",
       "5           NaN           NaN           NaN  \n",
       "6           NaN           NaN           NaN  \n",
       "7           NaN           NaN           NaN  \n",
       "8           NaN           NaN           NaN  \n",
       "9           NaN           NaN           NaN  \n",
       "\n",
       "[10 rows x 460 columns]"
      ]
     },
     "execution_count": 1,
     "metadata": {},
     "output_type": "execute_result"
    }
   ],
   "source": [
    "import pandas as pd\n",
    "df = pd.read_csv('./data/CEO3.csv', encoding='latin')\n",
    "df[0:10]"
   ]
  },
  {
   "cell_type": "code",
   "execution_count": 2,
   "metadata": {},
   "outputs": [
    {
     "data": {
      "text/plain": [
       "0    We will use beauty to change the world and bec...\n",
       "1    AMOREPACIFC Group will endeavor to become a gr...\n",
       "2    AMOREPACIFIC Group has been pursuing the path ...\n",
       "3    This year marks the 25th anniversary of the es...\n",
       "4    Since the inception, Asiana Airlines has pledg...\n",
       "5    All of us will do our best without stopping fo...\n",
       "6    First of all, I would like to express my heart...\n",
       "7    Since the establishment of Busan Bank in 1967 ...\n",
       "8    In March 2011, BNK Financial Group was launche...\n",
       "9    I am pleased to introduce various sustainable ...\n",
       "Name: text, dtype: object"
      ]
     },
     "execution_count": 2,
     "metadata": {},
     "output_type": "execute_result"
    }
   ],
   "source": [
    "texts = df.get('text')\n",
    "texts[0:10]"
   ]
  },
  {
   "cell_type": "code",
   "execution_count": 3,
   "metadata": {},
   "outputs": [],
   "source": [
    "from nltk.tokenize import RegexpTokenizer\n",
    "tokenizer = RegexpTokenizer(r'\\w+')\n",
    "\n",
    "from nltk.stem import WordNetLemmatizer\n",
    "lemmatizer = WordNetLemmatizer()"
   ]
  },
  {
   "cell_type": "code",
   "execution_count": 4,
   "metadata": {},
   "outputs": [
    {
     "name": "stderr",
     "output_type": "stream",
     "text": [
      "[nltk_data] Downloading package stopwords to\n",
      "[nltk_data]     /Users/byeonghyeon/nltk_data...\n",
      "[nltk_data]   Package stopwords is already up-to-date!\n"
     ]
    },
    {
     "data": {
      "text/plain": [
       "['i', 'me', 'my', 'myself', 'we', 'our', 'ours', 'ourselves', 'you', \"you're\"]"
      ]
     },
     "execution_count": 4,
     "metadata": {},
     "output_type": "execute_result"
    }
   ],
   "source": [
    "import nltk\n",
    "nltk.download('stopwords')\n",
    "\n",
    "from nltk.corpus import stopwords\n",
    "stop_words = nltk.corpus.stopwords.words('english')\n",
    "stop_words.extend([])\n",
    "stop_words[0:10]"
   ]
  },
  {
   "cell_type": "code",
   "execution_count": 5,
   "metadata": {},
   "outputs": [
    {
     "name": "stderr",
     "output_type": "stream",
     "text": [
      "[nltk_data] Downloading package wordnet to\n",
      "[nltk_data]     /Users/byeonghyeon/nltk_data...\n",
      "[nltk_data]   Package wordnet is already up-to-date!\n"
     ]
    }
   ],
   "source": [
    "from nltk import wordnet\n",
    "nltk.download('wordnet')\n",
    "preprocessed_texts = []\n",
    "for text in texts.values:\n",
    "    tokenized_text = tokenizer.tokenize(text.lower())\n",
    "    lemmatized_text = [lemmatizer.lemmatize(token) for token in tokenized_text]\n",
    "    stopped_text = [token for token in lemmatized_text if token not in stop_words]\n",
    "    preprocessed_texts.append(stopped_text)\n",
    "# preprocessed_texts"
   ]
  },
  {
   "cell_type": "code",
   "execution_count": 7,
   "metadata": {},
   "outputs": [
    {
     "data": {
      "text/plain": [
       "[('business', 1534),\n",
       " ('company', 1445),\n",
       " ('year', 1159),\n",
       " ('management', 969),\n",
       " ('global', 953),\n",
       " ('growth', 938),\n",
       " ('sustainability', 907),\n",
       " ('customer', 890),\n",
       " ('also', 766),\n",
       " ('value', 755),\n",
       " ('new', 752),\n",
       " ('community', 722),\n",
       " ('world', 713),\n",
       " ('ha', 700),\n",
       " ('product', 683),\n",
       " ('social', 669),\n",
       " ('employee', 658),\n",
       " ('stakeholder', 651),\n",
       " ('effort', 637),\n",
       " ('u', 635)]"
      ]
     },
     "execution_count": 7,
     "metadata": {},
     "output_type": "execute_result"
    }
   ],
   "source": [
    "from collections import Counter\n",
    "tokens = []\n",
    "for text in preprocessed_texts:\n",
    "    tokens.extend(text)\n",
    "\n",
    "    \n",
    "counted_tokens = Counter(tokens)\n",
    "top_20 = counted_tokens.most_common(20)\n",
    "top_20"
   ]
  },
  {
   "cell_type": "code",
   "execution_count": 8,
   "metadata": {},
   "outputs": [
    {
     "data": {
      "text/html": [
       "<div>\n",
       "<style scoped>\n",
       "    .dataframe tbody tr th:only-of-type {\n",
       "        vertical-align: middle;\n",
       "    }\n",
       "\n",
       "    .dataframe tbody tr th {\n",
       "        vertical-align: top;\n",
       "    }\n",
       "\n",
       "    .dataframe thead th {\n",
       "        text-align: right;\n",
       "    }\n",
       "</style>\n",
       "<table border=\"1\" class=\"dataframe\">\n",
       "  <thead>\n",
       "    <tr style=\"text-align: right;\">\n",
       "      <th></th>\n",
       "      <th>조내용</th>\n",
       "    </tr>\n",
       "  </thead>\n",
       "  <tbody>\n",
       "    <tr>\n",
       "      <th>0</th>\n",
       "      <td>제1조(목적) 이 법은 산업 안전 및 보건에 관한 기준을 확립하고 그 책임의 소재를...</td>\n",
       "    </tr>\n",
       "    <tr>\n",
       "      <th>1</th>\n",
       "      <td>제2조(정의) 이 법에서 사용하는 용어의 뜻은 다음과 같다. &lt;개정 2020.5.2...</td>\n",
       "    </tr>\n",
       "    <tr>\n",
       "      <th>2</th>\n",
       "      <td>제3조(적용 범위) 이 법은 모든 사업에 적용한다. 다만, 유해ㆍ위험의 정도, 사업...</td>\n",
       "    </tr>\n",
       "    <tr>\n",
       "      <th>3</th>\n",
       "      <td>제4조(정부의 책무)산업 안전 및 보건 정책의 수립 및 집행산업재해 예방 지원 및 ...</td>\n",
       "    </tr>\n",
       "    <tr>\n",
       "      <th>4</th>\n",
       "      <td>제5조(사업주 등의 의무)이 법과 이 법에 따른 명령으로 정하는 산업재해 예방을 위...</td>\n",
       "    </tr>\n",
       "    <tr>\n",
       "      <th>5</th>\n",
       "      <td>제6조(근로자의 의무) 근로자는 이 법과 이 법에 따른 명령으로 정하는 산업재해 예...</td>\n",
       "    </tr>\n",
       "    <tr>\n",
       "      <th>6</th>\n",
       "      <td>제7조(산업재해 예방에 관한 기본계획의 수립ㆍ공표)고용노동부장관은 산업재해 예방에 ...</td>\n",
       "    </tr>\n",
       "    <tr>\n",
       "      <th>7</th>\n",
       "      <td>제8조(협조 요청 등)「부가가치세법」 제8조 및 「법인세법」 제111조에 따른 사업...</td>\n",
       "    </tr>\n",
       "    <tr>\n",
       "      <th>8</th>\n",
       "      <td>제9조(산업재해 예방 통합정보시스템 구축ㆍ운영 등)고용노동부장관은 산업재해를 체계적...</td>\n",
       "    </tr>\n",
       "    <tr>\n",
       "      <th>9</th>\n",
       "      <td>제10조(산업재해 발생건수 등의 공표)고용노동부장관은 산업재해를 예방하기 위하여 대...</td>\n",
       "    </tr>\n",
       "  </tbody>\n",
       "</table>\n",
       "</div>"
      ],
      "text/plain": [
       "                                                 조내용\n",
       "0  제1조(목적) 이 법은 산업 안전 및 보건에 관한 기준을 확립하고 그 책임의 소재를...\n",
       "1  제2조(정의) 이 법에서 사용하는 용어의 뜻은 다음과 같다. <개정 2020.5.2...\n",
       "2  제3조(적용 범위) 이 법은 모든 사업에 적용한다. 다만, 유해ㆍ위험의 정도, 사업...\n",
       "3  제4조(정부의 책무)산업 안전 및 보건 정책의 수립 및 집행산업재해 예방 지원 및 ...\n",
       "4  제5조(사업주 등의 의무)이 법과 이 법에 따른 명령으로 정하는 산업재해 예방을 위...\n",
       "5  제6조(근로자의 의무) 근로자는 이 법과 이 법에 따른 명령으로 정하는 산업재해 예...\n",
       "6  제7조(산업재해 예방에 관한 기본계획의 수립ㆍ공표)고용노동부장관은 산업재해 예방에 ...\n",
       "7  제8조(협조 요청 등)「부가가치세법」 제8조 및 「법인세법」 제111조에 따른 사업...\n",
       "8  제9조(산업재해 예방 통합정보시스템 구축ㆍ운영 등)고용노동부장관은 산업재해를 체계적...\n",
       "9  제10조(산업재해 발생건수 등의 공표)고용노동부장관은 산업재해를 예방하기 위하여 대..."
      ]
     },
     "execution_count": 8,
     "metadata": {},
     "output_type": "execute_result"
    }
   ],
   "source": [
    "import pandas as pd\n",
    "df = pd.read_excel('./산업안전보건법.xlsx')\n",
    "df[0:10]"
   ]
  },
  {
   "cell_type": "code",
   "execution_count": 9,
   "metadata": {},
   "outputs": [
    {
     "data": {
      "text/plain": [
       "0    제1조(목적) 이 법은 산업 안전 및 보건에 관한 기준을 확립하고 그 책임의 소재를...\n",
       "1    제2조(정의) 이 법에서 사용하는 용어의 뜻은 다음과 같다. <개정 2020.5.2...\n",
       "2    제3조(적용 범위) 이 법은 모든 사업에 적용한다. 다만, 유해ㆍ위험의 정도, 사업...\n",
       "3    제4조(정부의 책무)산업 안전 및 보건 정책의 수립 및 집행산업재해 예방 지원 및 ...\n",
       "4    제5조(사업주 등의 의무)이 법과 이 법에 따른 명령으로 정하는 산업재해 예방을 위...\n",
       "5    제6조(근로자의 의무) 근로자는 이 법과 이 법에 따른 명령으로 정하는 산업재해 예...\n",
       "6    제7조(산업재해 예방에 관한 기본계획의 수립ㆍ공표)고용노동부장관은 산업재해 예방에 ...\n",
       "7    제8조(협조 요청 등)「부가가치세법」 제8조 및 「법인세법」 제111조에 따른 사업...\n",
       "8    제9조(산업재해 예방 통합정보시스템 구축ㆍ운영 등)고용노동부장관은 산업재해를 체계적...\n",
       "9    제10조(산업재해 발생건수 등의 공표)고용노동부장관은 산업재해를 예방하기 위하여 대...\n",
       "Name: 조내용, dtype: object"
      ]
     },
     "execution_count": 9,
     "metadata": {},
     "output_type": "execute_result"
    }
   ],
   "source": [
    "posts = df.get('조내용')\n",
    "posts[0:10]"
   ]
  },
  {
   "cell_type": "code",
   "execution_count": 10,
   "metadata": {},
   "outputs": [
    {
     "name": "stdout",
     "output_type": "stream",
     "text": [
      "Requirement already satisfied: eunjeon in /opt/anaconda3/lib/python3.8/site-packages (0.4.0)\r\n"
     ]
    }
   ],
   "source": [
    "!pip install eunjeon"
   ]
  },
  {
   "cell_type": "code",
   "execution_count": 29,
   "metadata": {},
   "outputs": [],
   "source": [
    "from konlpy.tag import Mecab\n",
    "tagger = Mecab()"
   ]
  },
  {
   "cell_type": "code",
   "execution_count": 30,
   "metadata": {},
   "outputs": [
    {
     "data": {
      "text/plain": [
       "['은', '이', '것', '등', '더', '를', '좀', '즉', '인', '옹']"
      ]
     },
     "execution_count": 30,
     "metadata": {},
     "output_type": "execute_result"
    }
   ],
   "source": [
    "stop_words = \"은 이 것 등 더 를 좀 즉 인 옹 때 만 원 이때 개 일 기 시 럭 갤 성 삼 스 폰 트 드 기 이 리 폴 사 전 마 자 플 블 가 \"\n",
    "stop_words=stop_words.split(' ')\n",
    "stop_words[0:10]"
   ]
  },
  {
   "cell_type": "code",
   "execution_count": 31,
   "metadata": {},
   "outputs": [
    {
     "data": {
      "text/plain": [
       "['조', '목적', '법', '산업', '안전', '보건', '기준', '확립', '책임', '소재']"
      ]
     },
     "execution_count": 31,
     "metadata": {},
     "output_type": "execute_result"
    }
   ],
   "source": [
    "nouns = []\n",
    "for post in posts:\n",
    "    for noun in tagger.nouns(post):\n",
    "        if noun not in stop_words:\n",
    "            nouns.append(noun)\n",
    "nouns[0:10]"
   ]
  },
  {
   "cell_type": "code",
   "execution_count": 32,
   "metadata": {},
   "outputs": [
    {
     "data": {
      "text/plain": [
       "[('제', 'XPN'),\n",
       " ('1', 'SN'),\n",
       " ('조', 'NNG'),\n",
       " ('(', 'SSO'),\n",
       " ('목적', 'NNG'),\n",
       " (')', 'SSC'),\n",
       " ('이', 'JKS'),\n",
       " ('법', 'NNG'),\n",
       " ('은', 'JX'),\n",
       " ('산업', 'NNG')]"
      ]
     },
     "execution_count": 32,
     "metadata": {},
     "output_type": "execute_result"
    }
   ],
   "source": [
    "words = []\n",
    "for post in posts:\n",
    "    words.extend(tagger.pos(post))\n",
    "words[0:10]"
   ]
  },
  {
   "cell_type": "code",
   "execution_count": 33,
   "metadata": {},
   "outputs": [
    {
     "data": {
      "text/plain": [
       "['하다', '의하다', '인하다', '걸리다', '정하다', '하다', '맡기다', '받다', '받다', '받다']"
      ]
     },
     "execution_count": 33,
     "metadata": {},
     "output_type": "execute_result"
    }
   ],
   "source": [
    "verbs=[]\n",
    "for word in words:\n",
    "    if word[1]=='VV':\n",
    "        verbs.append(word[0]+'다')\n",
    "verbs[0:10]"
   ]
  },
  {
   "cell_type": "code",
   "execution_count": 34,
   "metadata": {},
   "outputs": [
    {
     "data": {
      "text/plain": [
       "['같다', '심하다', '있다', '없다', '같다', '같다', '같다', '같다', '같다', '없다']"
      ]
     },
     "execution_count": 34,
     "metadata": {},
     "output_type": "execute_result"
    }
   ],
   "source": [
    "adjective=[]\n",
    "for word in words:\n",
    "    if word[1]=='VA':\n",
    "        adjective.append(word[0]+'다')\n",
    "adjective[0:10]"
   ]
  },
  {
   "cell_type": "code",
   "execution_count": 35,
   "metadata": {},
   "outputs": [
    {
     "data": {
      "text/plain": [
       "[('항', 2290),\n",
       " ('조제', 1533),\n",
       " ('안전', 1016),\n",
       " ('경우', 907),\n",
       " ('조', 740),\n",
       " ('보건', 671),\n",
       " ('고용', 571),\n",
       " ('자제', 446),\n",
       " ('물질', 420),\n",
       " ('호', 398),\n",
       " ('위반', 382),\n",
       " ('근로자', 353),\n",
       " ('해당', 353),\n",
       " ('사항', 347),\n",
       " ('작업', 342),\n",
       " ('기관', 320),\n",
       " ('노동', 302),\n",
       " ('부령', 301),\n",
       " ('장관', 262),\n",
       " ('노동부', 261)]"
      ]
     },
     "execution_count": 35,
     "metadata": {},
     "output_type": "execute_result"
    }
   ],
   "source": [
    "from collections import Counter\n",
    "counted_nouns = Counter(nouns)\n",
    "top_20 = counted_nouns.most_common(20)\n",
    "top_20"
   ]
  },
  {
   "cell_type": "code",
   "execution_count": null,
   "metadata": {},
   "outputs": [],
   "source": []
  }
 ],
 "metadata": {
  "kernelspec": {
   "display_name": "Python 3",
   "language": "python",
   "name": "python3"
  },
  "language_info": {
   "codemirror_mode": {
    "name": "ipython",
    "version": 3
   },
   "file_extension": ".py",
   "mimetype": "text/x-python",
   "name": "python",
   "nbconvert_exporter": "python",
   "pygments_lexer": "ipython3",
   "version": "3.8.5"
  }
 },
 "nbformat": 4,
 "nbformat_minor": 2
}
