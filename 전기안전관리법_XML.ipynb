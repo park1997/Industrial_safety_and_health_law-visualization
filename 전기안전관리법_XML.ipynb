{
 "cells": [
  {
   "cell_type": "code",
   "execution_count": 1,
   "metadata": {},
   "outputs": [],
   "source": [
    "import requests\n",
    "from urllib.request import urlopen\n",
    "from urllib.parse import urlencode,unquote,quote_plus\n",
    "import urllib\n",
    "import lxml\n",
    "import pandas as pd\n",
    "import numpy as np\n",
    "from bs4 import BeautifulSoup\n",
    "import re"
   ]
  },
  {
   "cell_type": "code",
   "execution_count": 2,
   "metadata": {},
   "outputs": [
    {
     "name": "stdout",
     "output_type": "stream",
     "text": [
      " http://www.law.go.kr/DRF/lawService.do?OC=bmsong&target=eflaw&MST=216209&type=XML\n"
     ]
    }
   ],
   "source": [
    "# 법령 XML 상세조회 (시행기준. target=eflaw)\n",
    "\n",
    "#기본 url\n",
    "url_base = \" http://www.law.go.kr/DRF/lawService.do\"\n",
    "\n",
    "#조회 url 세부 설정\n",
    "user_id = 'bmsong' #open API ID (bmsong@kau.ac.kr의 아이디 부분)\n",
    "target = \"eflaw\" #법령 조회시\n",
    "MST = \"216209\" #ID 또는 MST #전기안전관리법 MST 216209\n",
    "#ID = \"013718\" \n",
    "            #ID 전기안전관리법 법령ID 013718 (설명에는 ID로 조회하면 현행법령이 조회된다는데, \n",
    "            #target을 eflaw로 하면 ID로 요청해도, MST로 요청해도 같은 것 같다.\n",
    "Type = \"XML\" #출력 형태 : HTML 또는 XML\n",
    "\n",
    "url_sub = \"?\" +\\\n",
    "        \"OC=\" + user_id +\\\n",
    "        \"&target=\" + target +\\\n",
    "        \"&MST=\" + MST +\\\n",
    "        \"&type=\" + Type\n",
    "\n",
    "#최종 url\n",
    "url = url_base + url_sub\n",
    "\n",
    "print(url)\n",
    "\n",
    "response = requests.get(url)\n",
    "\n",
    "#(1) response.text 사용하는 방법\n",
    "#soup = BeautifulSoup(response.text.encode('utf-8'), 'lxml-xml') #lxml-xml -> lxml 추가 설치 필요(Beautifulsoup과 별도로 설치)\n",
    "\n",
    "#(2) response.content 사용하는 방법\n",
    "soup = BeautifulSoup(response.content, 'lxml-xml') #lxml-xml -> lxml 추가 설치 필요(Beautifulsoup과 별도로 설치)\n",
    "\n",
    "\n",
    "# soup"
   ]
  }
 ],
 "metadata": {
  "kernelspec": {
   "display_name": "Python 3",
   "language": "python",
   "name": "python3"
  },
  "language_info": {
   "codemirror_mode": {
    "name": "ipython",
    "version": 3
   },
   "file_extension": ".py",
   "mimetype": "text/x-python",
   "name": "python",
   "nbconvert_exporter": "python",
   "pygments_lexer": "ipython3",
   "version": "3.8.5"
  }
 },
 "nbformat": 4,
 "nbformat_minor": 4
}
